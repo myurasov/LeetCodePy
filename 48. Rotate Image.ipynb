{
 "cells": [
  {
   "cell_type": "code",
   "execution_count": 60,
   "metadata": {
    "collapsed": true
   },
   "outputs": [],
   "source": [
    "class Solution(object):\n",
    "    def rotate(self, matrix, clockwise=True):\n",
    "        \"\"\"\n",
    "        :type matrix: List[List[int]]\n",
    "        :rtype: void Do not return anything, modify matrix in-place instead.\n",
    "        \"\"\"\n",
    "\n",
    "        rows = len(matrix)\n",
    "        cols = len(matrix[0]) if rows else 0\n",
    "\n",
    "        if clockwise:\n",
    "\n",
    "            # reverse vertically\n",
    "            for i in range(rows // 2):\n",
    "                matrix[i], matrix[cols - i - 1] = \\\n",
    "                    matrix[cols - i - 1], matrix[i]\n",
    "\n",
    "        else:\n",
    "            # couterclockwise\n",
    "\n",
    "            # reverse left to right\n",
    "            for r in range(rows):\n",
    "                for c in range(cols // 2):\n",
    "                    matrix[r][cols - c - 1], matrix[r][c] = \\\n",
    "                        matrix[r][c], matrix[r][cols - c - 1]\n",
    "\n",
    "        # swap r <-> c over the main diagonal\n",
    "        for r in range(rows):\n",
    "            for c in range(r + 1, cols):\n",
    "                matrix[r][c], matrix[c][r] = \\\n",
    "                    matrix[c][r], matrix[r][c]"
   ]
  },
  {
   "cell_type": "code",
   "execution_count": 61,
   "metadata": {},
   "outputs": [
    {
     "name": "stdout",
     "output_type": "stream",
     "text": [
      "[7, 4, 1]\n",
      "[8, 5, 2]\n",
      "[9, 6, 3]\n"
     ]
    }
   ],
   "source": [
    "m = [\n",
    "  [1,2,3],\n",
    "  [4,5,6],\n",
    "  [7,8,9]\n",
    "]\n",
    "\n",
    "Solution().rotate(m)\n",
    "\n",
    "\n",
    "for row in m:\n",
    "    print(row)"
   ]
  },
  {
   "cell_type": "code",
   "execution_count": 55,
   "metadata": {},
   "outputs": [
    {
     "name": "stdout",
     "output_type": "stream",
     "text": [
      "None\n"
     ]
    }
   ],
   "source": [
    "r = Solution().rotate([\n",
    "    [5,  1,  9,  11], \n",
    "    [2,  4,  8,  10],\n",
    "    [13, 3,  6,  7], \n",
    "    [15, 14, 12, 16]\n",
    "])\n",
    "\n",
    "\n",
    "print(r)"
   ]
  }
 ],
 "metadata": {
  "kernelspec": {
   "display_name": "Python 3",
   "language": "python",
   "name": "python3"
  },
  "language_info": {
   "codemirror_mode": {
    "name": "ipython",
    "version": 3
   },
   "file_extension": ".py",
   "mimetype": "text/x-python",
   "name": "python",
   "nbconvert_exporter": "python",
   "pygments_lexer": "ipython3",
   "version": "3.5.2"
  }
 },
 "nbformat": 4,
 "nbformat_minor": 2
}

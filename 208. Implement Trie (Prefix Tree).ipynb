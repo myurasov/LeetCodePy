{
 "cells": [
  {
   "cell_type": "code",
   "execution_count": 61,
   "metadata": {
    "collapsed": true
   },
   "outputs": [],
   "source": [
    "class Trie(object):\n",
    "    def __init__(self):\n",
    "        \"\"\"\n",
    "        Initialize your data structure here.\n",
    "        \"\"\"\n",
    "\n",
    "        self.root = {}\n",
    "\n",
    "    def insert(self, word):\n",
    "        \"\"\"\n",
    "        Inserts a word into the trie.\n",
    "        :type word: str\n",
    "        :rtype: void\n",
    "        \"\"\"\n",
    "\n",
    "        n = self.root\n",
    "\n",
    "        for l in word:\n",
    "            if not (l in n):\n",
    "                n[l] = {}\n",
    "            n = n[l]\n",
    "\n",
    "        n['end_of_word'] = True\n",
    "\n",
    "    def search(self, word):\n",
    "        \"\"\"\n",
    "        Returns if the word is in the trie.\n",
    "        :type word: str\n",
    "        :rtype: bool\n",
    "        \"\"\"\n",
    "\n",
    "        n = self.root\n",
    "\n",
    "        for l in word:\n",
    "            if not (l in n):\n",
    "                return False\n",
    "            n = n[l]\n",
    "\n",
    "        return 'end_of_word' in n\n",
    "\n",
    "    def startsWith(self, prefix):\n",
    "        \"\"\"\n",
    "        Returns if there is any word in the trie that starts with the given prefix.\n",
    "        :type prefix: str\n",
    "        :rtype: bool\n",
    "        \"\"\"\n",
    "\n",
    "        n = self.root\n",
    "\n",
    "        for l in prefix:\n",
    "            if not (l in n):\n",
    "                return False\n",
    "            n = n[l]\n",
    "\n",
    "        return True\n",
    "\n",
    "\n",
    "# Your Trie object will be instantiated and called as such:\n",
    "# obj = Trie()\n",
    "# obj.insert(word)\n",
    "# param_2 = obj.search(word)\n",
    "# param_3 = obj.startsWith(prefix)"
   ]
  },
  {
   "cell_type": "code",
   "execution_count": 62,
   "metadata": {
    "collapsed": true
   },
   "outputs": [],
   "source": [
    "obj = Trie()"
   ]
  },
  {
   "cell_type": "code",
   "execution_count": 63,
   "metadata": {},
   "outputs": [
    {
     "name": "stdout",
     "output_type": "stream",
     "text": [
      "True\n",
      "True\n"
     ]
    }
   ],
   "source": [
    "word = 'abcdef'\n",
    "obj.insert(word)\n",
    "print(obj.search(word))\n",
    "print(obj.startsWith(word[:3]))"
   ]
  },
  {
   "cell_type": "code",
   "execution_count": 64,
   "metadata": {
    "collapsed": true
   },
   "outputs": [],
   "source": [
    "def test(cmds, args):\n",
    "    t = None\n",
    "    \n",
    "    for c, a in zip(cmds, args):\n",
    "        if 'Trie' == c:\n",
    "            t = Trie()\n",
    "        elif 'insert' == c:\n",
    "            print('t.insert(\\'%s\\') =='%a[0], t.insert(a[0]))\n",
    "        elif 'search' == c:\n",
    "            print('t.search(\\'%s\\') =='%a[0], t.search(a[0]))\n",
    "        elif 'startsWith' == c:\n",
    "            print('t.startsWith(\\'%s\\') =='%a[0], t.startsWith(a[0]))"
   ]
  },
  {
   "cell_type": "code",
   "execution_count": 65,
   "metadata": {},
   "outputs": [
    {
     "name": "stdout",
     "output_type": "stream",
     "text": [
      "t.insert('abc') == None\n",
      "t.search('abc') == True\n",
      "t.search('ab') == False\n",
      "t.insert('ab') == None\n",
      "t.search('ab') == True\n",
      "t.insert('ab') == None\n",
      "t.search('ab') == True\n"
     ]
    }
   ],
   "source": [
    "cmds, args = [\"Trie\",\"insert\",\"search\",\"search\",\"insert\",\"search\",\"insert\",\"search\"], \\\n",
    "    [[],[\"abc\"],[\"abc\"],[\"ab\"],[\"ab\"],[\"ab\"],[\"ab\"],[\"ab\"]]\n",
    "test(cmds, args)"
   ]
  },
  {
   "cell_type": "code",
   "execution_count": null,
   "metadata": {
    "collapsed": true
   },
   "outputs": [],
   "source": []
  }
 ],
 "metadata": {
  "kernelspec": {
   "display_name": "Python 3",
   "language": "python",
   "name": "python3"
  },
  "language_info": {
   "codemirror_mode": {
    "name": "ipython",
    "version": 3
   },
   "file_extension": ".py",
   "mimetype": "text/x-python",
   "name": "python",
   "nbconvert_exporter": "python",
   "pygments_lexer": "ipython3",
   "version": "3.5.2"
  }
 },
 "nbformat": 4,
 "nbformat_minor": 2
}

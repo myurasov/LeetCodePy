{
 "cells": [
  {
   "cell_type": "code",
   "execution_count": 34,
   "metadata": {},
   "outputs": [],
   "source": [
    "class Solution(object):\n",
    "    def readBinaryWatch(self, num):\n",
    "        \"\"\"\n",
    "        :type num: int\n",
    "        :rtype: List[str]\n",
    "        \"\"\"\n",
    "\n",
    "        r = []\n",
    "\n",
    "        h1 = [0] * 12\n",
    "        m1 = [0] * 60\n",
    "\n",
    "        for i in range(0, 12):\n",
    "            h1[i] = self.countOnes(i)\n",
    "\n",
    "        for i in range(0, 60):\n",
    "            m1[i] = self.countOnes(i)\n",
    "\n",
    "        for h in range(0, 12):\n",
    "            if h1[h] <= num:\n",
    "                for m in range(0, 60):\n",
    "                    if h1[h] + m1[m] == num:\n",
    "                        r.append('%d:%02d' % (h, m))\n",
    "                        \n",
    "        return r\n",
    "\n",
    "    def countOnes(self, n):\n",
    "        r = 0\n",
    "        while n > 0:\n",
    "            r += n & 1\n",
    "            n = n >> 1\n",
    "        return r"
   ]
  },
  {
   "cell_type": "code",
   "execution_count": 36,
   "metadata": {},
   "outputs": [
    {
     "data": {
      "text/plain": [
       "['0:03',\n",
       " '0:05',\n",
       " '0:06',\n",
       " '0:09',\n",
       " '0:10',\n",
       " '0:12',\n",
       " '0:17',\n",
       " '0:18',\n",
       " '0:20',\n",
       " '0:24',\n",
       " '0:33',\n",
       " '0:34',\n",
       " '0:36',\n",
       " '0:40',\n",
       " '0:48',\n",
       " '1:01',\n",
       " '1:02',\n",
       " '1:04',\n",
       " '1:08',\n",
       " '1:16',\n",
       " '1:32',\n",
       " '2:01',\n",
       " '2:02',\n",
       " '2:04',\n",
       " '2:08',\n",
       " '2:16',\n",
       " '2:32',\n",
       " '3:00',\n",
       " '4:01',\n",
       " '4:02',\n",
       " '4:04',\n",
       " '4:08',\n",
       " '4:16',\n",
       " '4:32',\n",
       " '5:00',\n",
       " '6:00',\n",
       " '8:01',\n",
       " '8:02',\n",
       " '8:04',\n",
       " '8:08',\n",
       " '8:16',\n",
       " '8:32',\n",
       " '9:00',\n",
       " '10:00']"
      ]
     },
     "execution_count": 36,
     "metadata": {},
     "output_type": "execute_result"
    }
   ],
   "source": [
    "Solution().readBinaryWatch(2)"
   ]
  }
 ],
 "metadata": {
  "kernelspec": {
   "display_name": "Python 3",
   "language": "python",
   "name": "python3"
  },
  "language_info": {
   "codemirror_mode": {
    "name": "ipython",
    "version": 3
   },
   "file_extension": ".py",
   "mimetype": "text/x-python",
   "name": "python",
   "nbconvert_exporter": "python",
   "pygments_lexer": "ipython3",
   "version": "3.5.2"
  }
 },
 "nbformat": 4,
 "nbformat_minor": 2
}

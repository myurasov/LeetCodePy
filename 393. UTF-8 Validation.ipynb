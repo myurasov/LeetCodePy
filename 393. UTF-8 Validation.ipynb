{
 "cells": [
  {
   "cell_type": "code",
   "execution_count": 101,
   "metadata": {},
   "outputs": [],
   "source": [
    "p = 1\n",
    "\n",
    "\n",
    "class Solution(object):\n",
    "    def validUtf8(self, data):\n",
    "        \"\"\"\n",
    "        :type data: List[int]\n",
    "        :rtype: bool\n",
    "        \"\"\"\n",
    "\n",
    "        if p:\n",
    "            for d in data:\n",
    "                print(format(d, 'b').zfill(8))\n",
    "\n",
    "            print('')\n",
    "\n",
    "        i = 0\n",
    "\n",
    "        while i < len(data):\n",
    "\n",
    "            if p: print('i', i)\n",
    "\n",
    "            if 0 == data[i] & 0b10000000:\n",
    "\n",
    "                if p:\n",
    "                    print(i, '1-byte', data[i], format(data[i], 'b').zfill(8))\n",
    "\n",
    "                i += 1\n",
    "\n",
    "            elif i < len(data) - 1 \\\n",
    "                and 0b11000000 == data[i] & 0b11100000\\\n",
    "                and 0b10000000 == data[i + 1] & 0b11000000:\n",
    "\n",
    "                if p:\n",
    "                    print(i, '2-byte', data[i], data[i + 1],\n",
    "                          format(data[i], 'b').zfill(8),\n",
    "                          format(data[i + 1], 'b').zfill(8))\n",
    "\n",
    "                i += 2\n",
    "\n",
    "            elif i < len(data) - 2 \\\n",
    "                and 0b11100000 == data[i] & 0b11110000 \\\n",
    "                and 0b10000000 == data[i + 1] & 0b11000000 \\\n",
    "                and 0b10000000 == data[i + 2] & 0b11000000:\n",
    "\n",
    "                if p:\n",
    "                    print(i, '3-byte', data[i], data[i + 1], data[i + 2],\n",
    "                          format(data[i], 'b').zfill(8),\n",
    "                          format(data[i + 1], 'b').zfill(8),\n",
    "                          format(data[i + 2], 'b').zfill(8))\n",
    "\n",
    "                i += 3\n",
    "\n",
    "            elif i < len(data) - 3 \\\n",
    "                and 0b11110000 == data[i] & 0b11111000 \\\n",
    "                and 0b10000000 == data[i + 1] & 0b11000000 \\\n",
    "                and 0b10000000 == data[i + 2] & 0b11000000 \\\n",
    "                and 0b10000000 == data[i + 3] & 0b11000000:\n",
    "\n",
    "                if p:\n",
    "                    print(i, '4-byte', data[i], data[i + 1], data[i + 2],\n",
    "                          data[i + 3],\n",
    "                          format(data[i], 'b').zfill(8),\n",
    "                          format(data[i + 1], 'b').zfill(8),\n",
    "                          format(data[i + 2], 'b').zfill(8),\n",
    "                          format(data[i + 3], 'b').zfill(8))\n",
    "\n",
    "                i += 4\n",
    "\n",
    "            else:\n",
    "                return False\n",
    "\n",
    "        return True"
   ]
  },
  {
   "cell_type": "code",
   "execution_count": 102,
   "metadata": {},
   "outputs": [
    {
     "name": "stdout",
     "output_type": "stream",
     "text": [
      "11000101\n",
      "10000010\n",
      "00000001\n",
      "\n",
      "i 0\n",
      "0 2-byte 197 130 11000101 10000010\n",
      "i 2\n",
      "2 1-byte 1 00000001\n"
     ]
    },
    {
     "data": {
      "text/plain": [
       "True"
      ]
     },
     "execution_count": 102,
     "metadata": {},
     "output_type": "execute_result"
    }
   ],
   "source": [
    "Solution().validUtf8([197, 130, 1])"
   ]
  },
  {
   "cell_type": "code",
   "execution_count": 103,
   "metadata": {},
   "outputs": [
    {
     "name": "stdout",
     "output_type": "stream",
     "text": [
      "11101011\n",
      "10001100\n",
      "00000100\n",
      "\n",
      "i 0\n"
     ]
    },
    {
     "data": {
      "text/plain": [
       "False"
      ]
     },
     "execution_count": 103,
     "metadata": {},
     "output_type": "execute_result"
    }
   ],
   "source": [
    "Solution().validUtf8([235, 140, 4])"
   ]
  },
  {
   "cell_type": "code",
   "execution_count": 104,
   "metadata": {},
   "outputs": [
    {
     "name": "stdout",
     "output_type": "stream",
     "text": [
      "11110000\n",
      "10100010\n",
      "10001010\n",
      "10010011\n",
      "\n",
      "i 0\n",
      "0 4-byte 240 162 138 147 11110000 10100010 10001010 10010011\n"
     ]
    },
    {
     "data": {
      "text/plain": [
       "True"
      ]
     },
     "execution_count": 104,
     "metadata": {},
     "output_type": "execute_result"
    }
   ],
   "source": [
    "Solution().validUtf8([240, 162, 138, 147])  # true"
   ]
  }
 ],
 "metadata": {
  "kernelspec": {
   "display_name": "Python 3",
   "language": "python",
   "name": "python3"
  },
  "language_info": {
   "codemirror_mode": {
    "name": "ipython",
    "version": 3
   },
   "file_extension": ".py",
   "mimetype": "text/x-python",
   "name": "python",
   "nbconvert_exporter": "python",
   "pygments_lexer": "ipython3",
   "version": "3.5.2"
  }
 },
 "nbformat": 4,
 "nbformat_minor": 2
}

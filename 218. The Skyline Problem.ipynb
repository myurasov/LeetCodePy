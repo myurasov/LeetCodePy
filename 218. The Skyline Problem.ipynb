{
 "cells": [
  {
   "cell_type": "code",
   "execution_count": 116,
   "metadata": {
    "collapsed": true
   },
   "outputs": [],
   "source": [
    "from collections import defaultdict\n",
    "from heapq import *\n",
    "\n",
    "\n",
    "class Solution(object):\n",
    "    def getSkyline(self, buildings):\n",
    "        \"\"\"\n",
    "        :type buildings: List[List[int]]\n",
    "        :rtype: List[List[int]]\n",
    "        \"\"\"\n",
    "\n",
    "        points = set()\n",
    "\n",
    "        for b in buildings:\n",
    "            points.add(b[0])\n",
    "            points.add(b[1])\n",
    "\n",
    "        points = sorted(list(points))\n",
    "\n",
    "        # ends_at => height\n",
    "        queue = defaultdict(list)\n",
    "\n",
    "        i = 0\n",
    "        h = 0\n",
    "        res = []\n",
    "\n",
    "        for p in points:\n",
    "            # remove building ending at this point\n",
    "            if p in queue: del queue[p]\n",
    "\n",
    "            # find buildings starting at this point\n",
    "            while i < len(buildings) and buildings[i][0] == p:\n",
    "                ends, height = buildings[i][1:]\n",
    "                heappush(queue[ends], -height)  # heapq is minheap\n",
    "                i += 1\n",
    "\n",
    "            # find max height\n",
    "            max_h = 0\n",
    "            for k in queue:\n",
    "                if -queue[k][0] > max_h: max_h = -queue[k][0]\n",
    "\n",
    "            # if max_h changes, skyline changes too\n",
    "            if max_h != h:\n",
    "                h = max_h\n",
    "                res.append([p, h])\n",
    "\n",
    "        return res"
   ]
  },
  {
   "cell_type": "code",
   "execution_count": 117,
   "metadata": {},
   "outputs": [
    {
     "data": {
      "text/plain": [
       "[[2, 7], [4, 0]]"
      ]
     },
     "execution_count": 117,
     "metadata": {},
     "output_type": "execute_result"
    }
   ],
   "source": [
    "Solution().getSkyline([[2,4,7],[2,4,5],[2,4,6]])"
   ]
  },
  {
   "cell_type": "code",
   "execution_count": 118,
   "metadata": {},
   "outputs": [
    {
     "data": {
      "text/plain": [
       "[[2, 10], [3, 15], [7, 12], [12, 0], [15, 10], [20, 8], [24, 0]]"
      ]
     },
     "execution_count": 118,
     "metadata": {},
     "output_type": "execute_result"
    }
   ],
   "source": [
    "Solution().getSkyline([[2, 9, 10], [3, 7, 15], [5, 12, 12], [15, 20, 10], [19, 24, 8]])"
   ]
  },
  {
   "cell_type": "code",
   "execution_count": null,
   "metadata": {
    "collapsed": true
   },
   "outputs": [],
   "source": [
    "heap"
   ]
  }
 ],
 "metadata": {
  "kernelspec": {
   "display_name": "Python 3",
   "language": "python",
   "name": "python3"
  },
  "language_info": {
   "codemirror_mode": {
    "name": "ipython",
    "version": 3
   },
   "file_extension": ".py",
   "mimetype": "text/x-python",
   "name": "python",
   "nbconvert_exporter": "python",
   "pygments_lexer": "ipython3",
   "version": "3.5.2"
  }
 },
 "nbformat": 4,
 "nbformat_minor": 2
}

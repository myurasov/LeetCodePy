{
 "cells": [
  {
   "cell_type": "code",
   "execution_count": 50,
   "metadata": {
    "collapsed": true
   },
   "outputs": [],
   "source": [
    "class Solution(object):\n",
    "    def reconstructQueue(self, people):\n",
    "        \"\"\"\n",
    "        :type people: List[List[int]]\n",
    "        :rtype: List[List[int]]\n",
    "        \"\"\"\n",
    "\n",
    "        # p = [h, k]\n",
    "        # sort people by height with people with less preceding in front\n",
    "        people.sort(key=lambda x: (-x[0], x[1]))\n",
    "\n",
    "        for i in range(len(people)):\n",
    "\n",
    "            p = people[i]\n",
    "\n",
    "            # find appropriate position for a person\n",
    "\n",
    "            c = p[1]\n",
    "            j = 0\n",
    "\n",
    "            while c > 0 and j < len(people):\n",
    "                if people[j][0] >= p[0]:\n",
    "                    c -= 1\n",
    "                j += 1\n",
    "\n",
    "            # print(people)\n",
    "            # print(p, '@', j)\n",
    "\n",
    "            # move person to new position j\n",
    "            if i != j:\n",
    "                people.insert(j, p)\n",
    "\n",
    "                if j < i:\n",
    "                    people.pop(i + 1)\n",
    "                else:\n",
    "                    people.pop(i)\n",
    "\n",
    "            # print(people, '\\n')\n",
    "\n",
    "        return people"
   ]
  },
  {
   "cell_type": "code",
   "execution_count": 69,
   "metadata": {
    "collapsed": true
   },
   "outputs": [],
   "source": [
    "class Solution(object):\n",
    "    def reconstructQueue(self, people):\n",
    "        \"\"\"\n",
    "        :type people: List[List[int]]\n",
    "        :rtype: List[List[int]]\n",
    "        \"\"\"\n",
    "        \n",
    "        res = []\n",
    "        \n",
    "        # sort by H (x[0]) desc, then by K (x[1]) asc\n",
    "        people.sort(key=lambda x: (-x[0], x[1]))\n",
    "        \n",
    "        # insert in rs at apropriate position\n",
    "        # the fact that array is sorted ensures\n",
    "        # that every element from the left subtracts 1 from K\n",
    "        # therefore K is the position it shoukld be in\n",
    "        for p in people:\n",
    "            res.insert(p[1], p)\n",
    "            \n",
    "        return res"
   ]
  },
  {
   "cell_type": "code",
   "execution_count": 70,
   "metadata": {},
   "outputs": [
    {
     "data": {
      "text/plain": [
       "[[5, 0], [7, 0], [5, 2], [6, 1], [4, 4], [7, 1]]"
      ]
     },
     "execution_count": 70,
     "metadata": {},
     "output_type": "execute_result"
    }
   ],
   "source": [
    "s = Solution()\n",
    "s.reconstructQueue([[7,0], [4,4], [7,1], [5,0], [6,1], [5,2]])\n",
    "# [[5,0], [7,0], [5,2], [6,1], [4,4], [7,1]]"
   ]
  },
  {
   "cell_type": "code",
   "execution_count": 52,
   "metadata": {},
   "outputs": [
    {
     "data": {
      "text/plain": [
       "[[3, 0],\n",
       " [6, 0],\n",
       " [7, 0],\n",
       " [5, 2],\n",
       " [3, 4],\n",
       " [5, 3],\n",
       " [6, 2],\n",
       " [2, 7],\n",
       " [9, 0],\n",
       " [1, 9]]"
      ]
     },
     "execution_count": 52,
     "metadata": {},
     "output_type": "execute_result"
    }
   ],
   "source": [
    "s = Solution()\n",
    "s.reconstructQueue([[9,0],[7,0],[1,9],[3,0],[2,7],[5,3],[6,0],[3,4],[6,2],[5,2]])\n",
    "# [[3,0],[6,0],[7,0],[5,2],[3,4],[5,3],[6,2],[2,7],[9,0],[1,9]]"
   ]
  },
  {
   "cell_type": "markdown",
   "metadata": {},
   "source": [
    "```\n",
    "[[7, 0], [7, 1], [6, 1], [5, 0], [5, 2], [4, 4]]\n",
    "\n",
    "7,0 : [[7, 0], [7, 1], [6, 1], [5, 0], [5, 2], [4, 4]]\n",
    "\n",
    "7,1 : [[7, 0], [7, 1], [6, 1], [5, 0], [5, 2], [4, 4]]\n",
    "\n",
    "6,1 : [[7, 0], [6, 1], [7, 1], [5, 0], [5, 2], [4, 4]]\n",
    "\n",
    "5,0 : [[5, 0], [7, 0], [6, 1], [7, 1], [5, 2], [4, 4]]\n",
    "\n",
    "5,2 : [[5, 0], [7, 0], [5, 2], [6, 1], [7, 1], [4, 4]]\n",
    "    \n",
    "4,4 : [[5, 0], [7, 0], [5, 2], [6, 1], [4, 4], [7, 1]]\n",
    "```"
   ]
  }
 ],
 "metadata": {
  "kernelspec": {
   "display_name": "Python 3",
   "language": "python",
   "name": "python3"
  },
  "language_info": {
   "codemirror_mode": {
    "name": "ipython",
    "version": 3
   },
   "file_extension": ".py",
   "mimetype": "text/x-python",
   "name": "python",
   "nbconvert_exporter": "python",
   "pygments_lexer": "ipython3",
   "version": "3.5.2"
  }
 },
 "nbformat": 4,
 "nbformat_minor": 2
}

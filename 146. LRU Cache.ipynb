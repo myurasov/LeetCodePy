{
 "cells": [
  {
   "cell_type": "code",
   "execution_count": null,
   "metadata": {
    "collapsed": true
   },
   "outputs": [],
   "source": [
    "# 1 - slow"
   ]
  },
  {
   "cell_type": "code",
   "execution_count": 44,
   "metadata": {},
   "outputs": [],
   "source": [
    "class LRUCacheEntry():\n",
    "    def __init__(self, key, value, time):\n",
    "        self.key = key\n",
    "        self.value = value\n",
    "        self.time = time\n",
    "\n",
    "    def __gt__(e1, e2):\n",
    "        return e1.time > e2.time\n",
    "\n",
    "    def __ge__(e1, e2):\n",
    "        return e1.time >= e2.time\n",
    "\n",
    "    def __eq__(e1, e2):\n",
    "        return e1.time == e2.time\n",
    "\n",
    "    def __repr__(self):\n",
    "        return '(key=%d; value=%d; time=%d)' % (self.key, self.value,\n",
    "                                                self.time)\n",
    "\n",
    "\n",
    "class LRUCache(object):\n",
    "    def __init__(self, capacity):\n",
    "        \"\"\"\n",
    "        :type capacity: int\n",
    "        \"\"\"\n",
    "\n",
    "        self._time = 0\n",
    "        self._capacity = capacity\n",
    "        self._items = {}  # [{key,value,time}]\n",
    "\n",
    "    def get(self, key):\n",
    "        \"\"\"\n",
    "        :type key: int\n",
    "        :rtype: int\n",
    "        \"\"\"\n",
    "\n",
    "        if key in self._items:\n",
    "            self._time += 1\n",
    "            self._items[key].time = self._time\n",
    "            return self._items[key].value\n",
    "        else:\n",
    "            return -1\n",
    "\n",
    "    def put(self, key, value):\n",
    "        \"\"\"\n",
    "        :type key: int\n",
    "        :type value: int\n",
    "        :rtype: void\n",
    "        \"\"\"\n",
    "\n",
    "        self._time += 1\n",
    "\n",
    "        if not key in self._items:\n",
    "\n",
    "            self._items[key] = LRUCacheEntry(key, value, self._time)\n",
    "\n",
    "        else:\n",
    "\n",
    "            self._items[key].time = self._time\n",
    "            self._items[key].value = value\n",
    "\n",
    "        # remove least accesses item\n",
    "        if len(self._items) > self._capacity:\n",
    "            mintime = self._time\n",
    "            key_to_remove = key\n",
    "\n",
    "            for k in self._items:\n",
    "                v = self._items[k]\n",
    "                if v.time < mintime:\n",
    "                    mintime = v.time\n",
    "                    key_to_remove = k\n",
    "\n",
    "            del self._items[key_to_remove]"
   ]
  },
  {
   "cell_type": "code",
   "execution_count": 47,
   "metadata": {},
   "outputs": [],
   "source": [
    "cache = LRUCache(2)\n",
    "\n",
    "cache.put(1, 1)"
   ]
  },
  {
   "cell_type": "code",
   "execution_count": 48,
   "metadata": {},
   "outputs": [],
   "source": [
    "cache.put(2, 2)\n",
    "# print(cache._items, cache._indexes)"
   ]
  },
  {
   "cell_type": "code",
   "execution_count": 49,
   "metadata": {},
   "outputs": [
    {
     "name": "stdout",
     "output_type": "stream",
     "text": [
      "1\n"
     ]
    }
   ],
   "source": [
    "print(cache.get(1))\n",
    "# returns 1"
   ]
  },
  {
   "cell_type": "code",
   "execution_count": 43,
   "metadata": {},
   "outputs": [
    {
     "name": "stdout",
     "output_type": "stream",
     "text": [
      "(key=2; value=2; time=2)\n",
      "(key=100; value=1; time=1)\n"
     ]
    }
   ],
   "source": [
    "for i in cache._items:\n",
    "    print(cache._items[i])"
   ]
  },
  {
   "cell_type": "code",
   "execution_count": 50,
   "metadata": {},
   "outputs": [],
   "source": [
    "# print(cache._items, cache._indexes)\n",
    "\n",
    "cache.put(3, 3)\n",
    "# evicts key 2\n",
    "# print(cache._items, cache._indexes)"
   ]
  },
  {
   "cell_type": "code",
   "execution_count": 51,
   "metadata": {},
   "outputs": [
    {
     "name": "stdout",
     "output_type": "stream",
     "text": [
      "-1\n"
     ]
    }
   ],
   "source": [
    "print(cache.get(2))\n",
    "# returns -1 (not found)"
   ]
  },
  {
   "cell_type": "code",
   "execution_count": null,
   "metadata": {
    "collapsed": true
   },
   "outputs": [],
   "source": [
    "print(cache._items, cache._indexes, cache._deleted)"
   ]
  },
  {
   "cell_type": "code",
   "execution_count": 52,
   "metadata": {
    "collapsed": true
   },
   "outputs": [],
   "source": [
    "cache.put(4, 4);    # evicts key 1\n",
    "# print(cache._items, cache._indexes)"
   ]
  },
  {
   "cell_type": "code",
   "execution_count": 53,
   "metadata": {},
   "outputs": [
    {
     "name": "stdout",
     "output_type": "stream",
     "text": [
      "-1\n"
     ]
    }
   ],
   "source": [
    "print(cache.get(1));       # returns -1 (not found)\n",
    "# print(cache._items, cache._indexes)"
   ]
  },
  {
   "cell_type": "code",
   "execution_count": 54,
   "metadata": {},
   "outputs": [
    {
     "name": "stdout",
     "output_type": "stream",
     "text": [
      "3\n"
     ]
    }
   ],
   "source": [
    "print(cache.get(3));       # returns 3"
   ]
  },
  {
   "cell_type": "code",
   "execution_count": 55,
   "metadata": {},
   "outputs": [
    {
     "name": "stdout",
     "output_type": "stream",
     "text": [
      "4\n"
     ]
    }
   ],
   "source": [
    "print(cache.get(4));       # returns 4\n",
    "# # print(cache._items)"
   ]
  },
  {
   "cell_type": "code",
   "execution_count": null,
   "metadata": {
    "collapsed": true
   },
   "outputs": [],
   "source": []
  },
  {
   "cell_type": "code",
   "execution_count": null,
   "metadata": {
    "collapsed": true
   },
   "outputs": [],
   "source": []
  },
  {
   "cell_type": "code",
   "execution_count": null,
   "metadata": {
    "collapsed": true
   },
   "outputs": [],
   "source": [
    "# 2 - with collections.OrderedDict"
   ]
  },
  {
   "cell_type": "code",
   "execution_count": 88,
   "metadata": {
    "collapsed": true
   },
   "outputs": [],
   "source": [
    "from collections import OrderedDict\n",
    "\n",
    "\n",
    "class LRUCache(object):\n",
    "    def __init__(self, capacity):\n",
    "        \"\"\"\n",
    "        :type capacity: int\n",
    "        \"\"\"\n",
    "        self._items = OrderedDict()\n",
    "        self._capacity = capacity\n",
    "\n",
    "    def get(self, key):\n",
    "        \"\"\"\n",
    "        :type key: int\n",
    "        :rtype: int\n",
    "        \"\"\"\n",
    "\n",
    "        # reinsert at the end with same value\n",
    "        if key in self._items:\n",
    "            r = self._items.pop(key)\n",
    "            self._items[key] = r\n",
    "            return r\n",
    "\n",
    "        return -1\n",
    "\n",
    "    def put(self, key, value):\n",
    "        \"\"\"\n",
    "        :type key: int\n",
    "        :type value: int\n",
    "        :rtype: void\n",
    "        \"\"\"\n",
    "\n",
    "        # (re)insert at the end with new value\n",
    "\n",
    "        if key in self._items:\n",
    "            self._items.pop(key)\n",
    "\n",
    "        self._items[key] = value\n",
    "\n",
    "        # remove first (oldest) item when capacity exceeded\n",
    "        if len(self._items) > self._capacity:\n",
    "            self._items.popitem(last=False)"
   ]
  },
  {
   "cell_type": "code",
   "execution_count": null,
   "metadata": {
    "collapsed": true
   },
   "outputs": [],
   "source": []
  }
 ],
 "metadata": {
  "kernelspec": {
   "display_name": "Python 3",
   "language": "python",
   "name": "python3"
  },
  "language_info": {
   "codemirror_mode": {
    "name": "ipython",
    "version": 3
   },
   "file_extension": ".py",
   "mimetype": "text/x-python",
   "name": "python",
   "nbconvert_exporter": "python",
   "pygments_lexer": "ipython3",
   "version": "3.5.2"
  }
 },
 "nbformat": 4,
 "nbformat_minor": 2
}

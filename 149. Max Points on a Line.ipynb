{
 "cells": [
  {
   "cell_type": "code",
   "execution_count": 75,
   "metadata": {},
   "outputs": [],
   "source": [
    "# Definition for a point.\n",
    "class Point(object):\n",
    "    def __init__(self, a=0, b=0):\n",
    "        self.x = a\n",
    "        self.y = b\n",
    "\n",
    "    def __repr__(self):\n",
    "        return '%d,%d' % (self.x, self.y)\n",
    "\n",
    "\n",
    "def a2p(a):\n",
    "    return [Point(x[0], x[1]) for x in a]"
   ]
  },
  {
   "cell_type": "code",
   "execution_count": 91,
   "metadata": {},
   "outputs": [],
   "source": [
    "from collections import Counter\n",
    "import numpy as np\n",
    "\n",
    "class Solution(object):\n",
    "    def maxPoints(self, points):\n",
    "        \"\"\"\n",
    "        :type points: List[Point]\n",
    "        :rtype: int\n",
    "        \"\"\"\n",
    "\n",
    "        if len(points) == 0: return 0\n",
    "\n",
    "        r = 1\n",
    "\n",
    "        for i in range(len(points)):\n",
    "            same = 1\n",
    "            c = Counter()\n",
    "\n",
    "            for j in range(i + 1, len(points)):\n",
    "\n",
    "                if points[i].x == points[j].x and \\\n",
    "                    points[i].y == points[j].y:\n",
    "                    same += 1\n",
    "                else:\n",
    "                    s = self.slope(points[i], points[j])\n",
    "                    c[s] += 1\n",
    "\n",
    "            r = max(r, same + (c.most_common(1)[0][1] if c else 0))\n",
    "\n",
    "        return r\n",
    "\n",
    "    def slope(self, p1, p2):\n",
    "        \n",
    "        dx = p2.x - p1.x\n",
    "        if dx != 0:\n",
    "            return float(p2.y - p1.y) * np.longdouble(1) / dx\n",
    "        else:\n",
    "            return float('inf')"
   ]
  },
  {
   "cell_type": "code",
   "execution_count": 92,
   "metadata": {},
   "outputs": [
    {
     "data": {
      "text/plain": [
       "2"
      ]
     },
     "execution_count": 92,
     "metadata": {},
     "output_type": "execute_result"
    }
   ],
   "source": [
    "Solution().maxPoints(a2p([[0, 0], [0, 0]])) # ==2"
   ]
  },
  {
   "cell_type": "code",
   "execution_count": 93,
   "metadata": {},
   "outputs": [
    {
     "data": {
      "text/plain": [
       "2"
      ]
     },
     "execution_count": 93,
     "metadata": {},
     "output_type": "execute_result"
    }
   ],
   "source": [
    "Solution().maxPoints(a2p([[0, 0], [94911151, 94911150], [94911152, 94911151]])) # ==2"
   ]
  },
  {
   "cell_type": "code",
   "execution_count": 94,
   "metadata": {},
   "outputs": [
    {
     "data": {
      "text/plain": [
       "6"
      ]
     },
     "execution_count": 94,
     "metadata": {},
     "output_type": "execute_result"
    }
   ],
   "source": [
    "Solution().maxPoints(\n",
    "    a2p([[84, 250], [0, 0], [1, 0], [0, -70], [0, -70], [1, -1], [21, 10],\n",
    "         [42, 90], [-42, -230]])) # == 6"
   ]
  },
  {
   "cell_type": "code",
   "execution_count": null,
   "metadata": {},
   "outputs": [],
   "source": []
  }
 ],
 "metadata": {
  "kernelspec": {
   "display_name": "Python 3",
   "language": "python",
   "name": "python3"
  }
 },
 "nbformat": 4,
 "nbformat_minor": 2
}

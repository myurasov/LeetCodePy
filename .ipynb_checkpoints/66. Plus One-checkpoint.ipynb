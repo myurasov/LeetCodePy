{
 "cells": [
  {
   "cell_type": "code",
   "execution_count": 31,
   "metadata": {
    "collapsed": true
   },
   "outputs": [],
   "source": [
    "class Solution(object):\n",
    "    def plusOne(self, digits):\n",
    "        \"\"\"\n",
    "        :type digits: List[int]\n",
    "        :rtype: List[int]\n",
    "        \"\"\"\n",
    "        \n",
    "        c = 1\n",
    "        res = []\n",
    "        \n",
    "        while len(digits):      \n",
    "            d = digits.pop()\n",
    "            res.insert(0, (d + c) % 10)\n",
    "            c = 1 if d + c > 9 else 0\n",
    "            \n",
    "        if c == 1: res.insert(0, 1)\n",
    "                \n",
    "        return res"
   ]
  },
  {
   "cell_type": "code",
   "execution_count": 32,
   "metadata": {},
   "outputs": [
    {
     "name": "stdout",
     "output_type": "stream",
     "text": [
      "[2, 0, 0]\n",
      "[1, 9, 9, 0]\n",
      "[1, 9, 8, 9]\n",
      "[1, 0]\n"
     ]
    }
   ],
   "source": [
    "s = Solution()\n",
    "print(s.plusOne([1,9,9]))\n",
    "print(s.plusOne([1,9,8,9]))\n",
    "print(s.plusOne([1,9,8,8]))\n",
    "print(s.plusOne([9]))"
   ]
  }
 ],
 "metadata": {
  "kernelspec": {
   "display_name": "Python 3",
   "language": "python",
   "name": "python3"
  },
  "language_info": {
   "codemirror_mode": {
    "name": "ipython",
    "version": 3
   },
   "file_extension": ".py",
   "mimetype": "text/x-python",
   "name": "python",
   "nbconvert_exporter": "python",
   "pygments_lexer": "ipython3",
   "version": "3.5.2"
  }
 },
 "nbformat": 4,
 "nbformat_minor": 2
}

{
 "cells": [
  {
   "cell_type": "code",
   "execution_count": 58,
   "metadata": {
    "collapsed": true
   },
   "outputs": [],
   "source": [
    "class Solution(object):\n",
    "    def islandPerimeter(self, grid):\n",
    "\n",
    "        rows = len(grid)\n",
    "        cols = len(grid[0]) if rows > 0 else 0\n",
    "        p = 0\n",
    "\n",
    "        # A B C\n",
    "        # D * F\n",
    "        # G H I\n",
    "\n",
    "        for r in range(0, rows):\n",
    "            for c in range(0, cols):\n",
    "\n",
    "                if 1 == grid[r][c]:\n",
    "\n",
    "                    # B (r-1, c)\n",
    "                    if r == 0 or grid[r - 1][c] == 0: p += 1\n",
    "\n",
    "                    # D (r, c-1)\n",
    "                    if c == 0 or grid[r][c - 1] == 0: p += 1\n",
    "\n",
    "                    # F (r+1, c)\n",
    "                    if r == rows - 1 or grid[r + 1][c] == 0: p += 1\n",
    "\n",
    "                    # H (r, c+1)\n",
    "                    if c == cols - 1 or grid[r][c + 1] == 0: p += 1\n",
    "        \n",
    "        return p"
   ]
  },
  {
   "cell_type": "code",
   "execution_count": 59,
   "metadata": {},
   "outputs": [
    {
     "name": "stdout",
     "output_type": "stream",
     "text": [
      "16\n"
     ]
    }
   ],
   "source": [
    "                    \n",
    "                    \n",
    "d = [\n",
    "    [0, 1, 0, 0],\n",
    "    [1, 1, 1, 0], \n",
    "    [0, 1, 0, 0], \n",
    "    [1, 1, 0, 0]\n",
    "]\n",
    "\n",
    "s = Solution()\n",
    "print(s.islandPerimeter(d))"
   ]
  },
  {
   "cell_type": "code",
   "execution_count": 56,
   "metadata": {},
   "outputs": [
    {
     "data": {
      "text/plain": [
       "[0, 1, 0, 0]"
      ]
     },
     "execution_count": 56,
     "metadata": {},
     "output_type": "execute_result"
    }
   ],
   "source": [
    "d[0][:]"
   ]
  },
  {
   "cell_type": "code",
   "execution_count": null,
   "metadata": {
    "collapsed": true
   },
   "outputs": [],
   "source": []
  }
 ],
 "metadata": {
  "kernelspec": {
   "display_name": "Python 3",
   "language": "python",
   "name": "python3"
  },
  "language_info": {
   "codemirror_mode": {
    "name": "ipython",
    "version": 3
   },
   "file_extension": ".py",
   "mimetype": "text/x-python",
   "name": "python",
   "nbconvert_exporter": "python",
   "pygments_lexer": "ipython3",
   "version": "3.5.2"
  }
 },
 "nbformat": 4,
 "nbformat_minor": 2
}

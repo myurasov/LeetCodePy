{
 "cells": [
  {
   "cell_type": "code",
   "execution_count": 194,
   "metadata": {
    "collapsed": true
   },
   "outputs": [],
   "source": [
    "class TreeNode(object):\n",
    "    def __init__(self, x):\n",
    "        self.val = x\n",
    "        self.left = None\n",
    "        self.right = None\n",
    "\n",
    "    def __repr__(self):\n",
    "        return '(val=%s, l=%s, r=%s)' % (self.val, self.left, self.right)"
   ]
  },
  {
   "cell_type": "code",
   "execution_count": 263,
   "metadata": {
    "collapsed": true
   },
   "outputs": [],
   "source": [
    "null = None\n",
    "\n",
    "# (helper) convert array to a tree structure\n",
    "def a2t(a):\n",
    "\n",
    "    level = 1\n",
    "    root = TreeNode(a.pop(0))\n",
    "    parents = [root]\n",
    "\n",
    "    while len(a):\n",
    "\n",
    "        level_len = 2**level\n",
    "        nodes = []\n",
    "\n",
    "        for p in parents:\n",
    "            if p is not None:\n",
    "                l_child = a.pop(0) if len(a) else None\n",
    "                r_child = a.pop(0) if len(a) else None\n",
    "                p.left = None if l_child is None else TreeNode(l_child)\n",
    "                p.right = None if r_child is None else TreeNode(r_child)\n",
    "                nodes.append(p.left)\n",
    "                nodes.append(p.right)\n",
    "\n",
    "        parents = nodes\n",
    "        level += 1\n",
    "\n",
    "    return root"
   ]
  },
  {
   "cell_type": "code",
   "execution_count": 196,
   "metadata": {
    "collapsed": true
   },
   "outputs": [],
   "source": [
    "p = a2t([1,null,3,2,4,null,null,null,5])"
   ]
  },
  {
   "cell_type": "code",
   "execution_count": 197,
   "metadata": {},
   "outputs": [
    {
     "data": {
      "text/plain": [
       "(val=1, l=None, r=(val=3, l=(val=2, l=None, r=None), r=(val=4, l=None, r=(val=5, l=None, r=None))))"
      ]
     },
     "execution_count": 197,
     "metadata": {},
     "output_type": "execute_result"
    }
   ],
   "source": [
    "p"
   ]
  },
  {
   "cell_type": "code",
   "execution_count": 285,
   "metadata": {
    "collapsed": true
   },
   "outputs": [],
   "source": [
    "# Definition for a binary tree node.\n",
    "# class TreeNode(object):\n",
    "#     def __init__(self, x):\n",
    "#         self.val = x\n",
    "#         self.left = None\n",
    "#         self.right = None\n",
    "\n",
    "\n",
    "class Solution(object):\n",
    "    def __init__(self):\n",
    "        self._r = 0\n",
    "\n",
    "    def _walk(self, root, prev, path, d=0):\n",
    "\n",
    "        if prev is None or (root.val - 1 != prev.val):\n",
    "            d = 1\n",
    "            path = str(root.val)\n",
    "\n",
    "        self._r = max(self._r, d)\n",
    "        print(path, d)\n",
    "\n",
    "        if root.left:\n",
    "            self._walk(\n",
    "                root=root.left,\n",
    "                prev=root,\n",
    "                path=path + '->' + str(root.left.val),\n",
    "                d=d + 1)\n",
    "\n",
    "        if root.right:\n",
    "            self._walk(\n",
    "                root=root.right,\n",
    "                prev=root,\n",
    "                path=path + '->' + str(root.right.val),\n",
    "                d=d + 1)\n",
    "\n",
    "    def longestConsecutive(self, root):\n",
    "        \"\"\"\n",
    "        :type root: TreeNode\n",
    "        :rtype: int\n",
    "        \"\"\"\n",
    "\n",
    "        if root is None: return 0\n",
    "        self._walk(root, None, str(root.val))\n",
    "        return self._r"
   ]
  },
  {
   "cell_type": "code",
   "execution_count": 280,
   "metadata": {
    "collapsed": true
   },
   "outputs": [],
   "source": [
    "# Definition for a binary tree node.\n",
    "# class TreeNode(object):\n",
    "#     def __init__(self, x):\n",
    "#         self.val = x\n",
    "#         self.left = None\n",
    "#         self.right = None\n",
    "\n",
    "\n",
    "class Solution(object):\n",
    "    def __init__(self):\n",
    "        self._r = 0\n",
    "\n",
    "    def _walk(self, root, prev, d=0):\n",
    "\n",
    "        if prev is None or (root.val - 1 != prev.val):\n",
    "            d = 1\n",
    "        \n",
    "        self._r = max(self._r, d)\n",
    "\n",
    "        if root.left:\n",
    "            self._walk(root.left, root, d + 1)\n",
    "\n",
    "        if root.right:\n",
    "            self._walk(root.right, root, d + 1)\n",
    "\n",
    "    def longestConsecutive(self, root):\n",
    "        \"\"\"\n",
    "        :type root: TreeNode\n",
    "        :rtype: int\n",
    "        \"\"\"\n",
    "\n",
    "        if root is None: return 0\n",
    "        self._walk(root, None, str(root.val))\n",
    "        return self._r"
   ]
  },
  {
   "cell_type": "code",
   "execution_count": null,
   "metadata": {
    "collapsed": true
   },
   "outputs": [],
   "source": []
  },
  {
   "cell_type": "code",
   "execution_count": 281,
   "metadata": {},
   "outputs": [
    {
     "data": {
      "text/plain": [
       "3"
      ]
     },
     "execution_count": 281,
     "metadata": {},
     "output_type": "execute_result"
    }
   ],
   "source": [
    "s = Solution()\n",
    "s.longestConsecutive(a2t([1,null,3,2,4,null,null,null,5]))"
   ]
  },
  {
   "cell_type": "code",
   "execution_count": 282,
   "metadata": {},
   "outputs": [
    {
     "data": {
      "text/plain": [
       "0"
      ]
     },
     "execution_count": 282,
     "metadata": {},
     "output_type": "execute_result"
    }
   ],
   "source": [
    "s = Solution()\n",
    "s.longestConsecutive(None)"
   ]
  },
  {
   "cell_type": "code",
   "execution_count": 286,
   "metadata": {},
   "outputs": [
    {
     "name": "stdout",
     "output_type": "stream",
     "text": [
      "2 1\n",
      "2->3 2\n",
      "2 1\n",
      "1 1\n"
     ]
    },
    {
     "data": {
      "text/plain": [
       "2"
      ]
     },
     "execution_count": 286,
     "metadata": {},
     "output_type": "execute_result"
    }
   ],
   "source": [
    "s = Solution()\n",
    "s.longestConsecutive(a2t([2,null,3,2,null,1]))"
   ]
  },
  {
   "cell_type": "code",
   "execution_count": 284,
   "metadata": {
    "collapsed": true
   },
   "outputs": [],
   "source": [
    "t=a2t([2,null,3,2,null,1])"
   ]
  },
  {
   "cell_type": "code",
   "execution_count": 266,
   "metadata": {},
   "outputs": [
    {
     "data": {
      "text/plain": [
       "(val=2, l=None, r=(val=3, l=(val=2, l=(val=1, l=None, r=None), r=None), r=None))"
      ]
     },
     "execution_count": 266,
     "metadata": {},
     "output_type": "execute_result"
    }
   ],
   "source": []
  },
  {
   "cell_type": "code",
   "execution_count": null,
   "metadata": {
    "collapsed": true
   },
   "outputs": [],
   "source": []
  }
 ],
 "metadata": {
  "kernelspec": {
   "display_name": "Python 3",
   "language": "python",
   "name": "python3"
  },
  "language_info": {
   "codemirror_mode": {
    "name": "ipython",
    "version": 3
   },
   "file_extension": ".py",
   "mimetype": "text/x-python",
   "name": "python",
   "nbconvert_exporter": "python",
   "pygments_lexer": "ipython3",
   "version": "3.5.2"
  }
 },
 "nbformat": 4,
 "nbformat_minor": 2
}

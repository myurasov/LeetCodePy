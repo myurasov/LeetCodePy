{
 "cells": [
  {
   "cell_type": "code",
   "execution_count": 1,
   "metadata": {
    "collapsed": true
   },
   "outputs": [],
   "source": [
    "class Solution(object):\n",
    "    def twoSum(self, nums, target):\n",
    "        \"\"\"\n",
    "        :type nums: List[int]\n",
    "        :type target: int\n",
    "        :rtype: List[int]\n",
    "        \"\"\"\n",
    "\n",
    "        indexes = {}\n",
    "            \n",
    "        for i in range(len(nums)):\n",
    "            \n",
    "            diff = target - nums[i]\n",
    "            \n",
    "            # if difference is found in indexes\n",
    "            if diff in indexes and indexes[diff] != i: \n",
    "                return [i, indexes[diff]]\n",
    "            \n",
    "            # otherwise, remember number at this index\n",
    "            indexes[nums[i]] = i\n",
    "\n",
    "        return False"
   ]
  },
  {
   "cell_type": "code",
   "execution_count": 2,
   "metadata": {},
   "outputs": [
    {
     "name": "stdout",
     "output_type": "stream",
     "text": [
      "[18, 3] 63 2\n"
     ]
    }
   ],
   "source": [
    "s = Solution()\n",
    "a = [54, 84, 40, 2, 94, 90, 31, 28, 65, 30, 95, 32, 87, 69, 38, 23, 36, 1, 63, 0, 21, 88, 5]\n",
    "r = s.twoSum(a, 63 + 2)\n",
    "print(r, a[r[0]], a[r[1]])"
   ]
  },
  {
   "cell_type": "code",
   "execution_count": 3,
   "metadata": {},
   "outputs": [
    {
     "name": "stdout",
     "output_type": "stream",
     "text": [
      "[2, 1] 4 + 2 = 6\n"
     ]
    }
   ],
   "source": [
    "s = Solution()\n",
    "a = [3, 2, 4]\n",
    "r = s.twoSum(a, 6)\n",
    "print(r, a[r[0]], '+', a[r[1]], '=', a[r[0]] + a[r[1]])"
   ]
  },
  {
   "cell_type": "code",
   "execution_count": null,
   "metadata": {
    "collapsed": true
   },
   "outputs": [],
   "source": []
  },
  {
   "cell_type": "code",
   "execution_count": null,
   "metadata": {
    "collapsed": true
   },
   "outputs": [],
   "source": []
  },
  {
   "cell_type": "code",
   "execution_count": 4,
   "metadata": {},
   "outputs": [
    {
     "data": {
      "text/plain": [
       "array([18, 50, 60, 62, 68, 33, 65, 77, 17,  2, 80, 12,  4, 47, 28, 53, 98,\n",
       "       21, 93, 36, 84])"
      ]
     },
     "execution_count": 4,
     "metadata": {},
     "output_type": "execute_result"
    }
   ],
   "source": [
    "import numpy\n",
    "a = numpy.random.randint(0, 100, size=25)\n",
    "a = numpy.unique(a)\n",
    "numpy.random.shuffle(a)\n",
    "a"
   ]
  },
  {
   "cell_type": "code",
   "execution_count": null,
   "metadata": {
    "collapsed": true
   },
   "outputs": [],
   "source": []
  }
 ],
 "metadata": {
  "kernelspec": {
   "display_name": "Python 3",
   "language": "python",
   "name": "python3"
  },
  "language_info": {
   "codemirror_mode": {
    "name": "ipython",
    "version": 3
   },
   "file_extension": ".py",
   "mimetype": "text/x-python",
   "name": "python",
   "nbconvert_exporter": "python",
   "pygments_lexer": "ipython3",
   "version": "3.5.2"
  }
 },
 "nbformat": 4,
 "nbformat_minor": 2
}

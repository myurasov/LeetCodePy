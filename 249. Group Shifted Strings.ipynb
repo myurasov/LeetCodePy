{
 "cells": [
  {
   "cell_type": "code",
   "execution_count": 54,
   "metadata": {
    "collapsed": true
   },
   "outputs": [],
   "source": [
    "from collections import defaultdict\n",
    "\n",
    "\n",
    "class Solution(object):\n",
    "    def groupStrings(self, strings):\n",
    "        \"\"\"\n",
    "        :type strings: List[str]\n",
    "        :rtype: List[List[str]]\n",
    "        \"\"\"\n",
    "\n",
    "        d = defaultdict(list)\n",
    "\n",
    "        for s in strings:\n",
    "\n",
    "            base = ord(s[0])\n",
    "            key = ''\n",
    "\n",
    "            # calculate converted form by shifting each char\n",
    "            # by the vakue of the first one in a string\n",
    "            for c in s:\n",
    "                o = ord(c) - base\n",
    "                if o < 0: o += 26\n",
    "                key += str(o) + ':'\n",
    "\n",
    "            d[key].append(s)\n",
    "\n",
    "        return list(d.values())"
   ]
  },
  {
   "cell_type": "code",
   "execution_count": 55,
   "metadata": {},
   "outputs": [
    {
     "data": {
      "text/plain": [
       "[['abc', 'bcd', 'xyz', 'zab'], ['a', 'z'], ['acef'], ['az', 'ba']]"
      ]
     },
     "execution_count": 55,
     "metadata": {},
     "output_type": "execute_result"
    }
   ],
   "source": [
    "Solution().groupStrings([\"abc\", \"bcd\", \"acef\", \"xyz\", \"zab\", \"az\", \"ba\", \"a\", \"z\"])"
   ]
  },
  {
   "cell_type": "code",
   "execution_count": null,
   "metadata": {
    "collapsed": true
   },
   "outputs": [],
   "source": []
  }
 ],
 "metadata": {
  "kernelspec": {
   "display_name": "Python 3",
   "language": "python",
   "name": "python3"
  },
  "language_info": {
   "codemirror_mode": {
    "name": "ipython",
    "version": 3
   },
   "file_extension": ".py",
   "mimetype": "text/x-python",
   "name": "python",
   "nbconvert_exporter": "python",
   "pygments_lexer": "ipython3",
   "version": "3.5.2"
  }
 },
 "nbformat": 4,
 "nbformat_minor": 2
}

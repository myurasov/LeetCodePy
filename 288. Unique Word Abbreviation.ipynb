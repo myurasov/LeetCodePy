{
 "cells": [
  {
   "cell_type": "code",
   "execution_count": 65,
   "metadata": {
    "collapsed": true
   },
   "outputs": [],
   "source": [
    "from collections import defaultdict\n",
    "\n",
    "\n",
    "class ValidWordAbbr(object):\n",
    "    def __init__(self, dictionary):\n",
    "        \"\"\"\n",
    "        :type dictionary: List[str]\n",
    "        \"\"\"\n",
    "\n",
    "        self.words = set()\n",
    "        self.abbrs = defaultdict(int)\n",
    "\n",
    "        for w in dictionary:\n",
    "            if w not in self.words:\n",
    "                self.words.add(w)\n",
    "                self.abbrs[self.createAbbr(w)] += 1\n",
    "\n",
    "    def createAbbr(self, w):\n",
    "        if len(w) < 3: return w\n",
    "        return w[0] + str(len(w) - 2) + w[-1]\n",
    "\n",
    "    def isUnique(self, word):\n",
    "        \"\"\"\n",
    "        :type word: str\n",
    "        :rtype: bool\n",
    "        \"\"\"\n",
    "\n",
    "        abbr = self.createAbbr(word)\n",
    "\n",
    "        return self.abbrs[abbr] == 0 or \\\n",
    "            (self.abbrs[abbr] == 1 and word in self.words)\n",
    "\n",
    "\n",
    "# Your ValidWordAbbr object will be instantiated and called as such:\n",
    "# obj = ValidWordAbbr(dictionary)\n",
    "# param_1 = obj.isUnique(word)"
   ]
  },
  {
   "cell_type": "code",
   "execution_count": 66,
   "metadata": {},
   "outputs": [
    {
     "data": {
      "text/plain": [
       "False"
      ]
     },
     "execution_count": 66,
     "metadata": {},
     "output_type": "execute_result"
    }
   ],
   "source": [
    "ValidWordAbbr([ \"deer\", \"door\", \"cake\", \"card\" ]).isUnique(\"cane\")"
   ]
  },
  {
   "cell_type": "code",
   "execution_count": 67,
   "metadata": {},
   "outputs": [
    {
     "data": {
      "text/plain": [
       "True"
      ]
     },
     "execution_count": 67,
     "metadata": {},
     "output_type": "execute_result"
    }
   ],
   "source": [
    "ValidWordAbbr([ \"hello\" ]).isUnique(\"hello\")"
   ]
  },
  {
   "cell_type": "code",
   "execution_count": 68,
   "metadata": {},
   "outputs": [
    {
     "data": {
      "text/plain": [
       "True"
      ]
     },
     "execution_count": 68,
     "metadata": {},
     "output_type": "execute_result"
    }
   ],
   "source": [
    "ValidWordAbbr([\"a\", \"a\"]).isUnique(\"a\")"
   ]
  }
 ],
 "metadata": {
  "kernelspec": {
   "display_name": "Python 3",
   "language": "python",
   "name": "python3"
  },
  "language_info": {
   "codemirror_mode": {
    "name": "ipython",
    "version": 3
   },
   "file_extension": ".py",
   "mimetype": "text/x-python",
   "name": "python",
   "nbconvert_exporter": "python",
   "pygments_lexer": "ipython3",
   "version": "3.5.2"
  }
 },
 "nbformat": 4,
 "nbformat_minor": 2
}

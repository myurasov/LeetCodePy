{
 "cells": [
  {
   "cell_type": "code",
   "execution_count": 4,
   "metadata": {},
   "outputs": [],
   "source": [
    "\"\"\"\n",
    "Let D(N) be the required answer. The recursion for the number of derangements of N is:\n",
    "D(N) = (N-1) * (D(N-1) + D(N-2)). With this recursion in hand, the problem becomes \n",
    "similar to finding the N-th fibonacci number.\n",
    "\n",
    "To prove it, suppose there are people and hats labelled 1...N. We want the number \n",
    "of ways to put a hat on each person such that no person is wearing their hat. \n",
    "The first person has N-1 choices to put on a hat, say he wears hat X. Now consider \n",
    "what hat person X is wearing. Either he takes hat 1, and we have D(N-2) ways to \n",
    "arrange the remaining hats among people; or he doesn't take hat 1, which if we \n",
    "relabelled it as hat X, would have D(N-1) ways to arrange the remaining hats.\n",
    "\"\"\"\n",
    "\n",
    "\n",
    "class Solution(object):\n",
    "    def findDerangement(self, N):\n",
    "        MOD = 10**9 + 7\n",
    "        X, Y = 1, 0\n",
    "        for n in range(2, N + 1):\n",
    "            X, Y = Y, (n - 1) * (X + Y) % MOD\n",
    "        return Y"
   ]
  },
  {
   "cell_type": "code",
   "execution_count": 13,
   "metadata": {},
   "outputs": [
    {
     "data": {
      "text/plain": [
       "1334961"
      ]
     },
     "execution_count": 13,
     "metadata": {},
     "output_type": "execute_result"
    }
   ],
   "source": [
    "Solution().findDerangement(10)"
   ]
  },
  {
   "cell_type": "code",
   "execution_count": null,
   "metadata": {},
   "outputs": [],
   "source": []
  }
 ],
 "metadata": {
  "kernelspec": {
   "display_name": "Python 3",
   "language": "python",
   "name": "python3"
  },
  "language_info": {
   "codemirror_mode": {
    "name": "ipython",
    "version": 3
   },
   "file_extension": ".py",
   "mimetype": "text/x-python",
   "name": "python",
   "nbconvert_exporter": "python",
   "pygments_lexer": "ipython3",
   "version": "3.5.2"
  }
 },
 "nbformat": 4,
 "nbformat_minor": 2
}

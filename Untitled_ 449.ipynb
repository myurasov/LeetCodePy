{
 "cells": [
  {
   "cell_type": "code",
   "execution_count": 67,
   "metadata": {},
   "outputs": [],
   "source": [
    "# Definition for a binary tree node.\n",
    "class TreeNode(object):\n",
    "    def __init__(self, x):\n",
    "        self.val = x\n",
    "        self.left = None\n",
    "        self.right = None\n",
    "\n",
    "    def __repr__(self):\n",
    "        r = [str(self.val)]\n",
    "        if self.left: r += ['l=' + str(self.left)]\n",
    "        if self.right: r += ['r=' + str(self.right)]\n",
    "        return '[%s]' % ';'.join(r)\n",
    "\n",
    "\n",
    "class Codec:\n",
    "    def serialize(self, root):\n",
    "        \"\"\"Encodes a tree to a single string.\n",
    "        \n",
    "        :type root: TreeNode\n",
    "        :rtype: str\n",
    "        \"\"\"\n",
    "        \n",
    "        queue = [root]\n",
    "        level = 0\n",
    "        leaves = True\n",
    "        \n",
    "        while leaves:\n",
    "            print(list(map(lambda x: str(x.val) if x is not None else '-', queue)))\n",
    "            \n",
    "            leaves = False\n",
    "            nextq = []\n",
    "            \n",
    "            for n in queue:\n",
    "                if n is not None:\n",
    "                    nextq.append(n.left)\n",
    "                    nextq.append(n.right)\n",
    "                    leaves = n.left or n.right\n",
    "                else:\n",
    "                    nextq.append(None)\n",
    "                    nextq.append(None)\n",
    "                    \n",
    "            \n",
    "                \n",
    "            queue = nextq.copy()\n",
    "            \n",
    "            \n",
    "            \n",
    "\n",
    "    def deserialize(self, data):\n",
    "        \"\"\"Decodes your encoded data to tree.\n",
    "        \n",
    "        :type data: str\n",
    "        :rtype: TreeNode\n",
    "        \"\"\"\n",
    "\n",
    "\n",
    "# Your Codec object will be instantiated and called as such:\n",
    "# codec = Codec()\n",
    "# codec.deserialize(codec.serialize(root))"
   ]
  },
  {
   "cell_type": "code",
   "execution_count": 68,
   "metadata": {},
   "outputs": [
    {
     "name": "stdout",
     "output_type": "stream",
     "text": [
      "t: [8;l=[3;l=[1];r=[6;l=[4];r=[7]]];r=[10;r=[14;l=[13]]]]\n",
      "['8']\n",
      "['3', '10']\n",
      "['1', '6', '-', '14']\n",
      "['-', '-', '4', '7', '-', '-', '13', '-']\n",
      "None\n"
     ]
    }
   ],
   "source": [
    "t = TreeNode(8)\n",
    "\n",
    "t.left = TreeNode(3)\n",
    "t.right = TreeNode(10)\n",
    "\n",
    "t.left.left = TreeNode(1)\n",
    "t.left.right = TreeNode(6)\n",
    "t.right.right = TreeNode(14)\n",
    "\n",
    "t.left.right.left = TreeNode(4)\n",
    "t.left.right.right = TreeNode(7)\n",
    "t.right.right.left = TreeNode(13)\n",
    "\n",
    "print('t:', t)\n",
    "\n",
    "c = Codec()\n",
    "print(c.serialize(t))"
   ]
  },
  {
   "cell_type": "code",
   "execution_count": null,
   "metadata": {},
   "outputs": [],
   "source": []
  },
  {
   "cell_type": "code",
   "execution_count": null,
   "metadata": {},
   "outputs": [],
   "source": []
  }
 ],
 "metadata": {
  "kernelspec": {
   "display_name": "Python 3",
   "language": "python",
   "name": "python3"
  },
  "language_info": {
   "codemirror_mode": {
    "name": "ipython",
    "version": 3
   },
   "file_extension": ".py",
   "mimetype": "text/x-python",
   "name": "python",
   "nbconvert_exporter": "python",
   "pygments_lexer": "ipython3",
   "version": "3.5.2"
  }
 },
 "nbformat": 4,
 "nbformat_minor": 2
}

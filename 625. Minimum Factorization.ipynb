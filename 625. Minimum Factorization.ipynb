{
 "cells": [
  {
   "cell_type": "code",
   "execution_count": 103,
   "metadata": {},
   "outputs": [],
   "source": [
    "class Solution(object):\n",
    "    def factorize(self, a, r=0):\n",
    "        if a > 1:\n",
    "            if a not in self.mem:\n",
    "                for d in [9, 8, 7, 6, 5, 4, 3, 2]:\n",
    "                    if a % d == 0:\n",
    "                        self.mem.add(a)\n",
    "                        self.factorize(a // d, r * 10 + d)\n",
    "        else:\n",
    "            self.res = min(self.res, r)\n",
    "\n",
    "    def smallestFactorization(self, a):\n",
    "        \"\"\"\n",
    "        :type a: int\n",
    "        :rtype: int\n",
    "        \"\"\"\n",
    "\n",
    "        if a == 1: return 1\n",
    "\n",
    "        self.mem = set()\n",
    "        self.res = float('inf')\n",
    "        self.factorize(a)\n",
    "\n",
    "        minimize = lambda n: int(''.join(sorted(str(n))))\n",
    "        return minimize(self.res) if self.res < 1 << 31 else 0"
   ]
  },
  {
   "cell_type": "code",
   "execution_count": 107,
   "metadata": {},
   "outputs": [
    {
     "data": {
      "text/plain": [
       "555555889"
      ]
     },
     "execution_count": 107,
     "metadata": {},
     "output_type": "execute_result"
    }
   ],
   "source": [
    "Solution().smallestFactorization(9000000) # ==555555889"
   ]
  },
  {
   "cell_type": "code",
   "execution_count": 108,
   "metadata": {},
   "outputs": [
    {
     "data": {
      "text/plain": [
       "0"
      ]
     },
     "execution_count": 108,
     "metadata": {},
     "output_type": "execute_result"
    }
   ],
   "source": [
    "Solution().smallestFactorization(68) # ==0"
   ]
  },
  {
   "cell_type": "code",
   "execution_count": 110,
   "metadata": {},
   "outputs": [
    {
     "data": {
      "text/plain": [
       "68"
      ]
     },
     "execution_count": 110,
     "metadata": {},
     "output_type": "execute_result"
    }
   ],
   "source": [
    "Solution().smallestFactorization(48) # == 68"
   ]
  }
 ],
 "metadata": {
  "kernelspec": {
   "display_name": "Python 3",
   "language": "python",
   "name": "python3"
  },
  "language_info": {
   "codemirror_mode": {
    "name": "ipython",
    "version": 3
   },
   "file_extension": ".py",
   "mimetype": "text/x-python",
   "name": "python",
   "nbconvert_exporter": "python",
   "pygments_lexer": "ipython3",
   "version": "3.5.2"
  }
 },
 "nbformat": 4,
 "nbformat_minor": 2
}

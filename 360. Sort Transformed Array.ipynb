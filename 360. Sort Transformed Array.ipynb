{
 "cells": [
  {
   "cell_type": "code",
   "execution_count": 1,
   "metadata": {
    "collapsed": true
   },
   "outputs": [],
   "source": [
    "class Solution(object):\n",
    "    def sortTransformedArray(self, nums, a, b, c):\n",
    "        \"\"\"\n",
    "        :type nums: List[int]\n",
    "        :type a: int\n",
    "        :type b: int\n",
    "        :type c: int\n",
    "        :rtype: List[int]\n",
    "        \"\"\"\n",
    "\n",
    "        if a == 0:\n",
    "            if b > 0:\n",
    "                x_ext = -float('inf')  # always growing\n",
    "            else:\n",
    "                x_ext = float('inf')\n",
    "        else:\n",
    "            x_ext = -b / (2. * a)\n",
    "\n",
    "        up = []  # numbers grow\n",
    "        down = []  # numbers go down\n",
    "\n",
    "        if a >= 0:\n",
    "\n",
    "            for n in nums:\n",
    "                if n < x_ext:\n",
    "                    down.insert(0, a * n * n + b * n + c)\n",
    "                else:\n",
    "                    up.append(a * n * n + b * n + c)\n",
    "\n",
    "        else:\n",
    "\n",
    "            for n in nums:\n",
    "                if n < x_ext:\n",
    "                    up.append(a * n * n + b * n + c)\n",
    "                else:\n",
    "                    down.insert(0, a * n * n + b * n + c)\n",
    "\n",
    "        # merge up and down parts by picking smaller number, then appending the remaining part\n",
    "        res = []\n",
    "\n",
    "        while up and down:\n",
    "            if up[0] < down[0]:\n",
    "                res.append(up.pop(0))\n",
    "            else:\n",
    "                res.append(down.pop(0))\n",
    "\n",
    "        if up: res += up\n",
    "        if down: res += down\n",
    "\n",
    "        return res"
   ]
  },
  {
   "cell_type": "code",
   "execution_count": 6,
   "metadata": {
    "scrolled": true
   },
   "outputs": [
    {
     "data": {
      "text/plain": [
       "[-7, -1, 11, 17]"
      ]
     },
     "execution_count": 6,
     "metadata": {},
     "output_type": "execute_result"
    }
   ],
   "source": [
    "Solution().sortTransformedArray([-4, -2, 2, 4], 0, 3, 5)"
   ]
  },
  {
   "cell_type": "code",
   "execution_count": 7,
   "metadata": {},
   "outputs": [
    {
     "data": {
      "text/plain": [
       "[2.75, 3, 3, 5, 9, 9, 11.75, 15, 15, 33, 10305]"
      ]
     },
     "execution_count": 7,
     "metadata": {},
     "output_type": "execute_result"
    }
   ],
   "source": [
    "Solution().sortTransformedArray(\n",
    "    nums=[-5, -4, -2, -1.5, -1, 0, 1, 1.5, 2, 4, 100], a=1, b=3, c=5)"
   ]
  },
  {
   "cell_type": "code",
   "execution_count": 8,
   "metadata": {},
   "outputs": [
    {
     "data": {
      "text/plain": [
       "[3, 9, 15, 33]"
      ]
     },
     "execution_count": 8,
     "metadata": {},
     "output_type": "execute_result"
    }
   ],
   "source": [
    "Solution().sortTransformedArray(nums=[-4, -2, 2, 4], a=1, b=3, c=5)"
   ]
  },
  {
   "cell_type": "code",
   "execution_count": 9,
   "metadata": {},
   "outputs": [
    {
     "data": {
      "text/plain": [
       "[-35, -23, -5, 1, 5, 7, 7, 7.25]"
      ]
     },
     "execution_count": 9,
     "metadata": {},
     "output_type": "execute_result"
    }
   ],
   "source": [
    "Solution().sortTransformedArray(\n",
    "    nums=[-5, -4, -2, 0, 1, 1.5, 2, 4], a=-1, b=3, c=5)"
   ]
  }
 ],
 "metadata": {
  "kernelspec": {
   "display_name": "Python 3",
   "language": "python",
   "name": "python3"
  },
  "language_info": {
   "codemirror_mode": {
    "name": "ipython",
    "version": 3
   },
   "file_extension": ".py",
   "mimetype": "text/x-python",
   "name": "python",
   "nbconvert_exporter": "python",
   "pygments_lexer": "ipython3",
   "version": "3.5.2"
  }
 },
 "nbformat": 4,
 "nbformat_minor": 2
}

{
 "cells": [
  {
   "cell_type": "code",
   "execution_count": 6,
   "metadata": {
    "collapsed": true
   },
   "outputs": [],
   "source": [
    "class Solution(object):\n",
    "    def spiralOrder(self, matrix):\n",
    "        \"\"\"\n",
    "        :type matrix: List[List[int]]\n",
    "        :rtype: List[int]\n",
    "        \"\"\"\n",
    "\n",
    "        if 0 == len(matrix):\n",
    "            return []\n",
    "\n",
    "        rows = len(matrix)\n",
    "        cols = len(matrix[0])\n",
    "\n",
    "        res = []\n",
    "\n",
    "        loops = int(min(cols, rows) / 2)\n",
    "        if loops * 2 < min(cols, rows): loops += 1\n",
    "\n",
    "        for loop in range(0, loops):\n",
    "\n",
    "            r = loop\n",
    "            c = loop\n",
    "            rd = 0\n",
    "            cd = 1\n",
    "\n",
    "            while not (matrix[r][c] is None):\n",
    "\n",
    "                # going right\n",
    "                if 0 == rd and 1 == cd:\n",
    "                    # go down\n",
    "                    if c == cols - 1 - loop:\n",
    "                        cd = 0\n",
    "                        rd = 1\n",
    "\n",
    "                # going down\n",
    "                if 1 == rd and 0 == cd:\n",
    "                    # go left\n",
    "                    if r == rows - 1 - loop:\n",
    "                        cd = -1\n",
    "                        rd = 0\n",
    "\n",
    "                # going left\n",
    "                if 0 == rd and -1 == cd:\n",
    "                    # go up\n",
    "                    if c == loop:\n",
    "                        rd = -1\n",
    "                        cd = 0\n",
    "\n",
    "                res.append(matrix[r][c])\n",
    "                matrix[r][c] = None\n",
    "\n",
    "                r += rd\n",
    "                c += cd\n",
    "\n",
    "        return res"
   ]
  },
  {
   "cell_type": "code",
   "execution_count": 8,
   "metadata": {},
   "outputs": [
    {
     "data": {
      "text/plain": [
       "[1, 2, 3, 6, 9, 8, 7, 4, 5]"
      ]
     },
     "execution_count": 8,
     "metadata": {},
     "output_type": "execute_result"
    }
   ],
   "source": [
    "m = [\n",
    "    [1, 2, 3], \n",
    "    [4, 5, 6], \n",
    "    [7, 8, 9]\n",
    "]\n",
    "\n",
    "s = Solution()\n",
    "s.spiralOrder(m)"
   ]
  },
  {
   "cell_type": "code",
   "execution_count": 9,
   "metadata": {},
   "outputs": [
    {
     "data": {
      "text/plain": [
       "[1, 2, 3, 6, 9, 8, 7, 4, 5]"
      ]
     },
     "execution_count": 9,
     "metadata": {},
     "output_type": "execute_result"
    }
   ],
   "source": [
    "m=[[1,2,3],[4,5,6],[7,8,9]]\n",
    "\n",
    "s = Solution()\n",
    "s.spiralOrder(m)"
   ]
  },
  {
   "cell_type": "code",
   "execution_count": 10,
   "metadata": {},
   "outputs": [
    {
     "data": {
      "text/plain": [
       "[1, 2, 3, 4, 8, 12, 16, 15, 14, 13, 9, 5, 6, 7, 11, 10]"
      ]
     },
     "execution_count": 10,
     "metadata": {},
     "output_type": "execute_result"
    }
   ],
   "source": [
    "m = [\n",
    "    [ 1, 2, 3, 4],\n",
    "    [ 5, 6, 7, 8],\n",
    "    [ 9,10,11,12],\n",
    "    [13,14,15,16]\n",
    "]\n",
    "\n",
    "s = Solution()\n",
    "s.spiralOrder(m)"
   ]
  },
  {
   "cell_type": "code",
   "execution_count": null,
   "metadata": {
    "collapsed": true
   },
   "outputs": [],
   "source": []
  }
 ],
 "metadata": {
  "kernelspec": {
   "display_name": "Python 3",
   "language": "python",
   "name": "python3"
  },
  "language_info": {
   "codemirror_mode": {
    "name": "ipython",
    "version": 3
   },
   "file_extension": ".py",
   "mimetype": "text/x-python",
   "name": "python",
   "nbconvert_exporter": "python",
   "pygments_lexer": "ipython3",
   "version": "3.5.2"
  }
 },
 "nbformat": 4,
 "nbformat_minor": 2
}

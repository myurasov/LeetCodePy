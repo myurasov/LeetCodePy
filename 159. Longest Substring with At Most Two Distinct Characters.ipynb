{
 "cells": [
  {
   "cell_type": "code",
   "execution_count": 1,
   "metadata": {},
   "outputs": [],
   "source": [
    "# using sliding window\n",
    "\n",
    "class Solution(object):\n",
    "    def lengthOfLongestSubstringTwoDistinct(self, s):\n",
    "        \"\"\"\n",
    "        :type s: str\n",
    "        :rtype: int\n",
    "        \"\"\"\n",
    "\n",
    "        window = {} \n",
    "        start = 0\n",
    "        r = 0\n",
    "\n",
    "        for i in range(len(s)):\n",
    "            window[s[i]] = window[s[i]] + 1 if s[i] in window else 1\n",
    "\n",
    "            # move start pointer until window has only 2 uniq chars\n",
    "            while len(window) > 2:\n",
    "                window[s[start]] -= 1\n",
    "                if window[s[start]] == 0:\n",
    "                    del window[s[start]]\n",
    "                start += 1\n",
    "\n",
    "            r = max(r, i - start + 1)\n",
    "\n",
    "        return r"
   ]
  },
  {
   "cell_type": "code",
   "execution_count": 2,
   "metadata": {},
   "outputs": [
    {
     "data": {
      "text/plain": [
       "8"
      ]
     },
     "execution_count": 2,
     "metadata": {},
     "output_type": "execute_result"
    }
   ],
   "source": [
    "Solution().lengthOfLongestSubstringTwoDistinct('abaaacddcccddeabc')"
   ]
  },
  {
   "cell_type": "code",
   "execution_count": null,
   "metadata": {},
   "outputs": [],
   "source": []
  }
 ],
 "metadata": {
  "kernelspec": {
   "display_name": "Python 3",
   "language": "python",
   "name": "python3"
  },
  "language_info": {
   "codemirror_mode": {
    "name": "ipython",
    "version": 3
   },
   "file_extension": ".py",
   "mimetype": "text/x-python",
   "name": "python",
   "nbconvert_exporter": "python",
   "pygments_lexer": "ipython3",
   "version": "3.5.2"
  }
 },
 "nbformat": 4,
 "nbformat_minor": 2
}

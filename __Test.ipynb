{
 "cells": [
  {
   "cell_type": "code",
   "execution_count": 1,
   "metadata": {
    "collapsed": true
   },
   "outputs": [],
   "source": [
    "%run 'Lib.ipynb'"
   ]
  },
  {
   "cell_type": "code",
   "execution_count": 66,
   "metadata": {},
   "outputs": [],
   "source": [
    "class Solution(object):\n",
    "    def shortestPalindrome(self, s):\n",
    "        \"\"\"\n",
    "        :type s: str\n",
    "        :rtype: str\n",
    "        \"\"\"\n",
    "\n",
    "        pivot = len(s)\n",
    "\n",
    "        while pivot >= 0:\n",
    "            l = s[pivot:]\n",
    "            l = l[::-1]\n",
    "            print(pivot, l, l + s)\n",
    "            pivot -= 1\n",
    "            \n",
    "    def is_poly(self, s):\n",
    "        i = 0\n",
    "        while i < len(s) // 2:\n",
    "            print(i, s[i], s[len(s)-i-1])\n",
    "            i +=1"
   ]
  },
  {
   "cell_type": "code",
   "execution_count": 67,
   "metadata": {
    "scrolled": true
   },
   "outputs": [
    {
     "name": "stdout",
     "output_type": "stream",
     "text": [
      "0 a 3\n",
      "1 b 2\n",
      "2 c 1\n"
     ]
    }
   ],
   "source": [
    "s = Solution()\n",
    "# s.shortestPalindrome('cbaabc')\n",
    "s.is_poly('abc123')"
   ]
  },
  {
   "cell_type": "code",
   "execution_count": 60,
   "metadata": {
    "scrolled": true
   },
   "outputs": [
    {
     "name": "stdout",
     "output_type": "stream",
     "text": [
      "4  abcd\n",
      "3 d dabcd\n",
      "2 dc dcabcd\n",
      "1 dcb dcbabcd\n",
      "0 dcba dcbaabcd\n"
     ]
    }
   ],
   "source": [
    "Solution().shortestPalindrome('abcd')"
   ]
  },
  {
   "cell_type": "code",
   "execution_count": null,
   "metadata": {},
   "outputs": [],
   "source": [
    "Solution().shortestPalindrome('cbaabc')"
   ]
  },
  {
   "cell_type": "code",
   "execution_count": 2,
   "metadata": {
    "collapsed": true
   },
   "outputs": [],
   "source": [
    "Solution().shortestPalindrome('aacecaaa')"
   ]
  }
 ],
 "metadata": {
  "kernelspec": {
   "display_name": "Python 3",
   "language": "python",
   "name": "python3"
  },
  "language_info": {
   "codemirror_mode": {
    "name": "ipython",
    "version": 3
   },
   "file_extension": ".py",
   "mimetype": "text/x-python",
   "name": "python",
   "nbconvert_exporter": "python",
   "pygments_lexer": "ipython3",
   "version": "3.5.2"
  }
 },
 "nbformat": 4,
 "nbformat_minor": 2
}

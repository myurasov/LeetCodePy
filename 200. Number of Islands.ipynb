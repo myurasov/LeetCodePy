{
 "cells": [
  {
   "cell_type": "code",
   "execution_count": 112,
   "metadata": {
    "collapsed": true
   },
   "outputs": [],
   "source": [
    "class Solution(object):\n",
    "    def mark(self, grid, r, c):\n",
    "\n",
    "        if grid[r][c] == '1':\n",
    "            grid[r][c] = 'x'\n",
    "\n",
    "            # top\n",
    "            if c > 0:\n",
    "                self.mark(grid, r, c - 1)\n",
    "\n",
    "            # bottom\n",
    "            if c < len(grid[0]) - 1:\n",
    "                self.mark(grid, r, c + 1)\n",
    "\n",
    "            # left\n",
    "            if r > 0:\n",
    "                self.mark(grid, r - 1, c)\n",
    "\n",
    "            # right\n",
    "            if r < len(grid) - 1:\n",
    "                self.mark(grid, r + 1, c)\n",
    "\n",
    "        return grid  \n",
    "\n",
    "    def numIslands(self, grid):\n",
    "        \"\"\"\n",
    "        :type grid: List[List[str]]\n",
    "        :rtype: int\n",
    "        \"\"\"\n",
    "\n",
    "        rows = len(grid)\n",
    "        cols = len(grid[0]) if rows > 0 else 0\n",
    "        grid = [list(x) for x in grid]\n",
    "        res = 0\n",
    "\n",
    "        for r in range(rows):\n",
    "            for c in range(cols):\n",
    "                if '1' == grid[r][c]:\n",
    "                    self.mark(grid, r, c)\n",
    "                    res += 1\n",
    "                    \n",
    "        return res"
   ]
  },
  {
   "cell_type": "code",
   "execution_count": 113,
   "metadata": {},
   "outputs": [
    {
     "data": {
      "text/plain": [
       "[['x', 'x', 'x', 'x', '0'],\n",
       " ['x', 'x', '0', 'x', '0'],\n",
       " ['x', 'x', '0', '0', '0'],\n",
       " ['0', '0', '0', '0', '0']]"
      ]
     },
     "execution_count": 113,
     "metadata": {},
     "output_type": "execute_result"
    }
   ],
   "source": [
    "g = [\n",
    "    \"11110\", \n",
    "    \"11010\",\n",
    "    \"11000\",\n",
    "    \"00000\"]\n",
    "\n",
    "g = [list(x) for x in g]\n",
    "\n",
    "Solution().mark(g, 0, 0)"
   ]
  },
  {
   "cell_type": "code",
   "execution_count": 114,
   "metadata": {},
   "outputs": [
    {
     "data": {
      "text/plain": [
       "2"
      ]
     },
     "execution_count": 114,
     "metadata": {},
     "output_type": "execute_result"
    }
   ],
   "source": [
    "Solution().numIslands([\n",
    "    \"11000\", \n",
    "    \"11000\",\n",
    "    \"00000\",\n",
    "    \"00011\"]\n",
    ")"
   ]
  },
  {
   "cell_type": "code",
   "execution_count": 115,
   "metadata": {},
   "outputs": [
    {
     "data": {
      "text/plain": [
       "1"
      ]
     },
     "execution_count": 115,
     "metadata": {},
     "output_type": "execute_result"
    }
   ],
   "source": [
    "Solution().numIslands([\"1\"])"
   ]
  }
 ],
 "metadata": {
  "kernelspec": {
   "display_name": "Python 3",
   "language": "python",
   "name": "python3"
  },
  "language_info": {
   "codemirror_mode": {
    "name": "ipython",
    "version": 3
   },
   "file_extension": ".py",
   "mimetype": "text/x-python",
   "name": "python",
   "nbconvert_exporter": "python",
   "pygments_lexer": "ipython3",
   "version": "3.5.2"
  }
 },
 "nbformat": 4,
 "nbformat_minor": 2
}

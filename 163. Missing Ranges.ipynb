{
 "cells": [
  {
   "cell_type": "code",
   "execution_count": 85,
   "metadata": {},
   "outputs": [],
   "source": [
    "class Solution(object):\n",
    "    def findMissingRanges(self, nums, lower, upper):\n",
    "        \"\"\"\n",
    "        :type nums: List[int]\n",
    "        :type lower: int\n",
    "        :type upper: int\n",
    "        :rtype: List[str]\n",
    "        \"\"\"\n",
    "\n",
    "        nums.insert(0, lower - 1)\n",
    "        nums.append(upper + 1)\n",
    "\n",
    "        r = []\n",
    "\n",
    "        for i in range(1, len(nums)):\n",
    "            if nums[i] - nums[i - 1] == 2:\n",
    "                r.append('%d'%(nums[i - 1] + 1))\n",
    "            elif nums[i] - nums[i - 1] > 2:\n",
    "                r.append('%d->%d' % (nums[i - 1] + 1, nums[i] - 1))\n",
    "\n",
    "        return r"
   ]
  },
  {
   "cell_type": "code",
   "execution_count": 86,
   "metadata": {},
   "outputs": [
    {
     "data": {
      "text/plain": [
       "['2', '4->49', '51->74', '76->99']"
      ]
     },
     "execution_count": 86,
     "metadata": {},
     "output_type": "execute_result"
    }
   ],
   "source": [
    "Solution().findMissingRanges([0, 1, 3, 50, 75], 0, 99)"
   ]
  },
  {
   "cell_type": "code",
   "execution_count": 87,
   "metadata": {},
   "outputs": [
    {
     "data": {
      "text/plain": [
       "['1']"
      ]
     },
     "execution_count": 87,
     "metadata": {},
     "output_type": "execute_result"
    }
   ],
   "source": [
    "Solution().findMissingRanges([], 1, 1)"
   ]
  }
 ],
 "metadata": {
  "kernelspec": {
   "display_name": "Python 3",
   "language": "python",
   "name": "python3"
  }
 },
 "nbformat": 4,
 "nbformat_minor": 2
}

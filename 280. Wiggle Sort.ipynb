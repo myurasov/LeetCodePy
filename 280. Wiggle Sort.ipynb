{
 "cells": [
  {
   "cell_type": "code",
   "execution_count": 41,
   "metadata": {
    "collapsed": true
   },
   "outputs": [],
   "source": [
    "# 1: sort nums\n",
    "# 2: interleave first half with second half\n",
    "\n",
    "class Solution(object):\n",
    "    def wiggleSort(self, nums):\n",
    "        \"\"\"\n",
    "        :type nums: List[int]\n",
    "        :rtype: void Do not return anything, modify nums in-place instead.\n",
    "        \"\"\"\n",
    "\n",
    "        nums.sort()\n",
    "\n",
    "        # pivot for the part with even numbers\n",
    "        c = len(nums) // 2\n",
    "        # odd numbers part should be longer or equal to even\n",
    "        if len(nums) - c > c: c += 1\n",
    "\n",
    "        for a in range(c - 1):\n",
    "            n = nums[c + a]\n",
    "            nums.pop(c + a)\n",
    "            nums.insert(a * 2 + 1, n)"
   ]
  },
  {
   "cell_type": "code",
   "execution_count": 46,
   "metadata": {},
   "outputs": [
    {
     "name": "stdout",
     "output_type": "stream",
     "text": [
      "None\n"
     ]
    },
    {
     "data": {
      "text/plain": [
       "[3, 5, 1, 6, 2, 4]"
      ]
     },
     "execution_count": 46,
     "metadata": {},
     "output_type": "execute_result"
    }
   ],
   "source": [
    "nums = [3, 5, 2, 1, 6, 4]\n",
    "s = Solution()\n",
    "print(s.wiggleSort(nums))\n",
    "nums"
   ]
  },
  {
   "cell_type": "code",
   "execution_count": 49,
   "metadata": {},
   "outputs": [
    {
     "name": "stdout",
     "output_type": "stream",
     "text": [
      "None\n"
     ]
    },
    {
     "data": {
      "text/plain": [
       "[1, 3, 2, 5, 4]"
      ]
     },
     "execution_count": 49,
     "metadata": {},
     "output_type": "execute_result"
    }
   ],
   "source": [
    "nums = [1,2,3,4,5]\n",
    "s = Solution()\n",
    "print(s.wiggleSort(nums))\n",
    "nums"
   ]
  },
  {
   "cell_type": "code",
   "execution_count": null,
   "metadata": {
    "collapsed": true
   },
   "outputs": [],
   "source": [
    "1 2 3 | 4 5 6\n",
    "1 4 2   5 3 6"
   ]
  },
  {
   "cell_type": "code",
   "execution_count": null,
   "metadata": {
    "collapsed": true
   },
   "outputs": [],
   "source": [
    "1 2 3 | 4 5 \n",
    "1 4 2   5 3"
   ]
  },
  {
   "cell_type": "code",
   "execution_count": 48,
   "metadata": {
    "collapsed": true
   },
   "outputs": [],
   "source": [
    "class Solution(object):\n",
    "    def wiggleSort(self, nums):\n",
    "        \"\"\"\n",
    "        :type nums: List[int]\n",
    "        :rtype: void Do not return anything, modify nums in-place instead.\n",
    "        \"\"\"\n",
    "        for i in range(len(nums) - 1):\n",
    "            if i % 2 == 1:  # odd\n",
    "                if nums[i] < nums[i + 1]:\n",
    "                    # swap\n",
    "                    nums[i], nums[i + 1] = nums[i + 1], nums[i]\n",
    "            else:  # even\n",
    "                if nums[i] >= nums[i + 1]:\n",
    "                    # swap\n",
    "                    nums[i], nums[i + 1] = nums[i + 1], nums[i]"
   ]
  },
  {
   "cell_type": "code",
   "execution_count": 44,
   "metadata": {
    "collapsed": true
   },
   "outputs": [],
   "source": [
    "class Solution(object):\n",
    "    def wiggleSort(self, nums):\n",
    "\n",
    "        n = len(nums)\n",
    "        if n == 0: return\n",
    "\n",
    "        # go through all even elements\n",
    "        for i in range(1, n, 2):\n",
    "\n",
    "            # if current even element is smaller than previous\n",
    "            if nums[i] < nums[i - 1]:\n",
    "                # swap\n",
    "                nums[i], nums[i - 1] = nums[i - 1], nums[i]\n",
    "\n",
    "            # If current even element is smaller than next\n",
    "            if i < n - 1 and nums[i] < nums[i + 1]:\n",
    "                # swap\n",
    "                nums[i], nums[i + 1] = nums[i + 1], nums[i]"
   ]
  },
  {
   "cell_type": "code",
   "execution_count": null,
   "metadata": {
    "collapsed": true
   },
   "outputs": [],
   "source": []
  }
 ],
 "metadata": {
  "kernelspec": {
   "display_name": "Python 3",
   "language": "python",
   "name": "python3"
  },
  "language_info": {
   "codemirror_mode": {
    "name": "ipython",
    "version": 3
   },
   "file_extension": ".py",
   "mimetype": "text/x-python",
   "name": "python",
   "nbconvert_exporter": "python",
   "pygments_lexer": "ipython3",
   "version": "3.5.2"
  }
 },
 "nbformat": 4,
 "nbformat_minor": 2
}

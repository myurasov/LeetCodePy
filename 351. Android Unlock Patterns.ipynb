{
 "cells": [
  {
   "cell_type": "code",
   "execution_count": 1,
   "metadata": {
    "collapsed": true
   },
   "outputs": [],
   "source": [
    "# 1 2 3\n",
    "# 4 5 6\n",
    "# 7 8 9"
   ]
  },
  {
   "cell_type": "code",
   "execution_count": 2,
   "metadata": {},
   "outputs": [],
   "source": [
    "class Solution(object):\n",
    "    def __init__(self):\n",
    "        self.crossings = {\n",
    "            13: 2, 19: 5, 17: 4, \\\n",
    "            28: 5, \\\n",
    "            31: 2, 37: 5, 39: 6, \\\n",
    "            46: 5, \\\n",
    "            64: 5, \\\n",
    "            71: 4, 73: 5, 79: 8, \\\n",
    "            82: 5, \\\n",
    "            97: 8, 91: 5, 93: 6\n",
    "        }\n",
    "\n",
    "        self.r = 0\n",
    "\n",
    "    def numberOfPatterns(self, m, n):\n",
    "        \"\"\"\n",
    "        :type m: int\n",
    "        :type n: int\n",
    "        :rtype: int\n",
    "        \"\"\"\n",
    "\n",
    "        self._numberOfPatterns(m, n, [], m, n)\n",
    "        return self.r\n",
    "\n",
    "    def _numberOfPatterns(self, m, n, visited, m_orig, n_orig):\n",
    "        if n == 0: return\n",
    "\n",
    "        for d in range(1, 10):\n",
    "            if not d in visited:\n",
    "\n",
    "                v = list(visited)\n",
    "                v.append(d)\n",
    "\n",
    "                # check if last move crosses already visited digits\n",
    "                if len(v) > 1:\n",
    "                    k = v[-2] * 10 + v[-1]\n",
    "                    if k in self.crossings:\n",
    "                        if not self.crossings[k] in v[:-2]:\n",
    "                            continue\n",
    "\n",
    "                if m <= 1:\n",
    "                    self.r += 1\n",
    "\n",
    "                self._numberOfPatterns(m - 1, n - 1, v, m_orig, n_orig)"
   ]
  },
  {
   "cell_type": "code",
   "execution_count": 3,
   "metadata": {},
   "outputs": [
    {
     "data": {
      "text/plain": [
       "320"
      ]
     },
     "execution_count": 3,
     "metadata": {},
     "output_type": "execute_result"
    }
   ],
   "source": [
    "Solution().numberOfPatterns(3, 3)"
   ]
  },
  {
   "cell_type": "code",
   "execution_count": null,
   "metadata": {
    "collapsed": true
   },
   "outputs": [],
   "source": []
  }
 ],
 "metadata": {
  "kernelspec": {
   "display_name": "Python 3",
   "language": "python",
   "name": "python3"
  },
  "language_info": {
   "codemirror_mode": {
    "name": "ipython",
    "version": 3
   },
   "file_extension": ".py",
   "mimetype": "text/x-python",
   "name": "python",
   "nbconvert_exporter": "python",
   "pygments_lexer": "ipython3",
   "version": "3.5.2"
  }
 },
 "nbformat": 4,
 "nbformat_minor": 2
}

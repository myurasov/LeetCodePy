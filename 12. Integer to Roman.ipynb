{
 "cells": [
  {
   "cell_type": "code",
   "execution_count": 27,
   "metadata": {},
   "outputs": [],
   "source": [
    "class Solution(object):\n",
    "    def intToRoman(self, num):\n",
    "        \"\"\"\n",
    "        :type num: int\n",
    "        :rtype: str\n",
    "        \"\"\"\n",
    "\n",
    "        romans = [(1000, 'M'), (900, 'CM'), (500, 'D'), (400, 'CD'),\n",
    "                  (100, 'C'), (90, 'XC'), (50, 'L'), (40, 'XL'), (10, 'X'),\n",
    "                  (9, 'IX'), (5, 'V'), (4, 'IV'), (1, 'I')]\n",
    "\n",
    "        r = ''\n",
    "\n",
    "        for v, d in romans:\n",
    "            x = num // v\n",
    "            num -= x * v\n",
    "            r += x * d\n",
    "\n",
    "        return r"
   ]
  },
  {
   "cell_type": "code",
   "execution_count": 28,
   "metadata": {},
   "outputs": [
    {
     "data": {
      "text/plain": [
       "'MCCXXXIV'"
      ]
     },
     "execution_count": 28,
     "metadata": {},
     "output_type": "execute_result"
    }
   ],
   "source": [
    "Solution().intToRoman(1234)"
   ]
  },
  {
   "cell_type": "code",
   "execution_count": null,
   "metadata": {},
   "outputs": [],
   "source": []
  }
 ],
 "metadata": {
  "kernelspec": {
   "display_name": "Python 3",
   "language": "python",
   "name": "python3"
  },
  "language_info": {
   "codemirror_mode": {
    "name": "ipython",
    "version": 3
   },
   "file_extension": ".py",
   "mimetype": "text/x-python",
   "name": "python",
   "nbconvert_exporter": "python",
   "pygments_lexer": "ipython3",
   "version": "3.5.2"
  }
 },
 "nbformat": 4,
 "nbformat_minor": 2
}

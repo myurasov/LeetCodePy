{
 "cells": [
  {
   "cell_type": "code",
   "execution_count": null,
   "metadata": {
    "collapsed": true
   },
   "outputs": [],
   "source": [
    "# 1"
   ]
  },
  {
   "cell_type": "code",
   "execution_count": 86,
   "metadata": {
    "collapsed": true
   },
   "outputs": [],
   "source": [
    "class Solution(object):\n",
    "    def repeatedStringMatch(self, A, B):\n",
    "        \"\"\"\n",
    "        :type A: str\n",
    "        :type B: str\n",
    "        :rtype: int\n",
    "        \"\"\"\n",
    "\n",
    "        # try repeating A to cover B completely\n",
    "        r = max(1, len(B) // len(A))\n",
    "        A *= r\n",
    "        if B in A: return r\n",
    "\n",
    "        # try repeating A one more time to cover start/end\n",
    "        A += A\n",
    "        if B in A: return r + 1\n",
    "\n",
    "        return -1"
   ]
  },
  {
   "cell_type": "code",
   "execution_count": 87,
   "metadata": {
    "scrolled": true
   },
   "outputs": [
    {
     "data": {
      "text/plain": [
       "3"
      ]
     },
     "execution_count": 87,
     "metadata": {},
     "output_type": "execute_result"
    }
   ],
   "source": [
    "Solution().repeatedStringMatch('abcd', 'cdabcdab')"
   ]
  },
  {
   "cell_type": "code",
   "execution_count": 88,
   "metadata": {},
   "outputs": [
    {
     "data": {
      "text/plain": [
       "7"
      ]
     },
     "execution_count": 88,
     "metadata": {},
     "output_type": "execute_result"
    }
   ],
   "source": [
    "Solution().repeatedStringMatch('a', 'aaaaaaa')"
   ]
  },
  {
   "cell_type": "code",
   "execution_count": 89,
   "metadata": {
    "scrolled": true
   },
   "outputs": [
    {
     "data": {
      "text/plain": [
       "1"
      ]
     },
     "execution_count": 89,
     "metadata": {},
     "output_type": "execute_result"
    }
   ],
   "source": [
    "Solution().repeatedStringMatch('aa', 'a')"
   ]
  },
  {
   "cell_type": "code",
   "execution_count": 90,
   "metadata": {
    "scrolled": false
   },
   "outputs": [
    {
     "data": {
      "text/plain": [
       "2"
      ]
     },
     "execution_count": 90,
     "metadata": {},
     "output_type": "execute_result"
    }
   ],
   "source": [
    "Solution().repeatedStringMatch(\"abababaaba\", \"aabaaba\")"
   ]
  },
  {
   "cell_type": "code",
   "execution_count": null,
   "metadata": {
    "collapsed": true
   },
   "outputs": [],
   "source": [
    "# 2: using rolling hash for comparison"
   ]
  },
  {
   "cell_type": "code",
   "execution_count": 8,
   "metadata": {
    "collapsed": true
   },
   "outputs": [],
   "source": [
    "class Solution(object):\n",
    "    def repeatedStringMatch(self, A, B):\n",
    "        def check(index):\n",
    "            return all(A[(i + index) % len(A)] == x for i, x in enumerate(B))\n",
    "\n",
    "        q = (len(B) - 1) // len(A) + 1\n",
    "\n",
    "        p, MOD = 113, 10**9 + 7\n",
    "        p_inv = pow(p, MOD - 2, MOD)\n",
    "        power = 1\n",
    "\n",
    "        b_hash = 0\n",
    "        for x in map(ord, B):\n",
    "            b_hash += power * x\n",
    "            b_hash %= MOD\n",
    "            power = (power * p) % MOD\n",
    "\n",
    "        a_hash = 0\n",
    "        power = 1\n",
    "        for i in xrange(len(B)):\n",
    "            a_hash += power * ord(A[i % len(A)])\n",
    "            a_hash %= MOD\n",
    "            power = (power * p) % MOD\n",
    "\n",
    "        if a_hash == b_hash and check(0): return q\n",
    "\n",
    "        power = (power * p_inv) % MOD\n",
    "        for i in xrange(len(B), (q + 1) * len(A)):\n",
    "            a_hash = (a_hash - ord(A[(i - len(B)) % len(A)])) * p_inv\n",
    "            a_hash += power * ord(A[i % len(A)])\n",
    "            a_hash %= MOD\n",
    "            if a_hash == b_hash and check(i - len(B) + 1):\n",
    "                return q if i < q * len(A) else q + 1\n",
    "\n",
    "        return -1"
   ]
  }
 ],
 "metadata": {
  "kernelspec": {
   "display_name": "Python 3",
   "language": "python",
   "name": "python3"
  },
  "language_info": {
   "codemirror_mode": {
    "name": "ipython",
    "version": 3
   },
   "file_extension": ".py",
   "mimetype": "text/x-python",
   "name": "python",
   "nbconvert_exporter": "python",
   "pygments_lexer": "ipython3",
   "version": "3.5.2"
  }
 },
 "nbformat": 4,
 "nbformat_minor": 2
}

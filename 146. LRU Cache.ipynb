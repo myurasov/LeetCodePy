{
 "cells": [
  {
   "cell_type": "code",
   "execution_count": null,
   "metadata": {
    "collapsed": true
   },
   "outputs": [],
   "source": [
    "# 1 - slow"
   ]
  },
  {
   "cell_type": "code",
   "execution_count": 44,
   "metadata": {
    "collapsed": true
   },
   "outputs": [],
   "source": [
    "class LRUCacheEntry():\n",
    "    def __init__(self, key, value, time):\n",
    "        self.key = key\n",
    "        self.value = value\n",
    "        self.time = time\n",
    "\n",
    "    def __gt__(e1, e2):\n",
    "        return e1.time > e2.time\n",
    "\n",
    "    def __ge__(e1, e2):\n",
    "        return e1.time >= e2.time\n",
    "\n",
    "    def __eq__(e1, e2):\n",
    "        return e1.time == e2.time\n",
    "\n",
    "    def __repr__(self):\n",
    "        return '(key=%d; value=%d; time=%d)' % (self.key, self.value,\n",
    "                                                self.time)\n",
    "\n",
    "\n",
    "class LRUCache(object):\n",
    "    def __init__(self, capacity):\n",
    "        \"\"\"\n",
    "        :type capacity: int\n",
    "        \"\"\"\n",
    "\n",
    "        self._time = 0\n",
    "        self._capacity = capacity\n",
    "        self._items = {}  # [{key,value,time}]\n",
    "\n",
    "    def get(self, key):\n",
    "        \"\"\"\n",
    "        :type key: int\n",
    "        :rtype: int\n",
    "        \"\"\"\n",
    "\n",
    "        if key in self._items:\n",
    "            self._time += 1\n",
    "            self._items[key].time = self._time\n",
    "            return self._items[key].value\n",
    "        else:\n",
    "            return -1\n",
    "\n",
    "    def put(self, key, value):\n",
    "        \"\"\"\n",
    "        :type key: int\n",
    "        :type value: int\n",
    "        :rtype: void\n",
    "        \"\"\"\n",
    "\n",
    "        self._time += 1\n",
    "\n",
    "        if not key in self._items:\n",
    "\n",
    "            self._items[key] = LRUCacheEntry(key, value, self._time)\n",
    "\n",
    "        else:\n",
    "\n",
    "            self._items[key].time = self._time\n",
    "            self._items[key].value = value\n",
    "\n",
    "        # remove least accesses item\n",
    "        if len(self._items) > self._capacity:\n",
    "            mintime = self._time\n",
    "            key_to_remove = key\n",
    "\n",
    "            for k in self._items:\n",
    "                v = self._items[k]\n",
    "                if v.time < mintime:\n",
    "                    mintime = v.time\n",
    "                    key_to_remove = k\n",
    "\n",
    "            del self._items[key_to_remove]"
   ]
  },
  {
   "cell_type": "code",
   "execution_count": null,
   "metadata": {
    "collapsed": true
   },
   "outputs": [],
   "source": [
    "# 2 - with collections.OrderedDict"
   ]
  },
  {
   "cell_type": "code",
   "execution_count": 88,
   "metadata": {
    "collapsed": true
   },
   "outputs": [],
   "source": [
    "from collections import OrderedDict\n",
    "\n",
    "\n",
    "class LRUCache(object):\n",
    "    def __init__(self, capacity):\n",
    "        \"\"\"\n",
    "        :type capacity: int\n",
    "        \"\"\"\n",
    "        self._items = OrderedDict()\n",
    "        self._capacity = capacity\n",
    "\n",
    "    def get(self, key):\n",
    "        \"\"\"\n",
    "        :type key: int\n",
    "        :rtype: int\n",
    "        \"\"\"\n",
    "\n",
    "        # reinsert at the end with same value\n",
    "        if key in self._items:\n",
    "            r = self._items.pop(key)\n",
    "            self._items[key] = r\n",
    "            return r\n",
    "\n",
    "        return -1\n",
    "\n",
    "    def put(self, key, value):\n",
    "        \"\"\"\n",
    "        :type key: int\n",
    "        :type value: int\n",
    "        :rtype: void\n",
    "        \"\"\"\n",
    "\n",
    "        # (re)insert at the end with new value\n",
    "\n",
    "        if key in self._items:\n",
    "            self._items.pop(key)\n",
    "\n",
    "        self._items[key] = value\n",
    "\n",
    "        # remove first (oldest) item when capacity exceeded\n",
    "        if len(self._items) > self._capacity:\n",
    "            self._items.popitem(last=False)"
   ]
  },
  {
   "cell_type": "code",
   "execution_count": null,
   "metadata": {
    "collapsed": true
   },
   "outputs": [],
   "source": [
    "# 3: Using doubly linked list"
   ]
  },
  {
   "cell_type": "code",
   "execution_count": 51,
   "metadata": {},
   "outputs": [],
   "source": [
    "class DoublyLinkedNode():\n",
    "    def __init__(self, value=None, key=None, prev=None, next=None):\n",
    "        self.value = value\n",
    "        self.key = key\n",
    "        self.prev = prev\n",
    "        self.next = next\n",
    "\n",
    "    def __repr__(self):\n",
    "        return '(key=%s, value=%s)' % (self.key, self.value)\n",
    "\n",
    "\n",
    "class LRUCache():\n",
    "    def __init__(self, capacity):\n",
    "        self._capacity = capacity\n",
    "        self._head = DoublyLinkedNode(key='head')  # newest\n",
    "        self._tail = DoublyLinkedNode(key='tail')  # oldest\n",
    "        self._head.next = self._tail\n",
    "        self._head.prev = self._tail\n",
    "        self._tail.prev = self._head\n",
    "        self._tail.next = self._head\n",
    "\n",
    "        self._nodes = {}\n",
    "\n",
    "    def get(self, key):\n",
    "        if key in self._nodes:\n",
    "            self.put(key, self._nodes[key].value)\n",
    "            return self._nodes[key].value\n",
    "\n",
    "        return -1\n",
    "\n",
    "    def put(self, key, value):\n",
    "\n",
    "        if key not in self._nodes:\n",
    "\n",
    "            # create new node\n",
    "            node = DoublyLinkedNode(value=value, key=key)\n",
    "            self._nodes[key] = node\n",
    "\n",
    "        else:\n",
    "\n",
    "            # update node val\n",
    "            node = self._nodes[key]\n",
    "            node.value = value\n",
    "\n",
    "            # remove node\n",
    "            node.prev.next = node.next\n",
    "            node.next.prev = node.prev\n",
    "\n",
    "\n",
    "        # insert before head\n",
    "        node.next = self._head\n",
    "        node.prev = self._head.prev\n",
    "        self._head.prev.next = node\n",
    "        self._head.prev = node\n",
    "        \n",
    "\n",
    "        # remove element right after tail if cache capacity exceeded\n",
    "        if len(self._nodes) > self._capacity:\n",
    "            e = self._tail.next\n",
    "            e.prev.next = e.next\n",
    "            e.next.prev = e.prev\n",
    "            del self._nodes[e.key]\n",
    "\n",
    "    def __repr__(self):\n",
    "\n",
    "        r = ''\n",
    "        n = self._tail\n",
    "\n",
    "        while True:\n",
    "            r += '(key=%s, value=%s)' % (n.key, n.value)\n",
    "\n",
    "            if n is self._head:\n",
    "                r += ' <-> [' + str(n.next.key) + ']'\n",
    "                break\n",
    "\n",
    "            r += ' <-> '\n",
    "            n = n.next\n",
    "\n",
    "        return r"
   ]
  },
  {
   "cell_type": "code",
   "execution_count": 57,
   "metadata": {
    "collapsed": true
   },
   "outputs": [],
   "source": [
    "c = LRUCache(2)"
   ]
  },
  {
   "cell_type": "code",
   "execution_count": 58,
   "metadata": {},
   "outputs": [],
   "source": [
    "c.put(11, 111)\n",
    "c.put(22, 222)"
   ]
  },
  {
   "cell_type": "code",
   "execution_count": 59,
   "metadata": {},
   "outputs": [
    {
     "data": {
      "text/plain": [
       "(key=tail, value=None) <-> (key=11, value=111) <-> (key=22, value=222) <-> (key=head, value=None) <-> [tail]"
      ]
     },
     "execution_count": 59,
     "metadata": {},
     "output_type": "execute_result"
    }
   ],
   "source": [
    "c"
   ]
  },
  {
   "cell_type": "code",
   "execution_count": 60,
   "metadata": {},
   "outputs": [],
   "source": [
    "c.put(11, 1)"
   ]
  },
  {
   "cell_type": "code",
   "execution_count": 61,
   "metadata": {
    "scrolled": true
   },
   "outputs": [
    {
     "data": {
      "text/plain": [
       "(key=tail, value=None) <-> (key=22, value=222) <-> (key=11, value=1) <-> (key=head, value=None) <-> [tail]"
      ]
     },
     "execution_count": 61,
     "metadata": {},
     "output_type": "execute_result"
    }
   ],
   "source": [
    "c"
   ]
  },
  {
   "cell_type": "code",
   "execution_count": null,
   "metadata": {
    "collapsed": true
   },
   "outputs": [],
   "source": [
    "c.put(22, 22222)"
   ]
  },
  {
   "cell_type": "code",
   "execution_count": 63,
   "metadata": {},
   "outputs": [
    {
     "data": {
      "text/plain": [
       "(key=tail, value=None) <-> (key=11, value=1) <-> (key=22, value=22222) <-> (key=head, value=None) <-> [tail]"
      ]
     },
     "execution_count": 63,
     "metadata": {},
     "output_type": "execute_result"
    }
   ],
   "source": [
    "c"
   ]
  },
  {
   "cell_type": "code",
   "execution_count": 64,
   "metadata": {
    "collapsed": true
   },
   "outputs": [],
   "source": [
    "c.put(33, 333)"
   ]
  },
  {
   "cell_type": "code",
   "execution_count": 65,
   "metadata": {},
   "outputs": [
    {
     "data": {
      "text/plain": [
       "(key=tail, value=None) <-> (key=22, value=22222) <-> (key=33, value=333) <-> (key=head, value=None) <-> [tail]"
      ]
     },
     "execution_count": 65,
     "metadata": {},
     "output_type": "execute_result"
    }
   ],
   "source": [
    "c"
   ]
  },
  {
   "cell_type": "code",
   "execution_count": 47,
   "metadata": {
    "collapsed": true
   },
   "outputs": [],
   "source": [
    "cache = LRUCache(2)\n",
    "\n",
    "cache.put(1, 1)\n",
    "\n",
    "cache.put(2, 2)\n",
    "# print(cache._items, cache._indexes)\n",
    "\n",
    "print(cache.get(1))\n",
    "# returns 1\n",
    "\n",
    "for i in cache._items:\n",
    "    print(cache._items[i])\n",
    "\n",
    "# print(cache._items, cache._indexes)\n",
    "\n",
    "cache.put(3, 3)\n",
    "# evicts key 2\n",
    "# print(cache._items, cache._indexes)\n",
    "\n",
    "print(cache.get(2))\n",
    "# returns -1 (not found)\n",
    "\n",
    "print(cache._items, cache._indexes, cache._deleted)\n",
    "\n",
    "cache.put(4, 4);    # evicts key 1\n",
    "# print(cache._items, cache._indexes)\n",
    "\n",
    "print(cache.get(1));       # returns -1 (not found)\n",
    "# print(cache._items, cache._indexes)\n",
    "\n",
    "print(cache.get(3));       # returns 3\n",
    "\n",
    "print(cache.get(4));       # returns 4\n",
    "# # print(cache._items)"
   ]
  }
 ],
 "metadata": {
  "kernelspec": {
   "display_name": "Python 3",
   "language": "python",
   "name": "python3"
  },
  "language_info": {
   "codemirror_mode": {
    "name": "ipython",
    "version": 3
   },
   "file_extension": ".py",
   "mimetype": "text/x-python",
   "name": "python",
   "nbconvert_exporter": "python",
   "pygments_lexer": "ipython3",
   "version": "3.5.2"
  }
 },
 "nbformat": 4,
 "nbformat_minor": 2
}

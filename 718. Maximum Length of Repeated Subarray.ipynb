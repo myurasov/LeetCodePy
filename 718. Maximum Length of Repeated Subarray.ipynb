{
 "cells": [
  {
   "cell_type": "code",
   "execution_count": 2,
   "metadata": {},
   "outputs": [],
   "source": [
    "# https://en.wikipedia.org/wiki/Longest_common_substring_problem\n",
    "\n",
    "\n",
    "class Solution(object):\n",
    "    def findLength(self, A, B):\n",
    "        \"\"\"\n",
    "        :type A: List[int]\n",
    "        :type B: List[int]\n",
    "        :rtype: int\n",
    "        \"\"\"\n",
    "\n",
    "        return self.lc_subarray(A, B)\n",
    "\n",
    "    def lc_subarray(self, A, B):\n",
    "\n",
    "        lc_suff = [[0] * (len(A) + 1) for x in range(len(A) + 1)]\n",
    "        r = 0\n",
    "\n",
    "        for i in range(1, len(A) + 1):\n",
    "            for j in range(1, len(B) + 1):\n",
    "                if A[i - 1] == B[j - 1]:\n",
    "                    lc_suff[i][j] = lc_suff[i - 1][j - 1] + 1\n",
    "                    r = max(r, lc_suff[i][j])\n",
    "                else:\n",
    "                    lc_suff[i][j] = 0\n",
    "\n",
    "        print('A ->', A)\n",
    "        for i, v in enumerate(lc_suff):\n",
    "            print(B[i - 1] if i > 0 else 'B', v)\n",
    "\n",
    "        return r"
   ]
  },
  {
   "cell_type": "code",
   "execution_count": 3,
   "metadata": {},
   "outputs": [
    {
     "name": "stdout",
     "output_type": "stream",
     "text": [
      "A -> [2, 5, 2, 5]\n",
      "B [0, 0, 0, 0, 0]\n",
      "5 [0, 0, 1, 0, 1]\n",
      "2 [0, 1, 0, 2, 0]\n",
      "5 [0, 0, 2, 0, 3]\n",
      "2 [0, 1, 0, 3, 0]\n"
     ]
    },
    {
     "data": {
      "text/plain": [
       "3"
      ]
     },
     "execution_count": 3,
     "metadata": {},
     "output_type": "execute_result"
    }
   ],
   "source": [
    "Solution().findLength([2, 5, 2, 5], [5, 2, 5, 2])"
   ]
  },
  {
   "cell_type": "code",
   "execution_count": 4,
   "metadata": {},
   "outputs": [
    {
     "name": "stdout",
     "output_type": "stream",
     "text": [
      "A -> [1, 2, 3, 2, 1]\n",
      "B [0, 0, 0, 0, 0, 0]\n",
      "3 [0, 0, 0, 1, 0, 0]\n",
      "2 [0, 0, 1, 0, 0, 0]\n",
      "1 [0, 1, 0, 0, 0, 0]\n",
      "4 [0, 0, 2, 0, 0, 0]\n",
      "7 [0, 0, 0, 3, 0, 0]\n"
     ]
    },
    {
     "data": {
      "text/plain": [
       "3"
      ]
     },
     "execution_count": 4,
     "metadata": {},
     "output_type": "execute_result"
    }
   ],
   "source": [
    "Solution().findLength([1, 2, 3, 2, 1], [3, 2, 1, 4, 7])"
   ]
  },
  {
   "cell_type": "code",
   "execution_count": 5,
   "metadata": {},
   "outputs": [
    {
     "name": "stdout",
     "output_type": "stream",
     "text": [
      "A -> [0, 1, 1, 1, 1]\n",
      "B [0, 0, 0, 0, 0, 0]\n",
      "1 [0, 0, 1, 0, 1, 0]\n",
      "0 [0, 1, 0, 2, 0, 2]\n",
      "1 [0, 1, 0, 1, 0, 1]\n",
      "0 [0, 1, 0, 1, 0, 1]\n",
      "1 [0, 1, 0, 1, 0, 1]\n"
     ]
    },
    {
     "data": {
      "text/plain": [
       "2"
      ]
     },
     "execution_count": 5,
     "metadata": {},
     "output_type": "execute_result"
    }
   ],
   "source": [
    "Solution().findLength([0, 1, 1, 1, 1], [1, 0, 1, 0, 1])"
   ]
  }
 ],
 "metadata": {
  "kernelspec": {
   "display_name": "Python 3",
   "language": "python",
   "name": "python3"
  },
  "language_info": {
   "codemirror_mode": {
    "name": "ipython",
    "version": 3
   },
   "file_extension": ".py",
   "mimetype": "text/x-python",
   "name": "python",
   "nbconvert_exporter": "python",
   "pygments_lexer": "ipython3",
   "version": "3.5.2"
  }
 },
 "nbformat": 4,
 "nbformat_minor": 2
}

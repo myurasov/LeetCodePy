{
 "cells": [
  {
   "cell_type": "code",
   "execution_count": 396,
   "metadata": {},
   "outputs": [],
   "source": [
    "class Solution(object):\n",
    "    def calculate(self, s):\n",
    "        \"\"\"\n",
    "        :type s: str\n",
    "        :rtype: int\n",
    "        \"\"\"\n",
    "\n",
    "        s = '(' + s + ')'\n",
    "        stack = []\n",
    "        i = 0\n",
    "\n",
    "        while i < len(s):\n",
    "\n",
    "            r = 0\n",
    "\n",
    "            # find expression without parenthesis\n",
    "            while s[i] in '-+0123456789':\n",
    "                stack[-1] += s[i]\n",
    "                i += 1\n",
    "\n",
    "            # new expression starts\n",
    "            if s[i] == '(':\n",
    "                stack.append('')\n",
    "\n",
    "            # expression ends\n",
    "            if s[i] == ')':\n",
    "                # add result of current simple expression to higher level one\n",
    "                p = stack.pop()\n",
    "                if len(stack):\n",
    "                    stack[-1] += '+' + str(self.calc_simple(p))\n",
    "                else:\n",
    "                    return self.calc_simple(p)\n",
    "\n",
    "            i += 1\n",
    "\n",
    "    # calculate expresison without parenthesis\n",
    "    def calc_simple(self, s):\n",
    "\n",
    "        r = 0\n",
    "        s = '0+' + s\n",
    "        operands = []\n",
    "\n",
    "        i = 0\n",
    "\n",
    "        while i < len(s):\n",
    "            operands.append('')\n",
    "            operator = '+'\n",
    "\n",
    "            while i < len(s) and s[i] in '+-':\n",
    "                if '-' == s[i]:\n",
    "                    if operator == '+':\n",
    "                        operator = '-'\n",
    "                    else:\n",
    "                        operator = '+'\n",
    "                i += 1\n",
    "\n",
    "            while i < len(s) and s[i] in '0123456789':\n",
    "                operands[-1] += s[i]\n",
    "                i += 1\n",
    "\n",
    "            if len(operands) == 2:\n",
    "                if '+' == operator:\n",
    "                    operands[0] = int(operands[0]) + int(operands[1])\n",
    "                    operands.pop()\n",
    "                else:\n",
    "                    operands[0] = int(operands[0]) - int(operands[1])\n",
    "                    operands.pop()\n",
    "\n",
    "        return int(operands[0])"
   ]
  },
  {
   "cell_type": "code",
   "execution_count": 402,
   "metadata": {},
   "outputs": [],
   "source": [
    "assert Solution().calc_simple('-123--1') == -123--1\n",
    "assert Solution().calc_simple('123--1') == 123--1\n",
    "assert Solution().calc_simple('-+--123-+1') == -+--123-+1\n",
    "assert Solution().calc_simple('-1+2-3+4--5---6++1') == -1+2-3+4--5---6++1"
   ]
  },
  {
   "cell_type": "code",
   "execution_count": 403,
   "metadata": {
    "scrolled": true
   },
   "outputs": [],
   "source": [
    "assert Solution().calculate('(1+(4+5+2)-3)+(6+8)') == (1+(4+5+2)-3)+(6+8)\n",
    "assert Solution().calculate('119+2-(3-6)') == 119+2-(3-6)\n",
    "assert Solution().calculate('1+2)') == 1+2"
   ]
  }
 ],
 "metadata": {
  "kernelspec": {
   "display_name": "Python 3",
   "language": "python",
   "name": "python3"
  },
  "language_info": {
   "codemirror_mode": {
    "name": "ipython",
    "version": 3
   },
   "file_extension": ".py",
   "mimetype": "text/x-python",
   "name": "python",
   "nbconvert_exporter": "python",
   "pygments_lexer": "ipython3",
   "version": "3.5.2"
  }
 },
 "nbformat": 4,
 "nbformat_minor": 2
}

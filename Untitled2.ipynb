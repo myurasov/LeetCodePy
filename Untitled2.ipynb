{
 "cells": [
  {
   "cell_type": "code",
   "execution_count": null,
   "metadata": {},
   "outputs": [],
   "source": [
    "# #91"
   ]
  },
  {
   "cell_type": "code",
   "execution_count": 9,
   "metadata": {},
   "outputs": [],
   "source": [
    "class Solution(object):\n",
    "    def numDecodings(self, s):\n",
    "        \"\"\"\n",
    "        :type s: str\n",
    "        :rtype: int\n",
    "        \"\"\"\n",
    "\n",
    "        self.res = 0\n",
    "        if s: self.decode(s)\n",
    "        return self.res\n",
    "\n",
    "    def decode(self, s, variants=0):\n",
    "\n",
    "        if len(s) == 0:\n",
    "            self.res += 1\n",
    "            return\n",
    "\n",
    "        if len(s) > 0:\n",
    "            n = int(s[:1])\n",
    "            if n > 0: self.decode(s[1:])\n",
    "            else: return\n",
    "\n",
    "        if len(s) > 1:\n",
    "            n = int(s[:2])\n",
    "            if n <= 26: self.decode(s[2:])"
   ]
  },
  {
   "cell_type": "code",
   "execution_count": 18,
   "metadata": {
    "scrolled": true
   },
   "outputs": [
    {
     "data": {
      "text/plain": [
       "2"
      ]
     },
     "execution_count": 18,
     "metadata": {},
     "output_type": "execute_result"
    }
   ],
   "source": [
    "Solution().numDecodings('12')"
   ]
  },
  {
   "cell_type": "code",
   "execution_count": 19,
   "metadata": {},
   "outputs": [
    {
     "data": {
      "text/plain": [
       "1"
      ]
     },
     "execution_count": 19,
     "metadata": {},
     "output_type": "execute_result"
    }
   ],
   "source": [
    "Solution().numDecodings('4757562545844617494555774581341211511296816786586787755257741178599337186486723247528324612117156948')"
   ]
  },
  {
   "cell_type": "code",
   "execution_count": 16,
   "metadata": {},
   "outputs": [],
   "source": [
    "class Solution(object):\n",
    "    def numDecodings(self, s):\n",
    "        \"\"\"\n",
    "        :type s: str\n",
    "        :rtype: int\n",
    "        \"\"\"\n",
    "\n",
    "        if s == '0' or s == '': return 0\n",
    "\n",
    "        ways = [1] * (1 + len(s))\n",
    "\n",
    "        for i in range(1, len(s)):\n",
    "            prev = int(s[i - 1])\n",
    "            curr = int(s[i])\n",
    "\n",
    "            if (curr == 0 and prev == 0) or \\\n",
    "                (curr == 0 and (prev * 10 + curr > 26)):\n",
    "                return 0\n",
    "\n",
    "            elif prev == 0 or (prev * 10 + curr) > 26:\n",
    "                ways[i + 1] = ways[1]\n",
    "\n",
    "            elif curr == 0:\n",
    "                ways[i + 1] = ways[i - 1]\n",
    "\n",
    "            else:\n",
    "                ways[i + 1] = ways[i] + ways[i - 1]\n",
    "\n",
    "        return ways[-1]"
   ]
  },
  {
   "cell_type": "code",
   "execution_count": 17,
   "metadata": {},
   "outputs": [
    {
     "data": {
      "text/plain": [
       "1"
      ]
     },
     "execution_count": 17,
     "metadata": {},
     "output_type": "execute_result"
    }
   ],
   "source": [
    "Solution().numDecodings('4757562545844617494555774581341211511296816786586787755257741178599337186486723247528324612117156948')"
   ]
  },
  {
   "cell_type": "code",
   "execution_count": 4,
   "metadata": {},
   "outputs": [],
   "source": [
    "# #137"
   ]
  },
  {
   "cell_type": "code",
   "execution_count": 29,
   "metadata": {},
   "outputs": [],
   "source": [
    "# counting\n",
    "\n",
    "from collections import Counter\n",
    "\n",
    "\n",
    "class Solution(object):\n",
    "    def singleNumber(self, nums):\n",
    "        \"\"\"\n",
    "        :type nums: List[int]\n",
    "        :rtype: int\n",
    "        \"\"\"\n",
    "\n",
    "        d = Counter()\n",
    "\n",
    "        for n in nums:\n",
    "            d[n] += 1\n",
    "\n",
    "        return d.most_common()[-1][0]"
   ]
  },
  {
   "cell_type": "code",
   "execution_count": 38,
   "metadata": {},
   "outputs": [],
   "source": [
    "# converting to set\n",
    "\n",
    "class Solution(object):\n",
    "    def singleNumber(self, nums):\n",
    "        \"\"\"\n",
    "        :type nums: List[int]\n",
    "        :rtype: int\n",
    "        \"\"\"\n",
    "        \n",
    "        return (3 * sum(set(nums)) - sum(nums)) // 2"
   ]
  },
  {
   "cell_type": "code",
   "execution_count": 35,
   "metadata": {},
   "outputs": [],
   "source": [
    "# bitwise ops\n",
    "# see https://leetcode.com/problems/single-number-ii/discuss/43295\n",
    "\n",
    "\n",
    "class Solution(object):\n",
    "    def singleNumber(self, nums):\n",
    "        \"\"\"\n",
    "        :type nums: List[int]\n",
    "        :rtype: int\n",
    "        \"\"\"\n",
    "\n",
    "        x1, x2, x3 = 0, 0, 0\n",
    "\n",
    "        for n in nums:\n",
    "            x2 ^= x1 & n\n",
    "            x1 ^= n\n",
    "            m = ~(x1 & x2)\n",
    "            x2 &= m\n",
    "            x1 &= m\n",
    "\n",
    "        return x1"
   ]
  },
  {
   "cell_type": "code",
   "execution_count": 40,
   "metadata": {},
   "outputs": [
    {
     "data": {
      "text/plain": [
       "5"
      ]
     },
     "execution_count": 40,
     "metadata": {},
     "output_type": "execute_result"
    }
   ],
   "source": [
    "Solution().singleNumber([1,2,1,2,1,2,5])"
   ]
  },
  {
   "cell_type": "code",
   "execution_count": 39,
   "metadata": {},
   "outputs": [
    {
     "data": {
      "text/plain": [
       "2147483647"
      ]
     },
     "execution_count": 39,
     "metadata": {},
     "output_type": "execute_result"
    }
   ],
   "source": [
    "Solution().singleNumber([\n",
    "    43, 16, 45, 89, 45, -2147483648, 45, 2147483646, -2147483647, -2147483648,\n",
    "    43, 2147483647, -2147483646, -2147483648, 89, -2147483646, 89, -2147483646,\n",
    "    -2147483647, 2147483646, -2147483647, 16, 16, 2147483646, 43\n",
    "])"
   ]
  },
  {
   "cell_type": "code",
   "execution_count": null,
   "metadata": {},
   "outputs": [],
   "source": []
  }
 ],
 "metadata": {
  "kernelspec": {
   "display_name": "Python 3",
   "language": "python",
   "name": "python3"
  },
  "language_info": {
   "codemirror_mode": {
    "name": "ipython",
    "version": 3
   },
   "file_extension": ".py",
   "mimetype": "text/x-python",
   "name": "python",
   "nbconvert_exporter": "python",
   "pygments_lexer": "ipython3",
   "version": "3.5.2"
  }
 },
 "nbformat": 4,
 "nbformat_minor": 2
}

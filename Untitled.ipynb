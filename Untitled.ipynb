{
 "cells": [
  {
   "cell_type": "code",
   "execution_count": 112,
   "metadata": {},
   "outputs": [],
   "source": [
    "from collections import OrderedDict\n",
    "\n",
    "\n",
    "class Solution(object):\n",
    "    def getSkyline(self, buildings):\n",
    "        \"\"\"\n",
    "        :type buildings: List[List[int]]\n",
    "        :rtype: List[List[int]]\n",
    "        \"\"\"\n",
    "\n",
    "        buildings.sort(key=lambda x: -x[2])\n",
    "\n",
    "        h = 0\n",
    "        i = 0\n",
    "\n",
    "        # list of intervals from <key> to next lower key\n",
    "        hh = OrderedDict()\n",
    "        ints = []\n",
    "\n",
    "        while i < len(buildings):\n",
    "\n",
    "            # find buildings with same h\n",
    "            h = buildings[i][2]\n",
    "            while i < len(buildings) and h == buildings[i][2]:\n",
    "                ints.append(buildings[i][:2])\n",
    "                i += 1\n",
    "                \n",
    "            hh[h] = self.merge_intervals(ints.copy())\n",
    "            print(h, hh[h])\n",
    "\n",
    "    def merge_intervals(self, ints):\n",
    "\n",
    "        if len(ints) > 2:\n",
    "            ints.sort(key=lambda x: x[0])\n",
    "            res = [ints[0]]\n",
    "\n",
    "            for i in range(1, len(ints)):\n",
    "                a = res[-1]\n",
    "                b = ints[i]\n",
    "                r = self.merge_intervals([a, b])\n",
    "                if 1 == len(r): res.pop()\n",
    "                res.append(r[-1])\n",
    "\n",
    "            return res\n",
    "\n",
    "        elif len(ints) == 2:\n",
    "\n",
    "            # a should be to the left\n",
    "            if ints[0][0] > ints[1][0]:\n",
    "                return self.merge_intervals([ints[1], ints[0]])\n",
    "\n",
    "            if ints[0][1] >= ints[1][1]:\n",
    "                return [[ints[0][0], ints[0][1]]]  # b inside a\n",
    "            elif ints[0][1] >= ints[1][0]:\n",
    "                return [[ints[0][0], ints[1][1]]]  # b intersects with a\n",
    "            else:\n",
    "                return [ints[0], ints[1]]\n",
    "            \n",
    "        return ints"
   ]
  },
  {
   "cell_type": "code",
   "execution_count": 113,
   "metadata": {},
   "outputs": [
    {
     "name": "stdout",
     "output_type": "stream",
     "text": [
      "15 [[3, 7]]\n",
      "12 [[3, 12]]\n",
      "10 [[2, 12], [15, 20]]\n",
      "8 [[2, 12], [15, 24]]\n"
     ]
    }
   ],
   "source": [
    "Solution().getSkyline([[2, 9, 10], [3, 7, 15], [5, 12, 12], [15, 20, 10],\n",
    "                       [19, 24, 8]])"
   ]
  },
  {
   "cell_type": "code",
   "execution_count": 55,
   "metadata": {
    "collapsed": true
   },
   "outputs": [],
   "source": [
    "def merge_intervals(a, b):\n",
    "    # a shoukd be to the left\n",
    "    if a[0] > b[0]:\n",
    "        return merge_intervals(b, a)\n",
    "\n",
    "    if a[1] >= b[1]:\n",
    "        return ([a[0], a[1]], ) # b inside a\n",
    "    elif a[1] >= b[0]:\n",
    "        return ([a[0], b[1]], ) # b intersects with a\n",
    "    else:\n",
    "        return (a, b)\n",
    "\n",
    "assert merge_intervals([1, 2], [3, 4]) == ([1, 2], [3, 4])\n",
    "assert merge_intervals([1, 3], [3, 4]) == ([1, 4], )\n",
    "assert merge_intervals([1, 10], [3, 4]) == ([1, 10], )\n",
    "assert merge_intervals([10, 11], [3, 4]) == ([3, 4], [10, 11])\n",
    "assert merge_intervals([5, 10], [0, 7]) == ([0, 10], )\n",
    "assert merge_intervals([1, 2], [1, 2]) == ([1, 2], )"
   ]
  },
  {
   "cell_type": "code",
   "execution_count": 104,
   "metadata": {},
   "outputs": [],
   "source": [
    "def merge_intervals(ints):\n",
    "\n",
    "    if len(ints) > 2:\n",
    "        ints.sort(key=lambda x: x[0])\n",
    "        res = [ints[0]]\n",
    "\n",
    "        for i in range(1, len(ints)):\n",
    "            a = res[-1]\n",
    "            b = ints[i]\n",
    "            r = merge_intervals([a, b])\n",
    "            if 1 == len(r): res.pop()\n",
    "            res.append(r[-1])\n",
    "\n",
    "        return res\n",
    "\n",
    "    elif len(ints) == 2:\n",
    "\n",
    "        # a should be to the left\n",
    "        if ints[0][0] > ints[1][0]:\n",
    "            return merge_intervals([ints[1], ints[0]])\n",
    "\n",
    "        if ints[0][1] >= ints[1][1]:\n",
    "            return [[ints[0][0], ints[0][1]]]  # b inside a\n",
    "        elif ints[0][1] >= ints[1][0]:\n",
    "            return [[ints[0][0], ints[1][1]]]  # b intersects with a\n",
    "        else:\n",
    "            return [ints[0], ints[1]]\n",
    "\n",
    "    return ints\n",
    "\n",
    "\n",
    "assert merge_intervals([[1, 2], [3, 4]]) == [[1, 2], [3, 4]]\n",
    "assert merge_intervals([[1, 3], [3, 4]]) == [[1, 4]]\n",
    "assert merge_intervals([[1, 10], [3, 4]]) == [[1, 10]]\n",
    "assert merge_intervals([[10, 11], [3, 4]]) == [[3, 4], [10, 11]]\n",
    "assert merge_intervals([[5, 10], [0, 7]]) == [[0, 10]]\n",
    "assert merge_intervals([[1, 2], [1, 2]]) == [[1, 2]]\n",
    "assert merge_intervals([[0, 1], [2, 4], [4, 5], [6, 7],\n",
    "                        [-10, 1]]) == [[-10, 1], [2, 5], [6, 7]]"
   ]
  },
  {
   "cell_type": "code",
   "execution_count": 105,
   "metadata": {},
   "outputs": [
    {
     "data": {
      "text/plain": [
       "[[3, 7]]"
      ]
     },
     "execution_count": 105,
     "metadata": {},
     "output_type": "execute_result"
    }
   ],
   "source": [
    "merge_intervals([[3,7]])"
   ]
  },
  {
   "cell_type": "code",
   "execution_count": null,
   "metadata": {
    "collapsed": true
   },
   "outputs": [],
   "source": []
  }
 ],
 "metadata": {
  "kernelspec": {
   "display_name": "Python 3",
   "language": "python",
   "name": "python3"
  },
  "language_info": {
   "codemirror_mode": {
    "name": "ipython",
    "version": 3
   },
   "file_extension": ".py",
   "mimetype": "text/x-python",
   "name": "python",
   "nbconvert_exporter": "python",
   "pygments_lexer": "ipython3",
   "version": "3.5.2"
  }
 },
 "nbformat": 4,
 "nbformat_minor": 2
}

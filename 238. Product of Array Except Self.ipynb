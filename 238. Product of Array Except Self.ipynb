{
 "cells": [
  {
   "cell_type": "code",
   "execution_count": 1,
   "metadata": {},
   "outputs": [],
   "source": [
    "class Solution(object):\n",
    "    def productExceptSelf(self, nums):\n",
    "        \"\"\"\n",
    "        :type nums: List[int]\n",
    "        :rtype: List[int]\n",
    "        \"\"\"\n",
    "\n",
    "        # [1,2,3,4]:\n",
    "        #\n",
    "        # f: 1 1*2 1*2*3 1*2*3*4 (forward)\n",
    "        # b: 4*3*2*1 4*3*2 4*3 4 (backward)\n",
    "\n",
    "        f = [1] * len(nums)\n",
    "\n",
    "        for i in range(len(nums) - 1):\n",
    "            f[i] = nums[i] * (f[i - 1] if i > 0 else 1)\n",
    "\n",
    "        b = [1] * len(nums)\n",
    "\n",
    "        for i in range(len(nums) - 1, 0, -1):\n",
    "            b[i] = nums[i] * (b[i + 1] if i < len(nums) - 1 else 1)\n",
    "\n",
    "        r = [1] * len(nums)\n",
    "\n",
    "        for i in range(len(nums)):\n",
    "            r[i] = \\\n",
    "                (f[i - 1] if i > 0 else 1) * \\\n",
    "                (b[i + 1] if i < len(nums) - 1 else 1) \\\n",
    "\n",
    "        return r"
   ]
  },
  {
   "cell_type": "code",
   "execution_count": 2,
   "metadata": {},
   "outputs": [
    {
     "data": {
      "text/plain": [
       "[24, 12, 8, 6]"
      ]
     },
     "execution_count": 2,
     "metadata": {},
     "output_type": "execute_result"
    }
   ],
   "source": [
    "Solution().productExceptSelf([1,2,3,4])"
   ]
  },
  {
   "cell_type": "code",
   "execution_count": null,
   "metadata": {},
   "outputs": [],
   "source": []
  }
 ],
 "metadata": {
  "kernelspec": {
   "display_name": "Python 3",
   "language": "python",
   "name": "python3"
  },
  "language_info": {
   "codemirror_mode": {
    "name": "ipython",
    "version": 3
   },
   "file_extension": ".py",
   "mimetype": "text/x-python",
   "name": "python",
   "nbconvert_exporter": "python",
   "pygments_lexer": "ipython3",
   "version": "3.5.2"
  }
 },
 "nbformat": 4,
 "nbformat_minor": 2
}

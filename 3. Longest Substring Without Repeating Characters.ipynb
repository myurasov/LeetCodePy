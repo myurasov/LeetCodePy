{
 "cells": [
  {
   "cell_type": "code",
   "execution_count": 70,
   "metadata": {
    "collapsed": true
   },
   "outputs": [],
   "source": [
    "from collections import Counter\n",
    "\n",
    "# 1: if duoplicate appears, move start until it disappears, else proceed forward\n",
    "class Solution(object):\n",
    "    def lengthOfLongestSubstring(self, s):\n",
    "        \"\"\"\n",
    "        :type s: str\n",
    "        :rtype: int\n",
    "        \"\"\"\n",
    "\n",
    "        r = 0\n",
    "        a = 0\n",
    "        b = 0\n",
    "        c = Counter()\n",
    "\n",
    "        while a < len(s) - r and b < len(s):\n",
    "            if c[s[b]] > 0:\n",
    "                c[s[a]] = max(0, c[s[a]] - 1)\n",
    "                a += 1\n",
    "            else:\n",
    "                c[s[b]] += 1\n",
    "                b += 1\n",
    "\n",
    "            r = max(r, b - a)\n",
    "\n",
    "        return r"
   ]
  },
  {
   "cell_type": "code",
   "execution_count": 71,
   "metadata": {
    "collapsed": true
   },
   "outputs": [],
   "source": [
    "# 2: using bit operations instead of dict\n",
    "class Solution(object):\n",
    "    def lengthOfLongestSubstring(self, s):\n",
    "        \"\"\"\n",
    "        :type s: str\n",
    "        :rtype: int\n",
    "        \"\"\"\n",
    "\n",
    "        r = 0\n",
    "        a = 0\n",
    "        b = 0\n",
    "        c = 0\n",
    "\n",
    "        while a < len(s) - r and b < len(s):\n",
    "\n",
    "            nb = 1 << (ord(s[b]))\n",
    "\n",
    "            if c & nb:\n",
    "                na = 1 << (ord(s[a]))\n",
    "                c = c ^ na\n",
    "                a += 1\n",
    "            else:\n",
    "                c = c | nb\n",
    "                b += 1\n",
    "\n",
    "            r = max(r, b - a)\n",
    "\n",
    "        return r"
   ]
  },
  {
   "cell_type": "code",
   "execution_count": 72,
   "metadata": {
    "collapsed": true
   },
   "outputs": [],
   "source": [
    "# 3: keeping track where character was last used\n",
    "class Solution:\n",
    "    def lengthOfLongestSubstring(self, s):\n",
    "        r = 0\n",
    "        start = 0\n",
    "        last_used = {}\n",
    "\n",
    "        for i in range(len(s)):\n",
    "            c = s[i]\n",
    "\n",
    "            if c in last_used and start <= last_used[c]:\n",
    "                start = last_used[c] + 1\n",
    "            else:\n",
    "                r = max(r, i - start + 1)\n",
    "\n",
    "            last_used[c] = i\n",
    "\n",
    "        return r"
   ]
  },
  {
   "cell_type": "code",
   "execution_count": 73,
   "metadata": {},
   "outputs": [
    {
     "data": {
      "text/plain": [
       "3"
      ]
     },
     "execution_count": 73,
     "metadata": {},
     "output_type": "execute_result"
    }
   ],
   "source": [
    "Solution().lengthOfLongestSubstring('pwwkew')"
   ]
  }
 ],
 "metadata": {
  "kernelspec": {
   "display_name": "Python 3",
   "language": "python",
   "name": "python3"
  },
  "language_info": {
   "codemirror_mode": {
    "name": "ipython",
    "version": 3
   },
   "file_extension": ".py",
   "mimetype": "text/x-python",
   "name": "python",
   "nbconvert_exporter": "python",
   "pygments_lexer": "ipython3",
   "version": "3.5.2"
  }
 },
 "nbformat": 4,
 "nbformat_minor": 2
}

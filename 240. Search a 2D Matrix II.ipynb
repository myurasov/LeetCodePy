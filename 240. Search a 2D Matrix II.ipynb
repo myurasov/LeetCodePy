{
 "cells": [
  {
   "cell_type": "code",
   "execution_count": 22,
   "metadata": {
    "collapsed": true
   },
   "outputs": [],
   "source": [
    "class Solution(object):\n",
    "    def searchMatrix(self, m, t):\n",
    "        \"\"\"\n",
    "        :type m: List[List[int]]\n",
    "        :type t: int\n",
    "        :rtype: bool\n",
    "        \"\"\"\n",
    "\n",
    "        rows = len(m)\n",
    "        cols = len(m[0]) if rows > 0 else 0\n",
    "\n",
    "        # start with top-right\n",
    "        r = 0\n",
    "        c = cols - 1\n",
    "\n",
    "        # then all elements below are greater,\n",
    "        # all elements to the left are smaller\n",
    "\n",
    "        while r <= rows - 1 and c >= 0:\n",
    "            if t < m[r][c]: c -= 1\n",
    "            elif t > m[r][c]: r += 1\n",
    "            else: return True\n",
    "\n",
    "        return False"
   ]
  },
  {
   "cell_type": "code",
   "execution_count": 23,
   "metadata": {
    "collapsed": true
   },
   "outputs": [],
   "source": [
    "d = [\n",
    "    [ 1,  4,  7, 11, 15],\n",
    "    \n",
    "    [ 2,  5,  8, 12, 19], \n",
    "    \n",
    "    [ 3,  6,  9, 16, 22],\n",
    "    \n",
    "    [10, 13, 14, 17, 24],\n",
    "    \n",
    "    [18, 21, 23, 26, 30]\n",
    "]"
   ]
  },
  {
   "cell_type": "code",
   "execution_count": 24,
   "metadata": {
    "collapsed": true,
    "scrolled": true
   },
   "outputs": [],
   "source": [
    "s = Solution()\n",
    "assert(s.searchMatrix(d, 20) == False)"
   ]
  },
  {
   "cell_type": "code",
   "execution_count": 25,
   "metadata": {
    "collapsed": true,
    "scrolled": true
   },
   "outputs": [],
   "source": [
    "s = Solution()\n",
    "assert(s.searchMatrix(d, 5) == True)"
   ]
  },
  {
   "cell_type": "code",
   "execution_count": 26,
   "metadata": {
    "collapsed": true,
    "scrolled": true
   },
   "outputs": [],
   "source": [
    "s = Solution()\n",
    "assert(s.searchMatrix([], 20) == False)"
   ]
  },
  {
   "cell_type": "code",
   "execution_count": null,
   "metadata": {
    "collapsed": true
   },
   "outputs": [],
   "source": []
  }
 ],
 "metadata": {
  "kernelspec": {
   "display_name": "Python 3",
   "language": "python",
   "name": "python3"
  },
  "language_info": {
   "codemirror_mode": {
    "name": "ipython",
    "version": 3
   },
   "file_extension": ".py",
   "mimetype": "text/x-python",
   "name": "python",
   "nbconvert_exporter": "python",
   "pygments_lexer": "ipython3",
   "version": "3.5.2"
  }
 },
 "nbformat": 4,
 "nbformat_minor": 2
}

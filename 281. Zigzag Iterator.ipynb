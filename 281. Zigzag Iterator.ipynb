{
 "cells": [
  {
   "cell_type": "code",
   "execution_count": 107,
   "metadata": {},
   "outputs": [],
   "source": [
    "class ZigzagIterator(object):\n",
    "    def __init__(self, v1, v2):\n",
    "        \"\"\"\n",
    "        Initialize your data structure here.\n",
    "        :type v1: List[int]\n",
    "        :type v2: List[int]\n",
    "        \"\"\"\n",
    "\n",
    "        self.sources = [v1, v2]\n",
    "        self.i = 0  # index of current el\n",
    "        self.s = -1  # index of current source\n",
    "        self.total = sum([len(x) for x in self.sources])\n",
    "\n",
    "    def next(self):\n",
    "        \"\"\"\n",
    "        :rtype: int\n",
    "        \"\"\"\n",
    "\n",
    "        if self.total == 0:\n",
    "            return\n",
    "\n",
    "        while True:\n",
    "\n",
    "            if self.s < len(self.sources) - 1:  # can go down\n",
    "                self.s += 1\n",
    "            else:  # going to next column\n",
    "                self.s = 0\n",
    "                self.i += 1\n",
    "\n",
    "            # pair of s and i exists in sources\n",
    "            if self.i < len(self.sources[self.s]):\n",
    "                self.total -= 1\n",
    "                break\n",
    "\n",
    "        return self.sources[self.s][self.i]\n",
    "\n",
    "    def hasNext(self):\n",
    "        \"\"\"\n",
    "        :rtype: bool\n",
    "        \"\"\"\n",
    "\n",
    "        return self.total > 0\n",
    "\n",
    "\n",
    "# Your ZigzagIterator object will be instantiated and called as such:\n",
    "# i, v = ZigzagIterator(v1, v2), []\n",
    "# while i.hasNext(): v.append(i.next())"
   ]
  },
  {
   "cell_type": "code",
   "execution_count": 109,
   "metadata": {},
   "outputs": [
    {
     "name": "stdout",
     "output_type": "stream",
     "text": [
      "[1, 3, 2, 4, 5, 6]\n"
     ]
    }
   ],
   "source": [
    "v1 = [1, 2]\n",
    "v2 = [3, 4, 5, 6]\n",
    "i, v = ZigzagIterator(v1, v2), []\n",
    "while i.hasNext(): v.append(i.next())\n",
    "print(v)"
   ]
  }
 ],
 "metadata": {
  "kernelspec": {
   "display_name": "Python 3",
   "language": "python",
   "name": "python3"
  },
  "language_info": {
   "codemirror_mode": {
    "name": "ipython",
    "version": 3
   },
   "file_extension": ".py",
   "mimetype": "text/x-python",
   "name": "python",
   "nbconvert_exporter": "python",
   "pygments_lexer": "ipython3",
   "version": "3.5.2"
  }
 },
 "nbformat": 4,
 "nbformat_minor": 2
}

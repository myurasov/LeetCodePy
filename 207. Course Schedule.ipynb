{
 "cells": [
  {
   "cell_type": "code",
   "execution_count": 90,
   "metadata": {},
   "outputs": [],
   "source": [
    "class Solution(object):\n",
    "    def canFinish(self, numCourses, prerequisites):\n",
    "\n",
    "        # construct graph\n",
    "\n",
    "        graph = {}\n",
    "        visited = [False] * numCourses\n",
    "\n",
    "        for i in range(numCourses):\n",
    "            graph[i] = []\n",
    "\n",
    "        for p in prerequisites:\n",
    "            course, depends_on = p\n",
    "            graph[course].append(depends_on)\n",
    "\n",
    "        for course in range(numCourses):\n",
    "            if not self.dfs(course, graph, visited):\n",
    "                return False\n",
    "\n",
    "        return True\n",
    "\n",
    "    # False == found back edge\n",
    "    def dfs(self, course, graph, visited):\n",
    "        if visited[course]: return False  # found cyclic edge\n",
    "\n",
    "        visited[course] = True  # mark v as visited for current iteration\n",
    "\n",
    "        for depends_on in graph[course]:\n",
    "            if not self.dfs(depends_on, graph, visited):\n",
    "                return False\n",
    "\n",
    "        visited[course] = False  # unmark v from current iteration\n",
    "\n",
    "        return True"
   ]
  },
  {
   "cell_type": "code",
   "execution_count": 91,
   "metadata": {},
   "outputs": [
    {
     "data": {
      "text/plain": [
       "True"
      ]
     },
     "execution_count": 91,
     "metadata": {},
     "output_type": "execute_result"
    }
   ],
   "source": [
    "Solution().canFinish(3, [[0, 1], [0, 2], [1, 2]])"
   ]
  },
  {
   "cell_type": "code",
   "execution_count": 87,
   "metadata": {},
   "outputs": [
    {
     "data": {
      "text/plain": [
       "True"
      ]
     },
     "execution_count": 87,
     "metadata": {},
     "output_type": "execute_result"
    }
   ],
   "source": [
    "Solution().canFinish(1, [])"
   ]
  },
  {
   "cell_type": "code",
   "execution_count": 88,
   "metadata": {},
   "outputs": [
    {
     "data": {
      "text/plain": [
       "True"
      ]
     },
     "execution_count": 88,
     "metadata": {},
     "output_type": "execute_result"
    }
   ],
   "source": [
    "Solution().canFinish(2, [[1,0]])"
   ]
  },
  {
   "cell_type": "code",
   "execution_count": 89,
   "metadata": {},
   "outputs": [
    {
     "data": {
      "text/plain": [
       "False"
      ]
     },
     "execution_count": 89,
     "metadata": {},
     "output_type": "execute_result"
    }
   ],
   "source": [
    "Solution().canFinish(2, [[1,0], [0, 1]])"
   ]
  },
  {
   "cell_type": "code",
   "execution_count": null,
   "metadata": {},
   "outputs": [],
   "source": []
  }
 ],
 "metadata": {
  "kernelspec": {
   "display_name": "Python 3",
   "language": "python",
   "name": "python3"
  },
  "language_info": {
   "codemirror_mode": {
    "name": "ipython",
    "version": 3
   },
   "file_extension": ".py",
   "mimetype": "text/x-python",
   "name": "python",
   "nbconvert_exporter": "python",
   "pygments_lexer": "ipython3",
   "version": "3.5.2"
  }
 },
 "nbformat": 4,
 "nbformat_minor": 2
}

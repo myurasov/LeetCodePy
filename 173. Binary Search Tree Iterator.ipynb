{
 "cells": [
  {
   "cell_type": "code",
   "execution_count": 1,
   "metadata": {
    "collapsed": true
   },
   "outputs": [],
   "source": [
    "# Definition for a  binary tree node\n",
    "class TreeNode(object):\n",
    "    def __init__(self, x):\n",
    "        self.val = x\n",
    "        self.left = None\n",
    "        self.right = None\n",
    "\n",
    "    def __repr__(self):\n",
    "        return str(self.val) + \\\n",
    "            '[L:' + ('-' if self.left is None else str(self.left)) + \\\n",
    "            ',R:' + ('-' if self.right is None else str(self.right)) + \\\n",
    "            ']'"
   ]
  },
  {
   "cell_type": "code",
   "execution_count": 118,
   "metadata": {
    "collapsed": true
   },
   "outputs": [],
   "source": [
    "class BSTIterator(object):\n",
    "    def __init__(self, root):\n",
    "        \"\"\"\n",
    "        :type root: TreeNode\n",
    "        \"\"\"\n",
    "\n",
    "        self.node = root\n",
    "        self.stack = []\n",
    "        self.pushLeftsOnStack(root)\n",
    "\n",
    "    def hasNext(self):\n",
    "        \"\"\"\n",
    "        :rtype: bool\n",
    "        \"\"\"\n",
    "\n",
    "        return len(self.stack) > 0\n",
    "\n",
    "    def next(self):\n",
    "        \"\"\"\n",
    "        :rtype: int\n",
    "        \"\"\"\n",
    "        # pop last left node and go through right branch (next min)\n",
    "        r = self.stack.pop()\n",
    "        self.pushLeftsOnStack(r.right)\n",
    "        return r.val\n",
    "\n",
    "    def pushLeftsOnStack(self, root):\n",
    "        while root is not None:\n",
    "            self.stack.append(root)\n",
    "            root = root.left\n",
    "\n",
    "\n",
    "# Your BSTIterator will be called like this:\n",
    "# i, v = BSTIterator(root), []\n",
    "# while i.hasNext(): v.append(i.next())"
   ]
  },
  {
   "cell_type": "code",
   "execution_count": 14,
   "metadata": {},
   "outputs": [
    {
     "name": "stdout",
     "output_type": "stream",
     "text": [
      "2[L:1[L:0[L:-,R:-],R:-],R:-]\n",
      "[2[L:1[L:0[L:-,R:-],R:-],R:-], 1[L:0[L:-,R:-],R:-], 0[L:-,R:-]]\n",
      "0\n",
      "1\n",
      "2\n"
     ]
    }
   ],
   "source": [
    "a = TreeNode(2)\n",
    "b = TreeNode(1)\n",
    "c = TreeNode(0)\n",
    "a.left = b\n",
    "b.left = c\n",
    "print(a)\n",
    "\n",
    "i = BSTIterator(a)\n",
    "while i.hasNext():\n",
    "    print(i.next())"
   ]
  }
 ],
 "metadata": {
  "kernelspec": {
   "display_name": "Python 3",
   "language": "python",
   "name": "python3"
  },
  "language_info": {
   "codemirror_mode": {
    "name": "ipython",
    "version": 3
   },
   "file_extension": ".py",
   "mimetype": "text/x-python",
   "name": "python",
   "nbconvert_exporter": "python",
   "pygments_lexer": "ipython3",
   "version": "3.5.2"
  }
 },
 "nbformat": 4,
 "nbformat_minor": 2
}

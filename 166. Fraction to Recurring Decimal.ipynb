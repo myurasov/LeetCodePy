{
 "cells": [
  {
   "cell_type": "code",
   "execution_count": 172,
   "metadata": {
    "collapsed": true
   },
   "outputs": [],
   "source": [
    "class Solution(object):\n",
    "    def fractionToDecimal(self, numerator, denominator):\n",
    "        \"\"\"\n",
    "        :type numerator: int\n",
    "        :type denominator: int\n",
    "        :rtype: str\n",
    "        \"\"\"\n",
    "\n",
    "        if numerator == 0:\n",
    "            return '0'\n",
    "\n",
    "        r = []\n",
    "        s = {}\n",
    "        i = 0\n",
    "\n",
    "        sign = -1 if numerator * denominator < 0 else 1\n",
    "        numerator = abs(numerator)\n",
    "        denominator = abs(denominator)\n",
    "\n",
    "        # find place of decimal point\n",
    "        decimal = 0\n",
    "        while numerator > denominator:\n",
    "            denominator *= 10\n",
    "            decimal += 1\n",
    "\n",
    "        while numerator >= 0:\n",
    "            key = '%d/%d' % (numerator, denominator)\n",
    "\n",
    "            # if we've seen the pair,\n",
    "            # insert brackets at position it first occured\n",
    "            if key in s and s[key] > decimal:\n",
    "                r[s[key]] = '(' + r[s[key]]\n",
    "                r[-1] = r[-1] + ')'\n",
    "                break\n",
    "\n",
    "            r += str(numerator // denominator)\n",
    "            numerator = 10 * (numerator % denominator)\n",
    "\n",
    "            # store position at which pair occured\n",
    "            s[key] = i\n",
    "\n",
    "            i += 1\n",
    "\n",
    "        # insert decimal point\n",
    "        r.insert(1 + decimal, '.')\n",
    "\n",
    "        r = ''.join(r)\n",
    "\n",
    "        # trim leading 0\n",
    "        if r[0] == '0' and r[1] != '.':\n",
    "            r = r[1:]\n",
    "\n",
    "        # trim (0)\n",
    "        if r[-3:] == '(0)':\n",
    "            r = r[:-3]\n",
    "\n",
    "        # trim trailing '.\n",
    "        if r[-1] == '.':\n",
    "            r = r[:-1]\n",
    "\n",
    "        # insert sign\n",
    "        if -1 == sign:\n",
    "            r = '-' + r\n",
    "\n",
    "        return r"
   ]
  },
  {
   "cell_type": "code",
   "execution_count": 173,
   "metadata": {},
   "outputs": [
    {
     "data": {
      "text/plain": [
       "'0.(571428)'"
      ]
     },
     "execution_count": 173,
     "metadata": {},
     "output_type": "execute_result"
    }
   ],
   "source": [
    "Solution().fractionToDecimal(4, 7)"
   ]
  },
  {
   "cell_type": "code",
   "execution_count": 174,
   "metadata": {},
   "outputs": [
    {
     "data": {
      "text/plain": [
       "'0.0(571428)'"
      ]
     },
     "execution_count": 174,
     "metadata": {},
     "output_type": "execute_result"
    }
   ],
   "source": [
    "Solution().fractionToDecimal(4, 70)"
   ]
  },
  {
   "cell_type": "code",
   "execution_count": 175,
   "metadata": {},
   "outputs": [
    {
     "data": {
      "text/plain": [
       "'0.05(0)'"
      ]
     },
     "execution_count": 175,
     "metadata": {},
     "output_type": "execute_result"
    }
   ],
   "source": [
    "Solution().fractionToDecimal(1, 20)"
   ]
  },
  {
   "cell_type": "code",
   "execution_count": 176,
   "metadata": {},
   "outputs": [
    {
     "data": {
      "text/plain": [
       "'0.5(0)'"
      ]
     },
     "execution_count": 176,
     "metadata": {},
     "output_type": "execute_result"
    }
   ],
   "source": [
    "Solution().fractionToDecimal(1, 2)"
   ]
  },
  {
   "cell_type": "code",
   "execution_count": 177,
   "metadata": {},
   "outputs": [
    {
     "data": {
      "text/plain": [
       "'0.(416149068322981366459627329192546583850931677018633540372670807453)'"
      ]
     },
     "execution_count": 177,
     "metadata": {},
     "output_type": "execute_result"
    }
   ],
   "source": [
    "Solution().fractionToDecimal(134, 322)"
   ]
  },
  {
   "cell_type": "code",
   "execution_count": 178,
   "metadata": {},
   "outputs": [
    {
     "data": {
      "text/plain": [
       "'-0.(416149068322981366459627329192546583850931677018633540372670807453)'"
      ]
     },
     "execution_count": 178,
     "metadata": {},
     "output_type": "execute_result"
    }
   ],
   "source": [
    "Solution().fractionToDecimal(134, -322)"
   ]
  },
  {
   "cell_type": "code",
   "execution_count": 179,
   "metadata": {},
   "outputs": [
    {
     "data": {
      "text/plain": [
       "'-0.(3)'"
      ]
     },
     "execution_count": 179,
     "metadata": {},
     "output_type": "execute_result"
    }
   ],
   "source": [
    "Solution().fractionToDecimal(-1, 3)"
   ]
  },
  {
   "cell_type": "code",
   "execution_count": 180,
   "metadata": {},
   "outputs": [
    {
     "data": {
      "text/plain": [
       "'31.(714285)'"
      ]
     },
     "execution_count": 180,
     "metadata": {},
     "output_type": "execute_result"
    }
   ],
   "source": [
    "Solution().fractionToDecimal(222, 7)"
   ]
  },
  {
   "cell_type": "code",
   "execution_count": 181,
   "metadata": {},
   "outputs": [
    {
     "data": {
      "text/plain": [
       "'-1.(428571)'"
      ]
     },
     "execution_count": 181,
     "metadata": {},
     "output_type": "execute_result"
    }
   ],
   "source": [
    "Solution().fractionToDecimal(-10, 7)"
   ]
  },
  {
   "cell_type": "code",
   "execution_count": 182,
   "metadata": {},
   "outputs": [
    {
     "data": {
      "text/plain": [
       "'50'"
      ]
     },
     "execution_count": 182,
     "metadata": {},
     "output_type": "execute_result"
    }
   ],
   "source": [
    "Solution().fractionToDecimal(500, 10)"
   ]
  },
  {
   "cell_type": "code",
   "execution_count": null,
   "metadata": {
    "collapsed": true
   },
   "outputs": [],
   "source": []
  }
 ],
 "metadata": {
  "kernelspec": {
   "display_name": "Python 3",
   "language": "python",
   "name": "python3"
  },
  "language_info": {
   "codemirror_mode": {
    "name": "ipython",
    "version": 3
   },
   "file_extension": ".py",
   "mimetype": "text/x-python",
   "name": "python",
   "nbconvert_exporter": "python",
   "pygments_lexer": "ipython3",
   "version": "3.5.2"
  }
 },
 "nbformat": 4,
 "nbformat_minor": 2
}

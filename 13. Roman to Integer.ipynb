{
 "cells": [
  {
   "cell_type": "code",
   "execution_count": 14,
   "metadata": {},
   "outputs": [],
   "source": [
    "class Solution(object):\n",
    "    def romanToInt(self, s):\n",
    "        \"\"\"\n",
    "        :type s: str\n",
    "        :rtype: int\n",
    "        \"\"\"\n",
    "\n",
    "        tokens = {\n",
    "            'M': 1000,\n",
    "            'CM': 900,\n",
    "            'D': 500,\n",
    "            'CD': 400,\n",
    "            'C': 100,\n",
    "            'XC': 90,\n",
    "            'L': 50,\n",
    "            'XL': 40,\n",
    "            'X': 10,\n",
    "            'IX': 9,\n",
    "            'V': 5,\n",
    "            'IV': 4,\n",
    "            'I': 1\n",
    "        }\n",
    "\n",
    "        res = 0\n",
    "\n",
    "        while s:\n",
    "            if s[:2] in tokens:\n",
    "                res += tokens[s[:2]]\n",
    "                s = s[2:]\n",
    "            elif s[:1] in tokens:\n",
    "                res += tokens[s[:1]]\n",
    "                s = s[1:]\n",
    "\n",
    "        return res"
   ]
  },
  {
   "cell_type": "code",
   "execution_count": 17,
   "metadata": {},
   "outputs": [
    {
     "data": {
      "text/plain": [
       "1996"
      ]
     },
     "execution_count": 17,
     "metadata": {},
     "output_type": "execute_result"
    }
   ],
   "source": [
    "Solution().romanToInt('MCMXCVI')"
   ]
  }
 ],
 "metadata": {
  "kernelspec": {
   "display_name": "Python 3",
   "language": "python",
   "name": "python3"
  },
  "language_info": {
   "codemirror_mode": {
    "name": "ipython",
    "version": 3
   },
   "file_extension": ".py",
   "mimetype": "text/x-python",
   "name": "python",
   "nbconvert_exporter": "python",
   "pygments_lexer": "ipython3",
   "version": "3.5.2"
  }
 },
 "nbformat": 4,
 "nbformat_minor": 2
}

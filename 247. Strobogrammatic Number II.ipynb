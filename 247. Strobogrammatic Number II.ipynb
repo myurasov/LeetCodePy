{
 "cells": [
  {
   "cell_type": "code",
   "execution_count": 73,
   "metadata": {
    "collapsed": true
   },
   "outputs": [],
   "source": [
    "class Solution(object):\n",
    "    def __init__(self):\n",
    "        self.digits_mirror = {'1': '1', '6': '9', '8': '8', '9': '6', '0': '0'}\n",
    "\n",
    "    def findStrobogrammatic(self, n):\n",
    "        \"\"\"\n",
    "        :type n: int\n",
    "        :rtype: List[str]\n",
    "        \"\"\"\n",
    "\n",
    "        if n == 1: return ['0', '1', '8']\n",
    "\n",
    "        res = []\n",
    "\n",
    "        # create permutations for first half\n",
    "        for pos in range(0, n // 2):\n",
    "\n",
    "            if pos == 0:\n",
    "                for d in self.digits_mirror:\n",
    "                    if (d != '0'): res.append(d)\n",
    "            else:\n",
    "                starts = list(res)\n",
    "                res = []\n",
    "                for s in starts:\n",
    "                    for d in self.digits_mirror:\n",
    "                        if (s != '0'): res.append(s + d)\n",
    "\n",
    "        starts = list(res)\n",
    "        res = []\n",
    "\n",
    "        for s in starts:\n",
    "            res.append(s + self.flipStrobogrammatically(s))\n",
    "\n",
    "        if n % 2 == 1:\n",
    "            starts = list(res)\n",
    "            res = []\n",
    "\n",
    "            for s in starts:\n",
    "                for i in ['0', '1', '8']:\n",
    "                    res.append(s[:n // 2] + i + s[n // 2:])\n",
    "\n",
    "        return res\n",
    "\n",
    "    def flipStrobogrammatically(self, s):\n",
    "        res = ''\n",
    "        for c in s:\n",
    "            res = self.digits_mirror[c] + res\n",
    "        return res"
   ]
  },
  {
   "cell_type": "code",
   "execution_count": null,
   "metadata": {
    "collapsed": true
   },
   "outputs": [],
   "source": []
  },
  {
   "cell_type": "code",
   "execution_count": 74,
   "metadata": {},
   "outputs": [
    {
     "data": {
      "text/plain": [
       "['101',\n",
       " '111',\n",
       " '181',\n",
       " '906',\n",
       " '916',\n",
       " '986',\n",
       " '808',\n",
       " '818',\n",
       " '888',\n",
       " '609',\n",
       " '619',\n",
       " '689']"
      ]
     },
     "execution_count": 74,
     "metadata": {},
     "output_type": "execute_result"
    }
   ],
   "source": [
    "Solution().findStrobogrammatic(3) # [\"11\",\"69\",\"88\",\"96\"]"
   ]
  },
  {
   "cell_type": "code",
   "execution_count": 75,
   "metadata": {},
   "outputs": [
    {
     "data": {
      "text/plain": [
       "['101',\n",
       " '111',\n",
       " '181',\n",
       " '906',\n",
       " '916',\n",
       " '986',\n",
       " '808',\n",
       " '818',\n",
       " '888',\n",
       " '609',\n",
       " '619',\n",
       " '689']"
      ]
     },
     "execution_count": 75,
     "metadata": {},
     "output_type": "execute_result"
    }
   ],
   "source": [
    "Solution().findStrobogrammatic(3) # [\"11\",\"69\",\"88\",\"96\"]"
   ]
  }
 ],
 "metadata": {
  "kernelspec": {
   "display_name": "Python 3",
   "language": "python",
   "name": "python3"
  },
  "language_info": {
   "codemirror_mode": {
    "name": "ipython",
    "version": 3
   },
   "file_extension": ".py",
   "mimetype": "text/x-python",
   "name": "python",
   "nbconvert_exporter": "python",
   "pygments_lexer": "ipython3",
   "version": "3.5.2"
  }
 },
 "nbformat": 4,
 "nbformat_minor": 2
}

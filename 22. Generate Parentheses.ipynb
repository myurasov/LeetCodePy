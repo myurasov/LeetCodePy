{
 "cells": [
  {
   "cell_type": "code",
   "execution_count": 1,
   "metadata": {
    "collapsed": true
   },
   "outputs": [],
   "source": [
    "%run 'Lib.ipynb'"
   ]
  },
  {
   "cell_type": "code",
   "execution_count": 159,
   "metadata": {
    "collapsed": true
   },
   "outputs": [],
   "source": [
    "class Solution(object):\n",
    "    def __init__(self):\n",
    "        self._res = []\n",
    "    \n",
    "    def generateParenthesis(self, n):\n",
    "        \"\"\"\n",
    "        :type n: int\n",
    "        :rtype: List[str]\n",
    "        \"\"\"\n",
    "        \n",
    "        return self._generateParenthesis(n, n)\n",
    "\n",
    "    def _isValid(self, s):\n",
    "        p = []\n",
    "\n",
    "        for c in s:\n",
    "            if ')' == c:\n",
    "                if 0 == len(p) or '(' != p.pop():\n",
    "                    return False\n",
    "            else:\n",
    "                p.append(c)\n",
    "\n",
    "        return len(p) == 0\n",
    "\n",
    "    def _generateParenthesis(self, no, nc, start=''):\n",
    "        \n",
    "        if no == 0 and nc == 0 and self._isValid(start):\n",
    "            self._res.append(start)\n",
    "            \n",
    "        if no > 0:\n",
    "            self._generateParenthesis(no - 1, nc, start + '(')\n",
    "            \n",
    "        if nc > 0:\n",
    "            self._generateParenthesis(no, nc - 1, start + ')')\n",
    "\n",
    "        return self._res"
   ]
  },
  {
   "cell_type": "code",
   "execution_count": 184,
   "metadata": {
    "collapsed": true
   },
   "outputs": [],
   "source": [
    "class Solution2(object):\n",
    "    def __init__(self):\n",
    "        self._res = []\n",
    "    \n",
    "    def generateParenthesis(self, n):\n",
    "        \"\"\"\n",
    "        :type n: int\n",
    "        :rtype: List[str]\n",
    "        \"\"\"\n",
    "        \n",
    "        return self._generateParenthesis(n, n)\n",
    "\n",
    "    def _generateParenthesis(self, no, nc, start=''):\n",
    "        \n",
    "        if nc == 0:\n",
    "            self._res.append(start)\n",
    "\n",
    "        if no > 0:\n",
    "            self._generateParenthesis(no - 1, nc, start + '(')\n",
    "            \n",
    "        if nc > no:\n",
    "            self._generateParenthesis(no, nc - 1, start + ')')\n",
    "\n",
    "        return self._res"
   ]
  },
  {
   "cell_type": "code",
   "execution_count": 185,
   "metadata": {},
   "outputs": [
    {
     "data": {
      "text/plain": [
       "['((()))', '(()())', '(())()', '()(())', '()()()']"
      ]
     },
     "execution_count": 185,
     "metadata": {},
     "output_type": "execute_result"
    }
   ],
   "source": [
    "Solution2().generateParenthesis(3)"
   ]
  },
  {
   "cell_type": "code",
   "execution_count": 161,
   "metadata": {},
   "outputs": [
    {
     "data": {
      "text/plain": [
       "16796"
      ]
     },
     "execution_count": 161,
     "metadata": {},
     "output_type": "execute_result"
    }
   ],
   "source": [
    "len(Solution().generateParenthesis(10))"
   ]
  }
 ],
 "metadata": {
  "kernelspec": {
   "display_name": "Python 3",
   "language": "python",
   "name": "python3"
  },
  "language_info": {
   "codemirror_mode": {
    "name": "ipython",
    "version": 3
   },
   "file_extension": ".py",
   "mimetype": "text/x-python",
   "name": "python",
   "nbconvert_exporter": "python",
   "pygments_lexer": "ipython3",
   "version": "3.5.2"
  }
 },
 "nbformat": 4,
 "nbformat_minor": 2
}

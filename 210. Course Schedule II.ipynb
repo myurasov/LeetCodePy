{
 "cells": [
  {
   "cell_type": "code",
   "execution_count": 92,
   "metadata": {},
   "outputs": [],
   "source": [
    "# Kahn’s algorithm (BFS topo search)\n",
    "class Solution(object):\n",
    "    def findOrder(self, numCourses, prerequisites):\n",
    "\n",
    "        # construct graph\n",
    "\n",
    "        self.graph = [[] for i in range(numCourses)]\n",
    "        self.V = numCourses\n",
    "\n",
    "        for p in prerequisites:\n",
    "            course, depends_on = p\n",
    "            self.graph[course].append(depends_on)\n",
    "\n",
    "        return self.topologicalSort()\n",
    "\n",
    "    # The function to do Topological Sort.\n",
    "    def topologicalSort(self):\n",
    "\n",
    "        # Create a vector to store indegrees of all\n",
    "        # vertices. Initialize all indegrees as 0.\n",
    "        in_degree = [0] * self.V\n",
    "\n",
    "        # Traverse adjacency lists to fill indegrees of\n",
    "        # vertices.  This step takes O(V+E) time\n",
    "        for c, d in enumerate(self.graph):\n",
    "            for j in d:\n",
    "                in_degree[j] += 1\n",
    "\n",
    "        # Create an queue and enqueue all vertices with\n",
    "        # indegree 0\n",
    "        queue = []\n",
    "        for i in range(self.V):\n",
    "            if in_degree[i] == 0:\n",
    "                queue.append(i)\n",
    "\n",
    "        #Initialize count of visited vertices\n",
    "        cnt = 0\n",
    "\n",
    "        # Create a vector to store result (A topological\n",
    "        # ordering of the vertices)\n",
    "        top_order = []\n",
    "\n",
    "        # One by one dequeue vertices from queue and enqueue\n",
    "        # adjacents if indegree of adjacent becomes 0\n",
    "        while queue:\n",
    "\n",
    "            # Extract front of queue (or perform dequeue)\n",
    "            # and add it to topological order\n",
    "            u = queue.pop(0)\n",
    "            top_order.insert(0, u)\n",
    "\n",
    "            # Iterate through all neighbouring nodes\n",
    "            # of dequeued node u and decrease their in-degree\n",
    "            # by 1\n",
    "            for i in self.graph[u]:\n",
    "                in_degree[i] -= 1\n",
    "                # If in-degree becomes zero, add it to queue\n",
    "                if in_degree[i] == 0:\n",
    "                    queue.append(i)\n",
    "\n",
    "            cnt += 1\n",
    "\n",
    "        # Check if there was a cycle\n",
    "        if cnt != self.V:\n",
    "            return []\n",
    "        else:\n",
    "            #Print topological order\n",
    "            return top_order"
   ]
  },
  {
   "cell_type": "code",
   "execution_count": 66,
   "metadata": {},
   "outputs": [],
   "source": [
    "# DFS topo search (!!may have bugs!!)\n",
    "class Solution(object):\n",
    "    def findOrder(self, numCourses, prerequisites):\n",
    "\n",
    "        # construct graph\n",
    "\n",
    "        graph = [[] for i in range(numCourses)]\n",
    "\n",
    "        for p in prerequisites:\n",
    "            course, depends_on = p\n",
    "            graph[course].append(depends_on)\n",
    "\n",
    "        return self.topologicalSort(graph)\n",
    "\n",
    "    # The function to do Topological Sort. It uses recursive\n",
    "    # topologicalSortUtil()\n",
    "    def topologicalSort(self, graph):\n",
    "        # Mark all the vertices as not visited\n",
    "        visited = [False] * len(graph)\n",
    "        stack = []\n",
    "\n",
    "        # Call the recursive helper function to store Topological\n",
    "        # Sort starting from all vertices one by one\n",
    "        for course in range(len(graph)):\n",
    "            if not self.topologicalSortUtil(graph, course, visited, stack):\n",
    "                return []\n",
    "\n",
    "        # Print contents of stack\n",
    "        return stack\n",
    "\n",
    "    # A recursive function used by topologicalSort\n",
    "    def topologicalSortUtil(self, graph, course, visited, stack):\n",
    "\n",
    "        # cyclic edge\n",
    "        if visited[course]: return False\n",
    "\n",
    "        # Mark the current node as visited.\n",
    "        visited[course] = True\n",
    "\n",
    "        # Recur for all the vertices adjacent to this vertex\n",
    "        for depends_on in graph[course]:\n",
    "            if not visited[depends_on]:\n",
    "                if not self.topologicalSortUtil(graph, depends_on, visited, stack):\n",
    "                    return False\n",
    "\n",
    "        # Push current vertex to stack which stores result\n",
    "        stack.append(course)\n",
    "\n",
    "        return True"
   ]
  },
  {
   "cell_type": "code",
   "execution_count": 93,
   "metadata": {},
   "outputs": [
    {
     "name": "stdout",
     "output_type": "stream",
     "text": [
      "{0: 0, 1: 1}\n"
     ]
    },
    {
     "data": {
      "text/plain": [
       "[1, 0]"
      ]
     },
     "execution_count": 93,
     "metadata": {},
     "output_type": "execute_result"
    }
   ],
   "source": [
    "Solution().findOrder(2, [[0,1]])"
   ]
  },
  {
   "cell_type": "code",
   "execution_count": 94,
   "metadata": {},
   "outputs": [
    {
     "name": "stdout",
     "output_type": "stream",
     "text": [
      "{0: 1, 1: 1}\n"
     ]
    },
    {
     "data": {
      "text/plain": [
       "[]"
      ]
     },
     "execution_count": 94,
     "metadata": {},
     "output_type": "execute_result"
    }
   ],
   "source": [
    "Solution().findOrder(2, [[0,1], [1,0]])"
   ]
  },
  {
   "cell_type": "code",
   "execution_count": 95,
   "metadata": {},
   "outputs": [
    {
     "name": "stdout",
     "output_type": "stream",
     "text": [
      "{0: 2, 1: 1, 2: 1, 3: 0}\n"
     ]
    },
    {
     "data": {
      "text/plain": [
       "[0, 2, 1, 3]"
      ]
     },
     "execution_count": 95,
     "metadata": {},
     "output_type": "execute_result"
    }
   ],
   "source": [
    "Solution().findOrder(4, [[1,0],[2,0],[3,1],[3,2]])"
   ]
  },
  {
   "cell_type": "code",
   "execution_count": null,
   "metadata": {},
   "outputs": [],
   "source": []
  }
 ],
 "metadata": {
  "kernelspec": {
   "display_name": "Python 3",
   "language": "python",
   "name": "python3"
  },
  "language_info": {
   "codemirror_mode": {
    "name": "ipython",
    "version": 3
   },
   "file_extension": ".py",
   "mimetype": "text/x-python",
   "name": "python",
   "nbconvert_exporter": "python",
   "pygments_lexer": "ipython3",
   "version": "3.5.2"
  }
 },
 "nbformat": 4,
 "nbformat_minor": 2
}

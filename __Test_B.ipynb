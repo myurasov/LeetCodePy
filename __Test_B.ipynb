{
 "cells": [
  {
   "cell_type": "code",
   "execution_count": 1,
   "metadata": {
    "collapsed": true
   },
   "outputs": [],
   "source": [
    "%run 'Lib.ipynb'"
   ]
  },
  {
   "cell_type": "code",
   "execution_count": 252,
   "metadata": {
    "collapsed": true
   },
   "outputs": [],
   "source": [
    "class LRUCacheEntry():\n",
    "    def __init__(self, key, value, time):\n",
    "        self.key = key\n",
    "        self.value = value\n",
    "        self.time = time\n",
    "\n",
    "    def __gt__(e1, e2):\n",
    "        return e1.time > e2.time\n",
    "\n",
    "    def __ge__(e1, e2):\n",
    "        return e1.time >= e2.time\n",
    "\n",
    "    def __eq__(e1, e2):\n",
    "        return e1.time == e2.time\n",
    "\n",
    "    def __repr__(self):\n",
    "        return '(key=%d; value=%d; time=%d)' % (self.key, self.value,\n",
    "                                                self.time)\n",
    "\n",
    "\n",
    "class LRUCache(object):\n",
    "    def __init__(self, capacity):\n",
    "        \"\"\"\n",
    "        :type capacity: int\n",
    "        \"\"\"\n",
    "\n",
    "        self._time = 0\n",
    "        self._deleted = 0\n",
    "        self._capacity = capacity\n",
    "        self._items = []  # [{key,value,time}]\n",
    "        self._indexes = {}  # key -> index\n",
    "\n",
    "    def get(self, key):\n",
    "        \"\"\"\n",
    "        :type key: int\n",
    "        :rtype: int\n",
    "        \"\"\"\n",
    "\n",
    "        if key in self._indexes:\n",
    "            self._time += 1\n",
    "            self._items[self._indexes[key] - self._deleted].time = self._time\n",
    "#             self._build_heap()\n",
    "            return self._items[self._indexes[key] - self._deleted].value\n",
    "        else:\n",
    "            return -1\n",
    "\n",
    "    def put(self, key, value):\n",
    "        \"\"\"\n",
    "        :type key: int\n",
    "        :type value: int\n",
    "        :rtype: void\n",
    "        \"\"\"\n",
    "\n",
    "        self._time += 1\n",
    "\n",
    "        if not key in self._indexes:\n",
    "\n",
    "            self._items.append(LRUCacheEntry(key, value, self._time))\n",
    "            self._indexes[key] = len(self._items) - 1 + self._deleted\n",
    "\n",
    "        else:\n",
    "\n",
    "            self._items[self._indexes[key] - self._deleted].time = self._time\n",
    "            self._items[self._indexes[key] - self._deleted].value = value\n",
    "\n",
    "        self._build_heap()\n",
    "\n",
    "        # remove least accesses item\n",
    "        if len(self._items) > self._capacity:\n",
    "            key_to_remove = self._items[0].key\n",
    "            #             print('removing ', key_to_remove)\n",
    "            del self._indexes[key_to_remove]\n",
    "            self._items.pop(0)\n",
    "            self._deleted += 1\n",
    "\n",
    "    def _build_heap(self):\n",
    "        # start with one level above leaves\n",
    "        # which already satisfy max-heap prop\n",
    "        for i in reversed(range(len(self._items) // 2)):\n",
    "            self._min_heapify(i)\n",
    "\n",
    "    def _min_heapify(self, i):\n",
    "        # indexes of left nad right nodes\n",
    "        l = 2 * (i + 1) - 1\n",
    "        r = 2 * (i + 1)\n",
    "\n",
    "        # index which holds min element of i, left, right\n",
    "        m = i\n",
    "        if l < len(self._items) and self._items[l] < self._items[i]: m = l\n",
    "        if r < len(self._items) and self._items[r] < self._items[m]: m = r\n",
    "\n",
    "        # swap element at i with smallest child\n",
    "        if i != m:\n",
    "            # swap key indexes\n",
    "            self._indexes[self._items[i].key], self._indexes[self._items[m].key] =\\\n",
    "                self._indexes[self._items[m].key], self._indexes[self._items[i].key]\n",
    "            # swap entries\n",
    "            self._items[i], self._items[m] = self._items[m], self._items[i]\n",
    "            # heapify subtree tha we changed\n",
    "            self._min_heapify(m)\n",
    "\n",
    "\n",
    "# Your LRUCache object will be instantiated and called as such:\n",
    "# obj = LRUCache(capacity)\n",
    "# param_1 = obj.get(key)\n",
    "# obj.put(key,value)"
   ]
  },
  {
   "cell_type": "code",
   "execution_count": 242,
   "metadata": {
    "collapsed": true
   },
   "outputs": [],
   "source": [
    "c = [\"LRUCache\",\"put\",\"put\",\"put\",\"put\",\"put\",\"get\",\"put\",\"get\",\"get\",\"put\",\"get\",\"put\",\"put\",\"put\",\"get\",\"put\",\"get\",\"get\",\"get\",\"get\",\"put\",\"put\",\"get\",\"get\",\"get\",\"put\",\"put\",\"get\",\"put\",\"get\",\"put\",\"get\",\"get\",\"get\",\"put\",\"put\",\"put\",\"get\",\"put\",\"get\",\"get\",\"put\",\"put\",\"get\",\"put\",\"put\",\"put\",\"put\",\"get\",\"put\",\"put\",\"get\",\"put\",\"put\",\"get\",\"put\",\"put\",\"put\",\"put\",\"put\",\"get\",\"put\",\"put\",\"get\",\"put\",\"get\",\"get\",\"get\",\"put\",\"get\",\"get\",\"put\",\"put\",\"put\",\"put\",\"get\",\"put\",\"put\",\"put\",\"put\",\"get\",\"get\",\"get\",\"put\",\"put\",\"put\",\"get\",\"put\",\"put\",\"put\",\"get\",\"put\",\"put\",\"put\",\"get\",\"get\",\"get\",\"put\",\"put\",\"put\",\"put\",\"get\",\"put\",\"put\",\"put\",\"put\",\"put\",\"put\",\"put\"]\n",
    "v = [[10],[10,13],[3,17],[6,11],[10,5],[9,10],[13],[2,19],[2],[3],[5,25],[8],[9,22],[5,5],[1,30],[11],[9,12],[7],[5],[8],[9],[4,30],[9,3],[9],[10],[10],[6,14],[3,1],[3],[10,11],[8],[2,14],[1],[5],[4],[11,4],[12,24],[5,18],[13],[7,23],[8],[12],[3,27],[2,12],[5],[2,9],[13,4],[8,18],[1,7],[6],[9,29],[8,21],[5],[6,30],[1,12],[10],[4,15],[7,22],[11,26],[8,17],[9,29],[5],[3,4],[11,30],[12],[4,29],[3],[9],[6],[3,4],[1],[10],[3,29],[10,28],[1,20],[11,13],[3],[3,12],[3,8],[10,9],[3,26],[8],[7],[5],[13,17],[2,27],[11,15],[12],[9,19],[2,15],[3,16],[1],[12,17],[9,1],[6,19],[4],[5],[5],[8,1],[11,7],[5,2],[9,28],[1],[2,2],[7,4],[4,22],[7,24],[9,26],[13,28],[11,26]]"
   ]
  },
  {
   "cell_type": "code",
   "execution_count": 246,
   "metadata": {},
   "outputs": [
    {
     "name": "stdout",
     "output_type": "stream",
     "text": [
      "c.put(10,13)\n",
      "c.put(3,17)\n",
      "c.put(6,11)\n",
      "c.put(10,5)\n",
      "c.put(9,10)\n",
      "c.get(13)\n",
      "c.put(2,19)\n",
      "c.get(2)\n",
      "c.get(3)\n",
      "c.put(5,25)\n",
      "c.get(8)\n",
      "c.put(9,22)\n",
      "c.put(5,5)\n",
      "c.put(1,30)\n",
      "c.get(11)\n",
      "c.put(9,12)\n",
      "c.get(7)\n",
      "c.get(5)\n",
      "c.get(8)\n",
      "c.get(9)\n",
      "c.put(4,30)\n",
      "c.put(9,3)\n",
      "c.get(9)\n",
      "c.get(10)\n",
      "c.get(10)\n",
      "c.put(6,14)\n",
      "c.put(3,1)\n",
      "c.get(3)\n",
      "c.put(10,11)\n",
      "c.get(8)\n",
      "c.put(2,14)\n",
      "c.get(1)\n",
      "c.get(5)\n",
      "c.get(4)\n",
      "c.put(11,4)\n",
      "c.put(12,24)\n",
      "c.put(5,18)\n",
      "c.get(13)\n",
      "c.put(7,23)\n",
      "c.get(8)\n",
      "c.get(12)\n",
      "c.put(3,27)\n",
      "c.put(2,12)\n",
      "c.get(5)\n",
      "c.put(2,9)\n",
      "c.put(13,4)\n",
      "c.put(8,18)\n",
      "c.put(1,7)\n",
      "c.get(6)\n",
      "c.put(9,29)\n",
      "c.put(8,21)\n",
      "c.get(5)\n",
      "c.put(6,30)\n",
      "c.put(1,12)\n",
      "c.get(10)\n",
      "c.put(4,15)\n",
      "c.put(7,22)\n",
      "c.put(11,26)\n",
      "c.put(8,17)\n",
      "c.put(9,29)\n",
      "c.get(5)\n",
      "c.put(3,4)\n",
      "c.put(11,30)\n",
      "c.get(12)\n",
      "c.put(4,29)\n",
      "c.get(3)\n",
      "c.get(9)\n",
      "c.get(6)\n",
      "c.put(3,4)\n",
      "c.get(1)\n",
      "c.get(10)\n",
      "c.put(3,29)\n",
      "c.put(10,28)\n",
      "c.put(1,20)\n",
      "c.put(11,13)\n",
      "c.get(3)\n",
      "c.put(3,12)\n",
      "c.put(3,8)\n",
      "c.put(10,9)\n",
      "c.put(3,26)\n",
      "c.get(8)\n",
      "c.get(7)\n",
      "c.get(5)\n",
      "c.put(13,17)\n",
      "c.put(2,27)\n",
      "c.put(11,15)\n",
      "c.get(12)\n",
      "c.put(9,19)\n",
      "c.put(2,15)\n",
      "c.put(3,16)\n",
      "c.get(1)\n",
      "c.put(12,17)\n",
      "c.put(9,1)\n",
      "c.put(6,19)\n",
      "c.get(4)\n",
      "c.get(5)\n",
      "c.get(5)\n",
      "c.put(8,1)\n",
      "c.put(11,7)\n",
      "c.put(5,2)\n",
      "c.put(9,28)\n",
      "c.get(1)\n",
      "c.put(2,2)\n",
      "c.put(7,4)\n",
      "c.put(4,22)\n",
      "c.put(7,24)\n",
      "c.put(9,26)\n",
      "c.put(13,28)\n",
      "c.put(11,26)\n"
     ]
    }
   ],
   "source": [
    "for i in range(1, len(c)):\n",
    "    if 'put' == c[i]:\n",
    "        print('c.%s(%d,%d)'%(c[i], v[i][0], v[i][1]))\n",
    "    elif 'get' == c[i]:\n",
    "        print('c.%s(%d)'%(c[i], v[i][0]))"
   ]
  },
  {
   "cell_type": "code",
   "execution_count": 253,
   "metadata": {},
   "outputs": [],
   "source": [
    "c = LRUCache(10)\n",
    "c.put(10,13)\n",
    "c.put(3,17)\n",
    "c.put(6,11)\n",
    "c.put(10,5)\n",
    "c.put(9,10)\n",
    "c.get(13)\n",
    "c.put(2,19)\n",
    "c.get(2)\n",
    "c.get(3)\n",
    "c.put(5,25)\n",
    "c.get(8)\n",
    "c.put(9,22)\n",
    "c.put(5,5)\n",
    "c.put(1,30)\n",
    "c.get(11)\n",
    "c.put(9,12)\n",
    "c.get(7)\n",
    "c.get(5)\n",
    "c.get(8)\n",
    "c.get(9)\n",
    "c.put(4,30)\n",
    "c.put(9,3)\n",
    "c.get(9)\n",
    "c.get(10)\n",
    "c.get(10)\n",
    "c.put(6,14)\n",
    "c.put(3,1)\n",
    "c.get(3)\n",
    "c.put(10,11)\n",
    "c.get(8)\n",
    "c.put(2,14)\n",
    "c.get(1)\n",
    "c.get(5)\n",
    "c.get(4)\n",
    "c.put(11,4)\n",
    "c.put(12,24)\n",
    "c.put(5,18)\n",
    "c.get(13)\n",
    "c.put(7,23)\n",
    "c.get(8)\n",
    "c.get(12)\n",
    "c.put(3,27)\n",
    "c.put(2,12)\n",
    "c.get(5)\n",
    "c.put(2,9)\n",
    "c.put(13,4)\n",
    "c.put(8,18)\n",
    "c.put(1,7)\n",
    "c.get(6)\n",
    "c.put(9,29)\n",
    "c.put(8,21)\n",
    "c.get(5)\n",
    "c.put(6,30)\n",
    "c.put(1,12)\n",
    "c.get(10)\n",
    "c.put(4,15)\n",
    "c.put(7,22)\n",
    "c.put(11,26)\n",
    "c.put(8,17)\n",
    "c.put(9,29)\n",
    "c.get(5)\n",
    "c.put(3,4)\n",
    "c.put(11,30)\n",
    "c.get(12)\n",
    "c.put(4,29)\n",
    "c.get(3)\n",
    "c.get(9)\n",
    "c.get(6)\n",
    "c.put(3,4)\n",
    "c.get(1)\n",
    "c.get(10)\n",
    "c.put(3,29)\n",
    "c.put(10,28)\n",
    "c.put(1,20)\n",
    "c.put(11,13)\n",
    "c.get(3)\n",
    "c.put(3,12)\n",
    "c.put(3,8)\n",
    "c.put(10,9)\n",
    "c.put(3,26)\n",
    "c.get(8)\n",
    "c.get(7)\n",
    "c.get(5)\n",
    "c.put(13,17)\n",
    "c.put(2,27)\n",
    "c.put(11,15)\n",
    "c.get(12)\n",
    "c.put(9,19)\n",
    "c.put(2,15)\n",
    "c.put(3,16)\n",
    "c.get(1)\n",
    "c.put(12,17)\n",
    "c.put(9,1)\n",
    "c.put(6,19)\n",
    "c.get(4)\n",
    "c.get(5)\n",
    "c.get(5)\n",
    "c.put(8,1)\n",
    "c.put(11,7)\n",
    "c.put(5,2)\n",
    "c.put(9,28)\n",
    "c.get(1)\n",
    "c.put(2,2)\n",
    "c.put(7,4)\n",
    "c.put(4,22)\n",
    "c.put(7,24)\n",
    "c.put(9,26)\n",
    "c.put(13,28)\n",
    "c.put(11,26)"
   ]
  },
  {
   "cell_type": "code",
   "execution_count": 248,
   "metadata": {},
   "outputs": [
    {
     "data": {
      "text/plain": [
       "[(key=2; value=14; time=25),\n",
       " (key=4; value=30; time=28),\n",
       " (key=7; value=23; time=32),\n",
       " (key=5; value=18; time=36),\n",
       " (key=11; value=4; time=29),\n",
       " (key=12; value=7; time=40),\n",
       " (key=1; value=9; time=37),\n",
       " (key=13; value=4; time=38),\n",
       " (key=8; value=18; time=39),\n",
       " (key=9; value=29; time=41)]"
      ]
     },
     "execution_count": 248,
     "metadata": {},
     "output_type": "execute_result"
    }
   ],
   "source": [
    "c._items"
   ]
  },
  {
   "cell_type": "code",
   "execution_count": 249,
   "metadata": {},
   "outputs": [
    {
     "data": {
      "text/plain": [
       "{1: 10, 2: 4, 4: 5, 5: 7, 7: 6, 8: 12, 9: 13, 11: 8, 12: 9, 13: 11}"
      ]
     },
     "execution_count": 249,
     "metadata": {},
     "output_type": "execute_result"
    }
   ],
   "source": [
    "c._indexes"
   ]
  },
  {
   "cell_type": "code",
   "execution_count": 250,
   "metadata": {},
   "outputs": [
    {
     "data": {
      "text/plain": [
       "4"
      ]
     },
     "execution_count": 250,
     "metadata": {},
     "output_type": "execute_result"
    }
   ],
   "source": [
    "c._deleted"
   ]
  },
  {
   "cell_type": "code",
   "execution_count": 239,
   "metadata": {},
   "outputs": [
    {
     "name": "stdout",
     "output_type": "stream",
     "text": [
      "1\n",
      "removing  2\n",
      "-1\n",
      "[(key=1; value=1; time=3), (key=3; value=3; time=4)] {1: 1, 3: 2} 1\n",
      "removing  1\n",
      "-1\n",
      "3\n",
      "4\n"
     ]
    }
   ],
   "source": [
    "cache = LRUCache(2)\n",
    "\n",
    "cache.put(1, 1)\n",
    "\n",
    "cache.put(2, 2)\n",
    "# print(cache._items, cache._indexes)\n",
    "\n",
    "print(cache.get(1))\n",
    "# returns 1\n",
    "\n",
    "# print(cache._items, cache._indexes)\n",
    "\n",
    "cache.put(3, 3)\n",
    "# evicts key 2\n",
    "# print(cache._items, cache._indexes)\n",
    "\n",
    "print(cache.get(2))\n",
    "# returns -1 (not found)\n",
    "print(cache._items, cache._indexes, cache._deleted)\n",
    "\n",
    "cache.put(4, 4);    # evicts key 1\n",
    "# print(cache._items, cache._indexes)\n",
    "\n",
    "print(cache.get(1));       # returns -1 (not found)\n",
    "# print(cache._items, cache._indexes)\n",
    "\n",
    "print(cache.get(3));       # returns 3\n",
    "\n",
    "print(cache.get(4));       # returns 4\n",
    "# # print(cache._items)"
   ]
  },
  {
   "cell_type": "code",
   "execution_count": null,
   "metadata": {
    "collapsed": true
   },
   "outputs": [],
   "source": []
  },
  {
   "cell_type": "code",
   "execution_count": 229,
   "metadata": {},
   "outputs": [
    {
     "name": "stdout",
     "output_type": "stream",
     "text": [
      "[(key=2; value=22; time=2), (key=4; value=-44; time=4), (key=3; value=33; time=3), (key=1; value=11; time=5)]\n",
      "{1: 3, 2: 0, 3: 2, 4: 1}\n",
      "[(key=2; value=22; time=2), (key=4; value=-44; time=4), (key=3; value=33; time=3), (key=1; value=1111; time=6)]\n",
      "{1: 3, 2: 0, 3: 2, 4: 1}\n"
     ]
    }
   ],
   "source": [
    "c = LRUCache(4)\n",
    "c.put(1, 11)\n",
    "c.put(2, 22)\n",
    "c.put(3, 33)\n",
    "c.put(4, -44)\n",
    "c.get(1)\n",
    "print(c._items)\n",
    "print(c._indexes)\n",
    "c.put(1, 1111)\n",
    "print(c._items)\n",
    "print(c._indexes)\n",
    "# c._build_heap()\n",
    "# print(c._items)\n",
    "# print(c._indexes)"
   ]
  },
  {
   "cell_type": "code",
   "execution_count": 227,
   "metadata": {
    "collapsed": true
   },
   "outputs": [],
   "source": [
    "class MaxHeap():\n",
    "    def __init__(self):\n",
    "        pass\n",
    "\n",
    "    def intsert(self, x):\n",
    "        pass\n",
    "\n",
    "    def get_max(self, x):\n",
    "        pass\n",
    "\n",
    "    def extract_max(self, x):\n",
    "        pass\n",
    "\n",
    "    def update_key(self, x, key):\n",
    "        pass"
   ]
  },
  {
   "cell_type": "code",
   "execution_count": null,
   "metadata": {
    "collapsed": true
   },
   "outputs": [],
   "source": []
  },
  {
   "cell_type": "code",
   "execution_count": 112,
   "metadata": {
    "collapsed": true
   },
   "outputs": [],
   "source": [
    "class MaxHeap():\n",
    "    def __init__(self, data):\n",
    "        self.data = data\n",
    "        self._build_heap()\n",
    "\n",
    "    def _build_heap(self):\n",
    "        # start with one level above leaves\n",
    "        # which already satisfy max-heap prop\n",
    "        for i in reversed(range(len(self.data) // 2)):\n",
    "            self._heapify(i)\n",
    "\n",
    "    def _heapify(self, i):\n",
    "        # indexes of left nad right nodes\n",
    "        l = 2 * (i + 1) - 1\n",
    "        r = 2 * (i + 1)\n",
    "\n",
    "        # index which holds largest key of i, left, right\n",
    "        m = i\n",
    "        if l < len(self.data) and self.data[l] > self.data[i]: m = l\n",
    "        if r < len(self.data) and self.data[r] > self.data[m]: m = r\n",
    "\n",
    "        # swap element at i with largest child\n",
    "        if i != m:\n",
    "            self.data[i], self.data[m] = self.data[m], self.data[i]\n",
    "            # heapify subtree tha we changed\n",
    "            self._heapify(m)\n",
    "            \n",
    "    def get_max(self):\n",
    "        return self.data[0]\n",
    "    \n",
    "    def extract_max(self):\n",
    "        v = self.data.pop(0)\n",
    "        self._heapify(0)\n",
    "        return v\n",
    "    \n",
    "    def insert(self, x):\n",
    "        self.data.append(x)\n",
    "        self._build_heap()\n",
    "        \n",
    "    def set_element(self, i, x):\n",
    "        self.data[i] = x\n",
    "        self._build_heap()"
   ]
  },
  {
   "cell_type": "code",
   "execution_count": 106,
   "metadata": {
    "collapsed": true
   },
   "outputs": [],
   "source": [
    "class Entry():\n",
    "    def __init__(self, val):\n",
    "        self.val = val\n",
    "\n",
    "    def __gt__(e1, e2):\n",
    "        return e1.val > e2.val\n",
    "\n",
    "    def __ge__(e1, e2):\n",
    "        return e1.val >= e2.val\n",
    "\n",
    "    def __eq__(e1, e2):\n",
    "        return e1.val == e2.val\n",
    "    \n",
    "    def __repr__(self):\n",
    "        return str(self.val)"
   ]
  },
  {
   "cell_type": "code",
   "execution_count": 107,
   "metadata": {},
   "outputs": [],
   "source": [
    "e1 = Entry(100)\n",
    "e2 = Entry(500)\n",
    "assert (False == (e1 == e2))\n",
    "assert (False == (e1 > e2))\n",
    "assert (False == (e1 >= e2))\n",
    "assert (True == (e1 < e2))"
   ]
  },
  {
   "cell_type": "code",
   "execution_count": null,
   "metadata": {
    "collapsed": true
   },
   "outputs": [],
   "source": [
    "a = [16, 4, 10, 14, 7, 100, 9, 3, 2, 8, 1]\n",
    "a = [Entry(x) for x in a]\n",
    "h = MaxHeap(a)\n",
    "print(h.get_max())\n",
    "print(h.data)\n",
    "print(h.extract_max())\n",
    "print(h.data)\n",
    "print(h.insert(Entry(-10)))\n",
    "print(h.data)"
   ]
  },
  {
   "cell_type": "code",
   "execution_count": 110,
   "metadata": {},
   "outputs": [
    {
     "name": "stdout",
     "output_type": "stream",
     "text": [
      "100\n",
      "[100, 14, 16, 4, 8, 10, 9, 3, 2, 7, 1]\n",
      "100\n",
      "[16, 14, 4, 8, 10, 9, 3, 2, 7, 1]\n",
      "None\n",
      "[16, 14, 9, 8, 10, 4, 3, 2, 7, 1, -10]\n"
     ]
    }
   ],
   "source": [
    "a = [16, 4, 10, 14, 7, 100, 9, 3, 2, 8, 1]\n",
    "a = [Entry(x) for x in a]\n",
    "h = MaxHeap(a)\n",
    "print(h.get_max())\n",
    "print(h.data)\n",
    "print(h.extract_max())\n",
    "print(h.data)\n",
    "print(h.insert(Entry(-10)))\n",
    "print(h.data)"
   ]
  },
  {
   "cell_type": "code",
   "execution_count": 111,
   "metadata": {},
   "outputs": [
    {
     "name": "stdout",
     "output_type": "stream",
     "text": [
      "100\n",
      "[100, 14, 16, 4, 8, 10, 9, 3, 2, 7, 1]\n"
     ]
    }
   ],
   "source": [
    "a = [16, 4, 10, 14, 7, 100, 9, 3, 2, 8, 1]\n",
    "h = MaxHeap(a)\n",
    "print(h.get_max())\n",
    "print(h.data)"
   ]
  },
  {
   "cell_type": "code",
   "execution_count": 51,
   "metadata": {},
   "outputs": [
    {
     "name": "stdout",
     "output_type": "stream",
     "text": [
      "4 : 7 1 -\n",
      "3 : 14 2 8\n",
      "2 : 10 9 3\n",
      "1 : 4 14 7\n",
      "... 4 <-> 14\n",
      "0 : 16 14 10\n"
     ]
    }
   ],
   "source": [
    "a = [16, 4, 10, 14, 7, 9, 3, 2, 8, 1]\n",
    "\n",
    "h = len(a)\n",
    "\n",
    "for i in reversed(range(h // 2)):\n",
    "\n",
    "    # indexes of left nad right nodes\n",
    "    l = 2 * (i + 1) - 1\n",
    "    r = 2 * (i + 1)\n",
    "\n",
    "    print(i, ':', a[i], a[l] if l < h else '-', a[r] if r < h else '-')\n",
    "\n",
    "    # index which holds largest key of i, left, right\n",
    "    m = i\n",
    "    if l < h and a[l] > a[i]: m = l\n",
    "    if r < h and a[r] > a[m]: m = r\n",
    "\n",
    "    # swap element at i with largest child\n",
    "    if i != m:\n",
    "        print('... %d <-> %d' % (a[i], a[m]))\n",
    "        a[i], a[m] = a[m], a[i]"
   ]
  },
  {
   "cell_type": "code",
   "execution_count": 36,
   "metadata": {},
   "outputs": [
    {
     "data": {
      "text/plain": [
       "[16, 14, 10, 4, 7, 9, 3, 2, 8, 1]"
      ]
     },
     "execution_count": 36,
     "metadata": {},
     "output_type": "execute_result"
    }
   ],
   "source": [
    "a"
   ]
  },
  {
   "cell_type": "code",
   "execution_count": null,
   "metadata": {
    "collapsed": true
   },
   "outputs": [],
   "source": []
  },
  {
   "cell_type": "code",
   "execution_count": null,
   "metadata": {
    "collapsed": true
   },
   "outputs": [],
   "source": []
  }
 ],
 "metadata": {
  "kernelspec": {
   "display_name": "Python 3",
   "language": "python",
   "name": "python3"
  },
  "language_info": {
   "codemirror_mode": {
    "name": "ipython",
    "version": 3
   },
   "file_extension": ".py",
   "mimetype": "text/x-python",
   "name": "python",
   "nbconvert_exporter": "python",
   "pygments_lexer": "ipython3",
   "version": "3.5.2"
  }
 },
 "nbformat": 4,
 "nbformat_minor": 2
}

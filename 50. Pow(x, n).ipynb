{
 "cells": [
  {
   "cell_type": "code",
   "execution_count": 97,
   "metadata": {
    "collapsed": true
   },
   "outputs": [],
   "source": [
    "class Solution(object):\n",
    "    def myPow(self, x, n):\n",
    "        \"\"\"\n",
    "        :type x: float\n",
    "        :type n: int\n",
    "        :rtype: float\n",
    "        \"\"\"\n",
    "        \n",
    "        if x == 1:\n",
    "            return 1\n",
    "        elif x == -1:\n",
    "            return 1 if n % 2 == 0 else -1\n",
    "\n",
    "        if n == 0:\n",
    "            return 1\n",
    "        elif n < 0:\n",
    "            n *= -1\n",
    "            x = 1 / x\n",
    "                     \n",
    "        r = 1\n",
    "\n",
    "        while n > 0 and r != 0:\n",
    "            r *= x\n",
    "            n -= 1\n",
    "            \n",
    "        return r"
   ]
  },
  {
   "cell_type": "code",
   "execution_count": 98,
   "metadata": {
    "collapsed": true
   },
   "outputs": [],
   "source": [
    "# as per https://discuss.leetcode.com/topic/40546/iterative-log-n-solution-with-clear-explanation\n",
    "class Solution(object):\n",
    "    def myPow(self, x, n):\n",
    "        \"\"\"\n",
    "        :type x: float\n",
    "        :type n: int\n",
    "        :rtype: float\n",
    "        \"\"\"\n",
    "\n",
    "        r = 1\n",
    "        abs_n = abs(n)\n",
    "\n",
    "        while (abs_n > 0):\n",
    "            if abs_n & 1 == 1: r *= x\n",
    "            abs_n = abs_n >> 1\n",
    "            x *= x\n",
    "\n",
    "        return 1 / r if n < 0 else r"
   ]
  },
  {
   "cell_type": "code",
   "execution_count": 99,
   "metadata": {
    "collapsed": true
   },
   "outputs": [],
   "source": [
    "s = Solution()\n",
    "\n",
    "assert(s.myPow(2, 8) == 2**8)\n",
    "assert(s.myPow(2,-8) == 2**-8)\n",
    "assert(s.myPow(1, 2147483647) == 1)\n",
    "assert(s.myPow(-13.62608, 3) == -2529.9550389278597)\n",
    "assert(s.myPow(2.00000, -2147483648) == 0)\n",
    "assert(s.myPow(-1,2147483647) == -1)"
   ]
  },
  {
   "cell_type": "code",
   "execution_count": null,
   "metadata": {
    "collapsed": true
   },
   "outputs": [],
   "source": []
  }
 ],
 "metadata": {
  "kernelspec": {
   "display_name": "Python 3",
   "language": "python",
   "name": "python3"
  },
  "language_info": {
   "codemirror_mode": {
    "name": "ipython",
    "version": 3
   },
   "file_extension": ".py",
   "mimetype": "text/x-python",
   "name": "python",
   "nbconvert_exporter": "python",
   "pygments_lexer": "ipython3",
   "version": "3.5.2"
  }
 },
 "nbformat": 4,
 "nbformat_minor": 2
}

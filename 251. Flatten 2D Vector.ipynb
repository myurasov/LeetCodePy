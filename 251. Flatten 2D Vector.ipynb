{
 "cells": [
  {
   "cell_type": "code",
   "execution_count": 70,
   "metadata": {
    "collapsed": true
   },
   "outputs": [],
   "source": [
    "class Vector2D(object):\n",
    "    def __init__(self, vec2d):\n",
    "        \"\"\"\n",
    "        Initialize your data structure here.\n",
    "        :type vec2d: List[List[int]]\n",
    "        \"\"\"\n",
    "\n",
    "        self.data = vec2d\n",
    "        self.left = sum(map(len, vec2d))\n",
    "        self.r = 0\n",
    "        self.c = 0\n",
    "\n",
    "    def next(self):\n",
    "        \"\"\"\n",
    "        :rtype: int\n",
    "        \"\"\"\n",
    "\n",
    "        while self.left:\n",
    "            if self.c < len(self.data[self.r]):\n",
    "                self.c += 1\n",
    "                self.left -= 1\n",
    "                return self.data[self.r][self.c - 1]\n",
    "            else:\n",
    "                self.r += 1\n",
    "                self.c = 0\n",
    "\n",
    "    def hasNext(self):\n",
    "        \"\"\"\n",
    "        :rtype: bool\n",
    "        \"\"\"\n",
    "\n",
    "        return self.left > 0\n",
    "\n",
    "\n",
    "# Your Vector2D object will be instantiated and called as such:\n",
    "# i, v = Vector2D(vec2d), []\n",
    "# while i.hasNext(): v.append(i.next())"
   ]
  },
  {
   "cell_type": "code",
   "execution_count": 71,
   "metadata": {},
   "outputs": [],
   "source": [
    "v = Vector2D([[1, 2], [3], [], [4, 5, 9]])"
   ]
  },
  {
   "cell_type": "code",
   "execution_count": 72,
   "metadata": {},
   "outputs": [
    {
     "name": "stdout",
     "output_type": "stream",
     "text": [
      "1\n",
      "2\n",
      "3\n",
      "4\n",
      "5\n",
      "9\n"
     ]
    }
   ],
   "source": [
    "while v.hasNext():\n",
    "    print(v.next())"
   ]
  },
  {
   "cell_type": "code",
   "execution_count": null,
   "metadata": {
    "collapsed": true
   },
   "outputs": [],
   "source": []
  }
 ],
 "metadata": {
  "kernelspec": {
   "display_name": "Python 3",
   "language": "python",
   "name": "python3"
  },
  "language_info": {
   "codemirror_mode": {
    "name": "ipython",
    "version": 3
   },
   "file_extension": ".py",
   "mimetype": "text/x-python",
   "name": "python",
   "nbconvert_exporter": "python",
   "pygments_lexer": "ipython3",
   "version": "3.5.2"
  }
 },
 "nbformat": 4,
 "nbformat_minor": 2
}

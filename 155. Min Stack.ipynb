{
 "cells": [
  {
   "cell_type": "code",
   "execution_count": null,
   "metadata": {
    "collapsed": true
   },
   "outputs": [],
   "source": [
    "MinStack minStack = new MinStack();\n",
    "minStack.push(-2);\n",
    "minStack.push(0);\n",
    "minStack.push(-3);\n",
    "minStack.getMin();   --> Returns -3.\n",
    "minStack.pop();\n",
    "minStack.top();      --> Returns 0.\n",
    "minStack.getMin();   --> Returns -2."
   ]
  },
  {
   "cell_type": "code",
   "execution_count": 14,
   "metadata": {},
   "outputs": [
    {
     "data": {
      "text/plain": [
       "[-2, 0]"
      ]
     },
     "execution_count": 14,
     "metadata": {},
     "output_type": "execute_result"
    }
   ],
   "source": [
    "[-2]\n",
    "[0]\n",
    "\n",
    "[-2, 0]\n",
    "[0, 0]\n",
    "\n",
    "[-2, 0, -3]\n",
    "[0, 0, 2]\n",
    "\n",
    "[-2, 0, -3, -2.5]\n",
    "[0,0,2,2]"
   ]
  },
  {
   "cell_type": "code",
   "execution_count": 45,
   "metadata": {},
   "outputs": [
    {
     "name": "stdout",
     "output_type": "stream",
     "text": [
      "[0, 0, 2, 3]\n",
      "[0, 0, 2]\n"
     ]
    }
   ],
   "source": [
    "class MinStack(object):\n",
    "\n",
    "    def __init__(self):\n",
    "        self._data = []\n",
    "        self._min_indexes = []\n",
    "        self._min_index = 0\n",
    "\n",
    "    def push(self, x):\n",
    "        \n",
    "        if 0 == len(self._min_indexes) \\\n",
    "            or x <= self._data[self._min_indexes[-1]]:\n",
    "                self._min_indexes.append(len(self._data)) # min is now last in stack\n",
    "        else:\n",
    "            self._min_indexes.append(self._min_indexes[-1]) # min is at the same index\n",
    "\n",
    "        self._data.append(x)\n",
    "\n",
    "    def pop(self):\n",
    "        self._data.pop()\n",
    "        self._min_indexes.pop()\n",
    "        \n",
    "\n",
    "    def top(self):\n",
    "        return self._data[-1]\n",
    "        \n",
    "\n",
    "    def getMin(self):\n",
    "        return self._data[self._min_indexes[-1]]\n",
    "\n",
    "\n",
    "# Your MinStack object will be instantiated and called as such:\n",
    "# obj = MinStack()\n",
    "# obj.push(x)\n",
    "# obj.pop()\n",
    "# param_3 = obj.top()\n",
    "# param_4 = obj.getMin()\n",
    "\n",
    "ms = MinStack()\n",
    "ms.push(-2)\n",
    "ms.push(0)\n",
    "ms.push(-100)\n",
    "ms.push(-500)\n",
    "\n",
    "print(ms._min_indexes)\n",
    "\n",
    "ms.pop()\n",
    "\n",
    "print(ms._min_indexes)"
   ]
  },
  {
   "cell_type": "code",
   "execution_count": 36,
   "metadata": {
    "collapsed": true
   },
   "outputs": [],
   "source": [
    "a = [1,2,3]"
   ]
  },
  {
   "cell_type": "code",
   "execution_count": 38,
   "metadata": {},
   "outputs": [
    {
     "data": {
      "text/plain": [
       "3"
      ]
     },
     "execution_count": 38,
     "metadata": {},
     "output_type": "execute_result"
    }
   ],
   "source": [
    "a.pop()"
   ]
  },
  {
   "cell_type": "code",
   "execution_count": 39,
   "metadata": {},
   "outputs": [
    {
     "data": {
      "text/plain": [
       "[1, 2]"
      ]
     },
     "execution_count": 39,
     "metadata": {},
     "output_type": "execute_result"
    }
   ],
   "source": [
    "a"
   ]
  },
  {
   "cell_type": "code",
   "execution_count": null,
   "metadata": {
    "collapsed": true
   },
   "outputs": [],
   "source": []
  }
 ],
 "metadata": {
  "kernelspec": {
   "display_name": "Python 3",
   "language": "python",
   "name": "python3"
  },
  "language_info": {
   "codemirror_mode": {
    "name": "ipython",
    "version": 3
   },
   "file_extension": ".py",
   "mimetype": "text/x-python",
   "name": "python",
   "nbconvert_exporter": "python",
   "pygments_lexer": "ipython3",
   "version": "3.5.2"
  }
 },
 "nbformat": 4,
 "nbformat_minor": 2
}

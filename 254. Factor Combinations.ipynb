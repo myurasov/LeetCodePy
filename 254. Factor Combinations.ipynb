{
 "cells": [
  {
   "cell_type": "code",
   "execution_count": 70,
   "metadata": {},
   "outputs": [],
   "source": [
    "class Solution(object):\n",
    "    def getFactors(self, n):\n",
    "        \"\"\"\n",
    "        :type n: int\n",
    "        :rtype: List[List[int]]\n",
    "        \"\"\"\n",
    "        combos = set()\n",
    "        self.helper([], n, combos)\n",
    "        return list(map(list, combos))\n",
    "\n",
    "    def helper(self, path, n, combos):\n",
    "\n",
    "        i = 2\n",
    "        while i * i <= n:\n",
    "            quo, rem = n // i, n % i\n",
    "            if rem == 0:\n",
    "                self.helper(path + [i], quo, combos)\n",
    "                combo = path + [i, quo]\n",
    "                combos.add(tuple(sorted(combo)))\n",
    "            i += 1"
   ]
  },
  {
   "cell_type": "code",
   "execution_count": 71,
   "metadata": {},
   "outputs": [
    {
     "data": {
      "text/plain": [
       "[[2, 16], [4, 8], [2, 2, 2, 2, 2], [2, 2, 8], [2, 2, 2, 4], [2, 4, 4]]"
      ]
     },
     "execution_count": 71,
     "metadata": {},
     "output_type": "execute_result"
    }
   ],
   "source": [
    "Solution().getFactors(32)"
   ]
  },
  {
   "cell_type": "code",
   "execution_count": null,
   "metadata": {},
   "outputs": [],
   "source": []
  }
 ],
 "metadata": {
  "kernelspec": {
   "display_name": "Python 3",
   "language": "python",
   "name": "python3"
  },
  "language_info": {
   "codemirror_mode": {
    "name": "ipython",
    "version": 3
   },
   "file_extension": ".py",
   "mimetype": "text/x-python",
   "name": "python",
   "nbconvert_exporter": "python",
   "pygments_lexer": "ipython3",
   "version": "3.5.2"
  }
 },
 "nbformat": 4,
 "nbformat_minor": 2
}

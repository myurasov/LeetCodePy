{
 "cells": [
  {
   "cell_type": "code",
   "execution_count": 59,
   "metadata": {},
   "outputs": [],
   "source": [
    "class Solution(object):\n",
    "    def addBoldTag(self, s, dict):\n",
    "        \"\"\"\n",
    "        :type s: str\n",
    "        :type dict: List[str]\n",
    "        :rtype: str\n",
    "        \"\"\"\n",
    "\n",
    "        # 1 if the letter should be bold\n",
    "        marked = [0] * len(s)\n",
    "\n",
    "        # mark letters as bold\n",
    "        for d in dict:\n",
    "            for i in range(len(s) - len(d) + 1):\n",
    "                t = s[i:i + len(d)]\n",
    "                if t == d:\n",
    "                    for j in range(len(d)):\n",
    "                        marked[i + j] = 1\n",
    "                    i += len(d)\n",
    "\n",
    "        i = 0\n",
    "        r = ''\n",
    "\n",
    "        # insert tags at beginning/end of bold intervas\n",
    "        while i < len(marked):\n",
    "\n",
    "            if marked[i] == 1:\n",
    "                r += '<b>'\n",
    "\n",
    "                while i < len(marked) and marked[i] == 1:\n",
    "                    r += s[i]\n",
    "                    i += 1\n",
    "\n",
    "                i -= 1\n",
    "                r += '</b>'\n",
    "            else:\n",
    "                r += s[i]\n",
    "\n",
    "            i += 1\n",
    "\n",
    "        return r"
   ]
  },
  {
   "cell_type": "code",
   "execution_count": 67,
   "metadata": {},
   "outputs": [
    {
     "data": {
      "text/plain": [
       "'<b>abc</b>xyz<b>123-abcabc-</b>00<b>-</b>.'"
      ]
     },
     "execution_count": 67,
     "metadata": {},
     "output_type": "execute_result"
    }
   ],
   "source": [
    "Solution().addBoldTag('abcxyz123-abcabc-00-.', [\"abc\",\"123\", '-'])"
   ]
  },
  {
   "cell_type": "code",
   "execution_count": 34,
   "metadata": {},
   "outputs": [
    {
     "name": "stdout",
     "output_type": "stream",
     "text": [
      "[1, 1, 1, 1, 1, 1, 0]\n"
     ]
    }
   ],
   "source": [
    "Solution().addBoldTag('aaabbcc', [\"aaa\",\"aab\",\"bc\"])"
   ]
  },
  {
   "cell_type": "code",
   "execution_count": null,
   "metadata": {
    "collapsed": true
   },
   "outputs": [],
   "source": []
  }
 ],
 "metadata": {
  "kernelspec": {
   "display_name": "Python 3",
   "language": "python",
   "name": "python3"
  },
  "language_info": {
   "codemirror_mode": {
    "name": "ipython",
    "version": 3
   },
   "file_extension": ".py",
   "mimetype": "text/x-python",
   "name": "python",
   "nbconvert_exporter": "python",
   "pygments_lexer": "ipython3",
   "version": "3.5.2"
  }
 },
 "nbformat": 4,
 "nbformat_minor": 2
}

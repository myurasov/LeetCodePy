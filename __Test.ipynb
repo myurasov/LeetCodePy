{
 "cells": [
  {
   "cell_type": "code",
   "execution_count": 1,
   "metadata": {
    "collapsed": true
   },
   "outputs": [],
   "source": [
    "%run 'Lib.ipynb'"
   ]
  },
  {
   "cell_type": "code",
   "execution_count": 86,
   "metadata": {
    "collapsed": true
   },
   "outputs": [],
   "source": [
    "class Solution(object):\n",
    "    def repeatedStringMatch(self, A, B):\n",
    "        \"\"\"\n",
    "        :type A: str\n",
    "        :type B: str\n",
    "        :rtype: int\n",
    "        \"\"\"\n",
    "\n",
    "        # try repeating A to cover B completely\n",
    "        r = max(1, len(B) // len(A))\n",
    "        A *= r\n",
    "        if B in A: return r\n",
    "\n",
    "        # try repeating A one more time to cover start/end\n",
    "        A += A\n",
    "        if B in A: return r + 1\n",
    "\n",
    "        return -1"
   ]
  },
  {
   "cell_type": "code",
   "execution_count": 87,
   "metadata": {
    "scrolled": true
   },
   "outputs": [
    {
     "data": {
      "text/plain": [
       "3"
      ]
     },
     "execution_count": 87,
     "metadata": {},
     "output_type": "execute_result"
    }
   ],
   "source": [
    "Solution().repeatedStringMatch('abcd', 'cdabcdab')"
   ]
  },
  {
   "cell_type": "code",
   "execution_count": 88,
   "metadata": {},
   "outputs": [
    {
     "data": {
      "text/plain": [
       "7"
      ]
     },
     "execution_count": 88,
     "metadata": {},
     "output_type": "execute_result"
    }
   ],
   "source": [
    "Solution().repeatedStringMatch('a', 'aaaaaaa')"
   ]
  },
  {
   "cell_type": "code",
   "execution_count": 89,
   "metadata": {
    "scrolled": true
   },
   "outputs": [
    {
     "data": {
      "text/plain": [
       "1"
      ]
     },
     "execution_count": 89,
     "metadata": {},
     "output_type": "execute_result"
    }
   ],
   "source": [
    "Solution().repeatedStringMatch('aa', 'a')"
   ]
  },
  {
   "cell_type": "code",
   "execution_count": 90,
   "metadata": {
    "scrolled": true
   },
   "outputs": [
    {
     "data": {
      "text/plain": [
       "2"
      ]
     },
     "execution_count": 90,
     "metadata": {},
     "output_type": "execute_result"
    }
   ],
   "source": [
    "Solution().repeatedStringMatch(\"abababaaba\", \"aabaaba\")"
   ]
  },
  {
   "cell_type": "code",
   "execution_count": 210,
   "metadata": {
    "collapsed": true
   },
   "outputs": [],
   "source": [
    "def rolling_hash(s, width):\n",
    "    n = 0\n",
    "    h = 0\n",
    "    mod = \n",
    "    base = 2\n",
    "    x_mask = base**width\n",
    "\n",
    "    for i in range(len(s)):\n",
    "\n",
    "        h = h * base + ord(s[i])\n",
    "\n",
    "        if i >= width:\n",
    "            h %= x_mask\n",
    "\n",
    "#         if i >= width - 1:\n",
    "#             print(h, i, s[i - width + 1:i + 1])\n",
    "            \n",
    "    return h"
   ]
  },
  {
   "cell_type": "code",
   "execution_count": 211,
   "metadata": {},
   "outputs": [
    {
     "data": {
      "text/plain": [
       "49392123858"
      ]
     },
     "execution_count": 211,
     "metadata": {},
     "output_type": "execute_result"
    }
   ],
   "source": [
    "rolling_hash('.' * 30, 30)"
   ]
  },
  {
   "cell_type": "code",
   "execution_count": 145,
   "metadata": {},
   "outputs": [
    {
     "data": {
      "text/plain": [
       "98099"
      ]
     },
     "execution_count": 145,
     "metadata": {},
     "output_type": "execute_result"
    }
   ],
   "source": [
    "97098099%1000000"
   ]
  },
  {
   "cell_type": "code",
   "execution_count": 200,
   "metadata": {},
   "outputs": [
    {
     "data": {
      "text/plain": [
       "61"
      ]
     },
     "execution_count": 200,
     "metadata": {},
     "output_type": "execute_result"
    }
   ],
   "source": [
    "ord('=')"
   ]
  },
  {
   "cell_type": "code",
   "execution_count": 214,
   "metadata": {
    "collapsed": true
   },
   "outputs": [],
   "source": [
    "def Rabin_Karp_Matcher(text, pattern, d, q):\n",
    "    \n",
    "    n = len(text)\n",
    "    m = len(pattern)\n",
    "    h = pow(d, m - 1) % q\n",
    "    p = 0\n",
    "    t = 0\n",
    "    result = []\n",
    "    \n",
    "    for i in range(m):  # preprocessing\n",
    "        p = (d * p + ord(pattern[i])) % q\n",
    "        t = (d * t + ord(text[i])) % q\n",
    "        print(p, t)\n",
    "        \n",
    "    for s in range(n - m + 1):  # note the +1\n",
    "        if p == t:  # check character by character\n",
    "            match = True\n",
    "            for i in range(m):\n",
    "                if pattern[i] != text[s + i]:\n",
    "                    match = False\n",
    "                    break\n",
    "            if match:\n",
    "                result = result + [s]\n",
    "        if s < n - m:\n",
    "            t = (t - h * ord(text[s])) % q  # remove letter s\n",
    "            t = (t * d + ord(text[s + m])) % q  # add letter s+m\n",
    "            t = (t + q) % q  # make sure that t >= 0\n",
    "    return result"
   ]
  },
  {
   "cell_type": "code",
   "execution_count": 215,
   "metadata": {},
   "outputs": [
    {
     "name": "stdout",
     "output_type": "stream",
     "text": [
      "6 7\n",
      "1 0\n",
      "[6]\n"
     ]
    }
   ],
   "source": [
    "print(Rabin_Karp_Matcher(\"3141592653589793\", \"26\", 257, 11))"
   ]
  },
  {
   "cell_type": "code",
   "execution_count": 212,
   "metadata": {},
   "outputs": [
    {
     "name": "stdout",
     "output_type": "stream",
     "text": [
      "[6]\n",
      "[0, 1, 2, 3]\n"
     ]
    }
   ],
   "source": [
    "print(Rabin_Karp_Matcher(\"xxxxx\", \"xx\", 40999999, 999999937))"
   ]
  },
  {
   "cell_type": "code",
   "execution_count": 216,
   "metadata": {
    "collapsed": true
   },
   "outputs": [],
   "source": [
    "pow?"
   ]
  },
  {
   "cell_type": "code",
   "execution_count": null,
   "metadata": {
    "collapsed": true
   },
   "outputs": [],
   "source": [
    "class Solution(object):\n",
    "    def repeatedStringMatch(self, A, B):\n",
    "        \n",
    "        def check(index):\n",
    "            return all(A[(i + index) % len(A)] == x for i, x in enumerate(B))\n",
    "\n",
    "        q = (len(B) - 1) // len(A) + 1\n",
    "\n",
    "        p, MOD = 113, 10**9 + 7\n",
    "        p_inv = pow(p, MOD - 2, MOD)\n",
    "        power = 1\n",
    "\n",
    "        b_hash = 0\n",
    "        for x in map(ord, B):\n",
    "            b_hash += power * x\n",
    "            b_hash %= MOD\n",
    "            power = (power * p) % MOD\n",
    "\n",
    "        a_hash = 0\n",
    "        power = 1\n",
    "        for i in xrange(len(B)):\n",
    "            a_hash += power * ord(A[i % len(A)])\n",
    "            a_hash %= MOD\n",
    "            power = (power * p) % MOD\n",
    "\n",
    "        if a_hash == b_hash and check(0): return q\n",
    "\n",
    "        power = (power * p_inv) % MOD\n",
    "        for i in xrange(len(B), (q + 1) * len(A)):\n",
    "            a_hash = (a_hash - ord(A[(i - len(B)) % len(A)])) * p_inv\n",
    "            a_hash += power * ord(A[i % len(A)])\n",
    "            a_hash %= MOD\n",
    "            if a_hash == b_hash and check(i - len(B) + 1):\n",
    "                return q if i < q * len(A) else q + 1\n",
    "\n",
    "        return -1"
   ]
  },
  {
   "cell_type": "code",
   "execution_count": null,
   "metadata": {},
   "outputs": [],
   "source": [
    "def is_prime(n):\n",
    "    if n < 2: return False\n",
    "    i = 2\n",
    "    while i * i <= n:\n",
    "        if n % i == 0: return False\n",
    "        i += 1\n",
    "    return True\n",
    "\n",
    "\n",
    "for i in reversed(range(2**63)):\n",
    "#     print(i, hex(i))\n",
    "    if is_prime(i): break\n",
    "        \n",
    "print(i)"
   ]
  },
  {
   "cell_type": "code",
   "execution_count": null,
   "metadata": {
    "collapsed": true
   },
   "outputs": [],
   "source": []
  },
  {
   "cell_type": "code",
   "execution_count": null,
   "metadata": {
    "collapsed": true
   },
   "outputs": [],
   "source": []
  }
 ],
 "metadata": {
  "kernelspec": {
   "display_name": "Python 3",
   "language": "python",
   "name": "python3"
  },
  "language_info": {
   "codemirror_mode": {
    "name": "ipython",
    "version": 3
   },
   "file_extension": ".py",
   "mimetype": "text/x-python",
   "name": "python",
   "nbconvert_exporter": "python",
   "pygments_lexer": "ipython3",
   "version": "3.5.2"
  }
 },
 "nbformat": 4,
 "nbformat_minor": 2
}

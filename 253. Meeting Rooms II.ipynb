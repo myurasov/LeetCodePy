{
 "cells": [
  {
   "cell_type": "code",
   "execution_count": 1,
   "metadata": {
    "collapsed": true
   },
   "outputs": [],
   "source": [
    "# Definition for an interval.\n",
    "\n",
    "\n",
    "class Interval(object):\n",
    "    def __init__(self, s=0, e=0):\n",
    "        self.start = s\n",
    "        self.end = e\n",
    "\n",
    "    def __repr__(self):\n",
    "        return '%d->%d' % (self.start, self.end)"
   ]
  },
  {
   "cell_type": "code",
   "execution_count": 2,
   "metadata": {
    "collapsed": true
   },
   "outputs": [],
   "source": [
    "def tointervals(a):\n",
    "    return [Interval(x[0], x[1]) for x in a]"
   ]
  },
  {
   "cell_type": "code",
   "execution_count": 89,
   "metadata": {},
   "outputs": [],
   "source": [
    "class Solution(object):\n",
    "    def minMeetingRooms(self, intervals):\n",
    "        \"\"\"\n",
    "        :type intervals: List[Interval]\n",
    "        :rtype: int\n",
    "        \"\"\"\n",
    "\n",
    "        starts = [x.start for x in intervals]\n",
    "        ends = [-x.end for x in intervals]\n",
    "\n",
    "        points = starts + ends\n",
    "        # by time, ending points before starting\n",
    "        points.sort(key=lambda x: [abs(x), x])\n",
    "\n",
    "        max_rooms = 0\n",
    "        rooms = 0\n",
    "\n",
    "        for p in points:\n",
    "            # add rooms count on meeting start, decrease on meeting end\n",
    "            rooms += 1 if p >= 0 else -1\n",
    "            max_rooms = max(max_rooms, rooms)\n",
    "\n",
    "        return max_rooms"
   ]
  },
  {
   "cell_type": "code",
   "execution_count": 90,
   "metadata": {},
   "outputs": [
    {
     "data": {
      "text/plain": [
       "2"
      ]
     },
     "execution_count": 90,
     "metadata": {},
     "output_type": "execute_result"
    }
   ],
   "source": [
    "Solution().minMeetingRooms(tointervals([[9, 10], [4, 9], [4, 17]])) # 2"
   ]
  },
  {
   "cell_type": "code",
   "execution_count": 91,
   "metadata": {},
   "outputs": [
    {
     "data": {
      "text/plain": [
       "2"
      ]
     },
     "execution_count": 91,
     "metadata": {},
     "output_type": "execute_result"
    }
   ],
   "source": [
    "Solution().minMeetingRooms(tointervals([[0, 30], [5, 10], [15, 20]])) # 2"
   ]
  },
  {
   "cell_type": "code",
   "execution_count": 92,
   "metadata": {},
   "outputs": [
    {
     "data": {
      "text/plain": [
       "1"
      ]
     },
     "execution_count": 92,
     "metadata": {},
     "output_type": "execute_result"
    }
   ],
   "source": [
    "Solution().minMeetingRooms(tointervals([[2, 7]])) # 1"
   ]
  },
  {
   "cell_type": "code",
   "execution_count": 93,
   "metadata": {},
   "outputs": [
    {
     "data": {
      "text/plain": [
       "2"
      ]
     },
     "execution_count": 93,
     "metadata": {},
     "output_type": "execute_result"
    }
   ],
   "source": [
    "Solution().minMeetingRooms(tointervals([[5, 8], [6, 8]]))"
   ]
  },
  {
   "cell_type": "code",
   "execution_count": 94,
   "metadata": {},
   "outputs": [
    {
     "data": {
      "text/plain": [
       "0"
      ]
     },
     "execution_count": 94,
     "metadata": {},
     "output_type": "execute_result"
    }
   ],
   "source": [
    "Solution().minMeetingRooms(tointervals([]))"
   ]
  },
  {
   "cell_type": "code",
   "execution_count": 95,
   "metadata": {},
   "outputs": [
    {
     "data": {
      "text/plain": [
       "1"
      ]
     },
     "execution_count": 95,
     "metadata": {},
     "output_type": "execute_result"
    }
   ],
   "source": [
    "Solution().minMeetingRooms(tointervals([[13, 15], [1, 13]]))"
   ]
  },
  {
   "cell_type": "code",
   "execution_count": 96,
   "metadata": {
    "collapsed": true
   },
   "outputs": [],
   "source": [
    "def intersect(a, b):\n",
    "    assert a.start <= a.end\n",
    "    assert b.start <= b.end\n",
    "\n",
    "    if a.start >= b.start and a.end <= b.end:  # a inside b\n",
    "        return a.end - a.start\n",
    "\n",
    "    if b.start >= a.start and b.end <= a.end:  # b inside a\n",
    "        return b.end - b.start\n",
    "\n",
    "    if a.start < b.start and a.end > b.start:  # a to the left of b\n",
    "        return a.end - b.start\n",
    "\n",
    "    if a.start > b.start and b.end > a.start:  # a to the right of b\n",
    "        return b.end - a.start\n",
    "\n",
    "    return 0\n",
    "\n",
    "\n",
    "assert intersect(Interval(0, 5), Interval(10, 15)) == 0\n",
    "assert intersect(Interval(5, 10), Interval(0, 15)) == 5\n",
    "assert intersect(Interval(0, 15), Interval(5, 10)) == 5\n",
    "assert intersect(Interval(0, 5), Interval(0, 5)) == 5\n",
    "assert intersect(Interval(5, 15), Interval(0, 10)) == 5\n",
    "assert intersect(Interval(10, 15), Interval(0, 5)) == 0\n",
    "assert intersect(Interval(0, 5), Interval(5, 10)) == 0\n",
    "assert intersect(Interval(0, 0), Interval(0, 1)) == 0\n",
    "assert intersect(Interval(1, 1), Interval(1, 1)) == 0"
   ]
  }
 ],
 "metadata": {
  "kernelspec": {
   "display_name": "Python 3",
   "language": "python",
   "name": "python3"
  },
  "language_info": {
   "codemirror_mode": {
    "name": "ipython",
    "version": 3
   },
   "file_extension": ".py",
   "mimetype": "text/x-python",
   "name": "python",
   "nbconvert_exporter": "python",
   "pygments_lexer": "ipython3",
   "version": "3.5.2"
  }
 },
 "nbformat": 4,
 "nbformat_minor": 2
}

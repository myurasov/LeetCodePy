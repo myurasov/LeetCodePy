{
 "cells": [
  {
   "cell_type": "code",
   "execution_count": 35,
   "metadata": {},
   "outputs": [],
   "source": [
    "from collections import *\n",
    "from heapq import *\n",
    "\n",
    "\n",
    "class Solution(object):\n",
    "    def ladderLength(self, beginWord, endWord, wordList):\n",
    "        \"\"\"\n",
    "        :type beginWord: str\n",
    "        :type endWord: str\n",
    "        :type wordList: List[str]\n",
    "        :rtype: int\n",
    "        \"\"\"\n",
    "\n",
    "        nodes = self.createGraph(beginWord, wordList)\n",
    "        d = self.findShortestDistance(beginWord, endWord, nodes)\n",
    "        return d + 1 if d < float('inf') else 0\n",
    "\n",
    "    # find shortest dist with Dijkstra algorithm\n",
    "    # https://en.wikipedia.org/wiki/Dijkstra%27s_algorithm\n",
    "    def findShortestDistance(self, beginWord, endWord, nodes):\n",
    "\n",
    "        current = nodes[beginWord]\n",
    "        current['distance'] = 0\n",
    "\n",
    "        # todo: unvisited as minheap (dist, key)\n",
    "\n",
    "        while True:\n",
    "\n",
    "            if current['key'] != endWord:\n",
    "\n",
    "                # calc tentative distances to neighbors\n",
    "                for w in current['neighbors']:\n",
    "                    neighbor = nodes[w]\n",
    "                    neighbor['distance'] = min(neighbor['distance'],\n",
    "                                               current['distance'] + 1)\n",
    "\n",
    "                current['visited'] = True\n",
    "\n",
    "                # find next unvisited node with min distance\n",
    "\n",
    "                min_distance = float('inf')\n",
    "\n",
    "                for key in nodes:\n",
    "                    node = nodes[key]\n",
    "                    if not node['visited'] and node['distance'] < min_distance:\n",
    "                        current = node\n",
    "                        min_distance = current['distance']\n",
    "\n",
    "                if min_distance == float('inf') or current['key'] == endWord:\n",
    "                    return min_distance\n",
    "\n",
    "    def createGraph(self, beginWord, wordList):\n",
    "\n",
    "        nodes = {\n",
    "            x: {\n",
    "                'key': x,\n",
    "                'neighbors': [],\n",
    "                'distance': float('inf'),\n",
    "                'visited': False\n",
    "            }\n",
    "            for x in [beginWord] + wordList\n",
    "        }\n",
    "\n",
    "        # connect nodes\n",
    "        for w1 in nodes:\n",
    "            for w2 in nodes:\n",
    "\n",
    "                # find diff between w1 and w2\n",
    "                diff = 0\n",
    "                for i in range(len(w1)):\n",
    "                    if w1[i] != w2[i]:\n",
    "                        diff += 1\n",
    "                    if diff > 1: break\n",
    "\n",
    "                if diff == 1:\n",
    "                    nodes[w1]['neighbors'].append(w2)\n",
    "\n",
    "        return nodes\n",
    "    \n",
    "    "
   ]
  },
  {
   "cell_type": "code",
   "execution_count": 36,
   "metadata": {},
   "outputs": [
    {
     "name": "stdout",
     "output_type": "stream",
     "text": [
      "5\n"
     ]
    }
   ],
   "source": [
    "s = Solution()\n",
    "\n",
    "r = s.ladderLength(\"qa\", \"sq\", [\n",
    "    \"si\", \"go\", \"se\", \"cm\", \"so\", \"ph\", \"mt\", \"db\", \"mb\", \"sb\", \"kr\", \"ln\",\n",
    "    \"tm\", \"le\", \"av\", \"sm\", \"ar\", \"ci\", \"ca\", \"br\", \"ti\", \"ba\", \"to\", \"ra\",\n",
    "    \"fa\", \"yo\", \"ow\", \"sn\", \"ya\", \"cr\", \"po\", \"fe\", \"ho\", \"ma\", \"re\", \"or\",\n",
    "    \"rn\", \"au\", \"ur\", \"rh\", \"sr\", \"tc\", \"lt\", \"lo\", \"as\", \"fr\", \"nb\", \"yb\",\n",
    "    \"if\", \"pb\", \"ge\", \"th\", \"pm\", \"rb\", \"sh\", \"co\", \"ga\", \"li\", \"ha\", \"hz\",\n",
    "    \"no\", \"bi\", \"di\", \"hi\", \"qa\", \"pi\", \"os\", \"uh\", \"wm\", \"an\", \"me\", \"mo\",\n",
    "    \"na\", \"la\", \"st\", \"er\", \"sc\", \"ne\", \"mn\", \"mi\", \"am\", \"ex\", \"pt\", \"io\",\n",
    "    \"be\", \"fm\", \"ta\", \"tb\", \"ni\", \"mr\", \"pa\", \"he\", \"lr\", \"sq\", \"ye\"\n",
    "])\n",
    "\n",
    "print(r)"
   ]
  },
  {
   "cell_type": "code",
   "execution_count": 31,
   "metadata": {},
   "outputs": [
    {
     "name": "stdout",
     "output_type": "stream",
     "text": [
      "5\n"
     ]
    }
   ],
   "source": [
    "r = Solution().ladderLength(\"hit\", \"cog\",\n",
    "                            [\"hot\", \"dot\", \"dog\", \"lot\", \"log\", \"cog\"])\n",
    "print(r)"
   ]
  },
  {
   "cell_type": "code",
   "execution_count": 32,
   "metadata": {},
   "outputs": [
    {
     "name": "stdout",
     "output_type": "stream",
     "text": [
      "0\n"
     ]
    }
   ],
   "source": [
    "r = Solution().ladderLength(\"hit\", \"cog\", [\"hot\", \"dot\", \"dog\", \"lot\", \"log\"])\n",
    "print(r)"
   ]
  },
  {
   "cell_type": "code",
   "execution_count": 33,
   "metadata": {},
   "outputs": [
    {
     "ename": "AttributeError",
     "evalue": "'Solution' object has no attribute 'a'",
     "output_type": "error",
     "traceback": [
      "\u001b[0;31m---------------------------------------------------------------------------\u001b[0m",
      "\u001b[0;31mAttributeError\u001b[0m                            Traceback (most recent call last)",
      "\u001b[0;32m<ipython-input-33-9fd05a90b45c>\u001b[0m in \u001b[0;36m<module>\u001b[0;34m()\u001b[0m\n\u001b[0;32m----> 1\u001b[0;31m \u001b[0ms\u001b[0m\u001b[0;34m.\u001b[0m\u001b[0ma\u001b[0m\u001b[0;34m(\u001b[0m\u001b[0;34m)\u001b[0m\u001b[0;34m\u001b[0m\u001b[0m\n\u001b[0m",
      "\u001b[0;31mAttributeError\u001b[0m: 'Solution' object has no attribute 'a'"
     ]
    }
   ],
   "source": [
    "s.a()"
   ]
  },
  {
   "cell_type": "code",
   "execution_count": 34,
   "metadata": {
    "collapsed": true
   },
   "outputs": [],
   "source": [
    "heappush?"
   ]
  },
  {
   "cell_type": "code",
   "execution_count": null,
   "metadata": {
    "collapsed": true
   },
   "outputs": [],
   "source": []
  }
 ],
 "metadata": {
  "kernelspec": {
   "display_name": "Python 3",
   "language": "python",
   "name": "python3"
  }
 },
 "nbformat": 4,
 "nbformat_minor": 2
}

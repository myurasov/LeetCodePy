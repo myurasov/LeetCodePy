{
 "cells": [
  {
   "cell_type": "code",
   "execution_count": 32,
   "metadata": {
    "collapsed": true
   },
   "outputs": [],
   "source": [
    "class Solution(object):\n",
    "    def lengthLongestPath(self, path):\n",
    "        \"\"\"\n",
    "        :type input: str\n",
    "        :rtype: int\n",
    "        \"\"\"\n",
    "        \n",
    "        cur_path = []\n",
    "        max_len = 0\n",
    "\n",
    "        for part in path.split('\\n'):\n",
    "\n",
    "            # find depth\n",
    "            depth = 0\n",
    "            while part[depth] == '\\t': depth += 1\n",
    "            \n",
    "            # remove leading tabs\n",
    "            part = part[depth:]\n",
    "\n",
    "            # cut to parent depth\n",
    "            cur_path = cur_path[:depth]\n",
    "            \n",
    "            # append current part\n",
    "            cur_path.append(part)\n",
    "\n",
    "            full_path = '/'.join(cur_path)\n",
    "\n",
    "            # if it is a file, check max len\n",
    "            if '.' in full_path:\n",
    "                max_len = max(len(full_path), max_len)\n",
    "        \n",
    "        return max_len"
   ]
  },
  {
   "cell_type": "code",
   "execution_count": 31,
   "metadata": {},
   "outputs": [
    {
     "data": {
      "text/plain": [
       "32"
      ]
     },
     "execution_count": 31,
     "metadata": {},
     "output_type": "execute_result"
    }
   ],
   "source": [
    "Solution().lengthLongestPath('dir\\n\\tsubdir1\\n\\t\\tfile1.ext\\n\\t\\tsubsubdir1\\n\\tsubdir2\\n\\t\\tsubsubdir2\\n\\t\\t\\tfile2.ext')"
   ]
  },
  {
   "cell_type": "code",
   "execution_count": 4,
   "metadata": {
    "collapsed": true
   },
   "outputs": [],
   "source": [
    "path = \"dir\\n\\tsubdir1\\n\\t\\tfile1.ext\\n\\t\\tsubsubdir1\\n\\tsubdir2\\n\\t\\tsubsubdir2\\n\\t\\t\\tfile2.ext\"\n",
    "path = path.split('\\n')"
   ]
  },
  {
   "cell_type": "code",
   "execution_count": 25,
   "metadata": {
    "collapsed": true
   },
   "outputs": [],
   "source": [
    "cur_path = []\n",
    "max_len = -1\n",
    "\n",
    "for part in path:\n",
    "\n",
    "    depth = 0\n",
    "    while part[depth] == '\\t': depth += 1\n",
    "    part = part[depth:]\n",
    "\n",
    "    cur_path = cur_path[:depth]        \n",
    "    cur_path.append(part)\n",
    "    \n",
    "#     print(part, depth, '/'.join(cur_path))\n",
    "\n",
    "    max_len = max(len('/'.join(cur_path)), max_len)"
   ]
  },
  {
   "cell_type": "markdown",
   "metadata": {},
   "source": [
    "```\n",
    "dir\n",
    "    subdir1\n",
    "        file1.ext\n",
    "        subsubdir1\n",
    "    subdir2\n",
    "        subsubdir2\n",
    "            file2.ext\n",
    "```"
   ]
  }
 ],
 "metadata": {
  "kernelspec": {
   "display_name": "Python 3",
   "language": "python",
   "name": "python3"
  },
  "language_info": {
   "codemirror_mode": {
    "name": "ipython",
    "version": 3
   },
   "file_extension": ".py",
   "mimetype": "text/x-python",
   "name": "python",
   "nbconvert_exporter": "python",
   "pygments_lexer": "ipython3",
   "version": "3.5.2"
  }
 },
 "nbformat": 4,
 "nbformat_minor": 2
}

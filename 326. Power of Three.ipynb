{
 "cells": [
  {
   "cell_type": "code",
   "execution_count": 5,
   "metadata": {
    "collapsed": true
   },
   "outputs": [],
   "source": [
    "class Solution(object):\n",
    "    def isPowerOfThree(self, n):\n",
    "        \n",
    "        i = 1\n",
    "\n",
    "        while i < n:\n",
    "            i *= 3\n",
    "            \n",
    "        return i == n"
   ]
  },
  {
   "cell_type": "code",
   "execution_count": 74,
   "metadata": {
    "collapsed": true
   },
   "outputs": [],
   "source": [
    "import struct\n",
    "\n",
    "MAX_INT = 2 ** (struct.Struct('i').size * 8 - 1) - 1\n",
    "MAX_3POW = 3 ** 19 # divisors are 3**0..3**19\n",
    "assert(MAX_3POW < MAX_INT)\n",
    "\n",
    "class Solution(object):\n",
    "    def isPowerOfThree(self, n):\n",
    "        \n",
    "        return (n > 0) and (MAX_3POW % n == 0)"
   ]
  },
  {
   "cell_type": "code",
   "execution_count": null,
   "metadata": {
    "collapsed": true
   },
   "outputs": [],
   "source": [
    "class Solution(object):\n",
    "    def isPowerOfThree(self, n):\n",
    "\n",
    "        return \\\n",
    "            n == 1 \\\n",
    "            or n == 3 \\\n",
    "            or n == 9 \\\n",
    "            or n == 27 \\\n",
    "            or n == 81 \\\n",
    "            or n == 243 \\\n",
    "            or n == 729 \\\n",
    "            or n == 2187 \\\n",
    "            or n == 6561 \\\n",
    "            or n == 19683 \\\n",
    "            or n == 59049 \\\n",
    "            or n == 177147 \\\n",
    "            or n == 531441 \\\n",
    "            or n == 1594323 \\\n",
    "            or n == 4782969 \\\n",
    "            or n == 14348907 \\\n",
    "            or n == 43046721 \\\n",
    "            or n == 129140163 \\\n",
    "            or n == 387420489 \\\n",
    "            or n == 1162261467"
   ]
  }
 ],
 "metadata": {
  "kernelspec": {
   "display_name": "Python 3",
   "language": "python",
   "name": "python3"
  },
  "language_info": {
   "codemirror_mode": {
    "name": "ipython",
    "version": 3
   },
   "file_extension": ".py",
   "mimetype": "text/x-python",
   "name": "python",
   "nbconvert_exporter": "python",
   "pygments_lexer": "ipython3",
   "version": "3.5.2"
  }
 },
 "nbformat": 4,
 "nbformat_minor": 2
}

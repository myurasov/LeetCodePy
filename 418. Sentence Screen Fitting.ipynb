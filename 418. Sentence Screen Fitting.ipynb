{
 "cells": [
  {
   "cell_type": "code",
   "execution_count": 295,
   "metadata": {},
   "outputs": [],
   "source": [
    "class Solution(object):\n",
    "    \n",
    "    def wordsTyping(self, sentence, rows, cols):\n",
    "        can_fit = self.count_line_fit(sentence, cols)\n",
    "        \n",
    "        words = 0 # total word count\n",
    "\n",
    "        for r in range(rows):\n",
    "            w = words % len(sentence) # starting word index\n",
    "            fits = can_fit[w] # fits on a current line\n",
    "            words += fits\n",
    "\n",
    "        return words // len(sentence)\n",
    "\n",
    "    # find how many words can fit in a line if it starts with that one\n",
    "    def count_line_fit(self, sentence, cols):\n",
    "        r = []\n",
    "\n",
    "        for _, word in enumerate(sentence):\n",
    "\n",
    "            c = 0\n",
    "            w = 0\n",
    "            \n",
    "            while True:\n",
    "                if c > 0: c += 1  # space\n",
    "                c += len(sentence[(_ + w) % len(sentence)])  # word\n",
    "                if c > cols: break\n",
    "                w += 1\n",
    "\n",
    "            r.append(w)\n",
    "\n",
    "        return r"
   ]
  },
  {
   "cell_type": "code",
   "execution_count": 317,
   "metadata": {},
   "outputs": [
    {
     "data": {
      "text/plain": [
       "[0, 1]"
      ]
     },
     "execution_count": 317,
     "metadata": {},
     "output_type": "execute_result"
    }
   ],
   "source": [
    "Solution().count_line_fit(cols = 9, sentence = [\"abcdefghij\", \"a\"])"
   ]
  },
  {
   "cell_type": "code",
   "execution_count": 319,
   "metadata": {
    "scrolled": true
   },
   "outputs": [
    {
     "data": {
      "text/plain": [
       "1"
      ]
     },
     "execution_count": 319,
     "metadata": {},
     "output_type": "execute_result"
    }
   ],
   "source": [
    "Solution().wordsTyping(rows = 3, cols = 11, sentence = [\"abcdefghij\", 'a']) # 1"
   ]
  },
  {
   "cell_type": "code",
   "execution_count": 320,
   "metadata": {},
   "outputs": [
    {
     "data": {
      "text/plain": [
       "2"
      ]
     },
     "execution_count": 320,
     "metadata": {},
     "output_type": "execute_result"
    }
   ],
   "source": [
    "Solution().wordsTyping(rows = 4, cols = 12, sentence = [\"I\", \"had\", \"apple\", \"pie\"]) #1"
   ]
  },
  {
   "cell_type": "code",
   "execution_count": 321,
   "metadata": {},
   "outputs": [
    {
     "data": {
      "text/plain": [
       "[3, 2, 3, 3]"
      ]
     },
     "execution_count": 321,
     "metadata": {},
     "output_type": "execute_result"
    }
   ],
   "source": [
    "Solution().count_line_fit([\"I\", \"had\", \"apple\", \"pie\"], 12)"
   ]
  },
  {
   "cell_type": "code",
   "execution_count": 322,
   "metadata": {
    "scrolled": true
   },
   "outputs": [],
   "source": [
    "# 123456789012\n",
    "# I-had-apple   3\n",
    "# had-apple     2\n",
    "# apple-pie-I   3\n",
    "# pie-I-had     3"
   ]
  },
  {
   "cell_type": "code",
   "execution_count": 323,
   "metadata": {},
   "outputs": [
    {
     "data": {
      "text/plain": [
       "66660000"
      ]
     },
     "execution_count": 323,
     "metadata": {},
     "output_type": "execute_result"
    }
   ],
   "source": [
    "Solution().wordsTyping([\"a\", \"bcd\"], 20000, 20000)"
   ]
  },
  {
   "cell_type": "code",
   "execution_count": null,
   "metadata": {
    "collapsed": true
   },
   "outputs": [],
   "source": []
  }
 ],
 "metadata": {
  "kernelspec": {
   "display_name": "Python 3",
   "language": "python",
   "name": "python3"
  },
  "language_info": {
   "codemirror_mode": {
    "name": "ipython",
    "version": 3
   },
   "file_extension": ".py",
   "mimetype": "text/x-python",
   "name": "python",
   "nbconvert_exporter": "python",
   "pygments_lexer": "ipython3",
   "version": "3.5.2"
  }
 },
 "nbformat": 4,
 "nbformat_minor": 2
}

{
 "cells": [
  {
   "cell_type": "code",
   "execution_count": 132,
   "metadata": {
    "collapsed": true
   },
   "outputs": [],
   "source": [
    "# O(n**2)\n",
    "class Solution(object):\n",
    "    def subarraySum(self, nums, k):\n",
    "        \"\"\"\n",
    "        :type nums: List[int]\n",
    "        :type k: int\n",
    "        :rtype: int\n",
    "        \"\"\"\n",
    "\n",
    "        sums = [0] * len(nums)\n",
    "        res = 0\n",
    "        l = 0\n",
    "        s = 0\n",
    "\n",
    "        for i in range(len(nums)):\n",
    "            s += nums[i]\n",
    "            sums[i] = s\n",
    "\n",
    "        for w in range(1, len(nums) + 1):\n",
    "\n",
    "            s = sums[w - 1]\n",
    "\n",
    "            for a in range(w - 1, len(nums)):\n",
    "\n",
    "                if a > w - 1:\n",
    "                    s += nums[a]\n",
    "                    s -= nums[a - w]\n",
    "\n",
    "                if s == k:\n",
    "                    res += 1\n",
    "\n",
    "        return res"
   ]
  },
  {
   "cell_type": "code",
   "execution_count": 175,
   "metadata": {
    "collapsed": true
   },
   "outputs": [],
   "source": [
    "# O(n)\n",
    "from collections import Counter\n",
    "\n",
    "\n",
    "class Solution(object):\n",
    "    def subarraySum(self, nums, k):\n",
    "\n",
    "        s = 0\n",
    "        sums = Counter()\n",
    "        sums[0] = 1\n",
    "        res = 0\n",
    "\n",
    "        for n in nums:\n",
    "            s += n  # s = nums[0..i-1]\n",
    "            # there are sums[x] indices j such as nums[0..j] == x\n",
    "            # nums[0..i-1] - nums[0..j] == nums[j+1..i-1]\n",
    "            # so check if there are prefix subarrays that can be taken out to reach k - sums[s-k]\n",
    "            res += sums[s - k]\n",
    "            sums[s] += 1\n",
    "\n",
    "        return res"
   ]
  },
  {
   "cell_type": "code",
   "execution_count": 176,
   "metadata": {},
   "outputs": [
    {
     "data": {
      "text/plain": [
       "2"
      ]
     },
     "execution_count": 176,
     "metadata": {},
     "output_type": "execute_result"
    }
   ],
   "source": [
    "Solution().subarraySum([1, 2, 3, 4, 5, 6, 7, 8, 9], 5)"
   ]
  },
  {
   "cell_type": "code",
   "execution_count": 177,
   "metadata": {},
   "outputs": [
    {
     "data": {
      "text/plain": [
       "4"
      ]
     },
     "execution_count": 177,
     "metadata": {},
     "output_type": "execute_result"
    }
   ],
   "source": [
    "Solution().subarraySum([0,2,1,1,1], 2)"
   ]
  },
  {
   "cell_type": "code",
   "execution_count": 178,
   "metadata": {},
   "outputs": [
    {
     "data": {
      "text/plain": [
       "1"
      ]
     },
     "execution_count": 178,
     "metadata": {},
     "output_type": "execute_result"
    }
   ],
   "source": [
    "Solution().subarraySum([1,-100,2,3], 3)"
   ]
  },
  {
   "cell_type": "code",
   "execution_count": 179,
   "metadata": {},
   "outputs": [
    {
     "data": {
      "text/plain": [
       "2"
      ]
     },
     "execution_count": 179,
     "metadata": {},
     "output_type": "execute_result"
    }
   ],
   "source": [
    "Solution().subarraySum([1, 1, 1], 2)"
   ]
  }
 ],
 "metadata": {
  "kernelspec": {
   "display_name": "Python 3",
   "language": "python",
   "name": "python3"
  },
  "language_info": {
   "codemirror_mode": {
    "name": "ipython",
    "version": 3
   },
   "file_extension": ".py",
   "mimetype": "text/x-python",
   "name": "python",
   "nbconvert_exporter": "python",
   "pygments_lexer": "ipython3",
   "version": "3.5.2"
  }
 },
 "nbformat": 4,
 "nbformat_minor": 2
}

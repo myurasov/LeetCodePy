{
 "cells": [
  {
   "cell_type": "code",
   "execution_count": 22,
   "metadata": {
    "collapsed": true
   },
   "outputs": [],
   "source": [
    "class Solution(object):\n",
    "    def shortestPalindrome(self, s):\n",
    "        \"\"\"\n",
    "        :type s: str\n",
    "        :rtype: str\n",
    "        \"\"\"\n",
    "\n",
    "        pivot = len(s)\n",
    "        m = -1\n",
    "\n",
    "        while pivot >= 0:\n",
    "\n",
    "            l = s[pivot:]\n",
    "            l = l[::-1]\n",
    "\n",
    "            if self.is_poly(l + s, len(s) - pivot):\n",
    "                return l + s\n",
    "\n",
    "            pivot -= 1\n",
    "\n",
    "    def is_poly(self , s, start=0):\n",
    "        i = 0\n",
    "        for i in range(start, len(s) // 2):\n",
    "            if s[i] != s[-(i + 1)]:\n",
    "                return False\n",
    "        return True"
   ]
  },
  {
   "cell_type": "code",
   "execution_count": null,
   "metadata": {
    "collapsed": true
   },
   "outputs": [],
   "source": [
    "# 2: <shortest_palindrome_from_start> + reversed(<rest>)"
   ]
  },
  {
   "cell_type": "code",
   "execution_count": 153,
   "metadata": {
    "collapsed": true
   },
   "outputs": [],
   "source": [
    "class Solution(object):\n",
    "    \n",
    "\n",
    "    def shortestPalindrome(self, s):\n",
    "        \"\"\"\n",
    "        :type s: str\n",
    "        :rtype: str\n",
    "        \"\"\"\n",
    "\n",
    "        l = self.longest_pal_from_start(s)\n",
    "        r = s[l:]\n",
    "        return r[::-1] + s\n",
    "            \n",
    "    def longest_pal_from_start(self, s):\n",
    "\n",
    "        m = 0\n",
    "        i = 0\n",
    "\n",
    "        while len(s) - i > m:\n",
    "\n",
    "            a = 0\n",
    "            b = len(s) - 1 - i\n",
    "            l = 0\n",
    "\n",
    "            while a <= b:\n",
    "                if s[a] != s[b]:\n",
    "                    b -= 1\n",
    "                    a = 0\n",
    "                    l = 0\n",
    "                else:\n",
    "                    l += 2 if a < b else 1\n",
    "                    a += 1\n",
    "                    b -= 1\n",
    "\n",
    "            m = max(m, l)\n",
    "            i += 1\n",
    "\n",
    "        return m\n",
    "    "
   ]
  },
  {
   "cell_type": "code",
   "execution_count": 181,
   "metadata": {
    "collapsed": true
   },
   "outputs": [],
   "source": [
    "# 3: using table from KMP algorithm\n",
    "# as https://discuss.leetcode.com/topic/14607/python-solution-kmp/2\n",
    "class Solution:\n",
    "    # @param {string} s\n",
    "    # @return {string}\n",
    "    def shortestPalindrome(self, s):\n",
    "        A = s + \"*\" + s[::-1]\n",
    "        cont = [0]\n",
    "        \n",
    "        for i in range(1, len(A)):\n",
    "            index = cont[i - 1]\n",
    "            \n",
    "            while index > 0 and A[index] != A[i]:\n",
    "                index = cont[index - 1]\n",
    "                \n",
    "            cont.append(index + (1 if A[index] == A[i] else 0))\n",
    "            \n",
    "        return s[cont[-1]:][::-1] + s"
   ]
  },
  {
   "cell_type": "code",
   "execution_count": 196,
   "metadata": {
    "collapsed": true
   },
   "outputs": [],
   "source": [
    "# 4: using built-in matching\n",
    "class Solution(object):\n",
    "    def shortestPalindrome(self, s):\n",
    "        reversed_s = s[::-1]\n",
    "        \n",
    "        for i in range(len(s) + 1):\n",
    "            # if s starts with some end part of reversed_s, \n",
    "            # then we have a palindrome at the beginning of s\n",
    "            if (s.startswith(reversed_s[i:])):\n",
    "                # return reversed(<non-pal part at the end of s>) + s\n",
    "                return reversed_s[:i] + s"
   ]
  },
  {
   "cell_type": "code",
   "execution_count": null,
   "metadata": {
    "collapsed": true
   },
   "outputs": [],
   "source": []
  }
 ],
 "metadata": {
  "kernelspec": {
   "display_name": "Python 3",
   "language": "python",
   "name": "python3"
  },
  "language_info": {
   "codemirror_mode": {
    "name": "ipython",
    "version": 3
   },
   "file_extension": ".py",
   "mimetype": "text/x-python",
   "name": "python",
   "nbconvert_exporter": "python",
   "pygments_lexer": "ipython3",
   "version": "3.5.2"
  }
 },
 "nbformat": 4,
 "nbformat_minor": 2
}

{
 "cells": [
  {
   "cell_type": "code",
   "execution_count": 112,
   "metadata": {
    "collapsed": true
   },
   "outputs": [],
   "source": [
    "class MaxHeap():\n",
    "    def __init__(self, data):\n",
    "        self.data = data\n",
    "        self._build_heap()\n",
    "\n",
    "    def _build_heap(self):\n",
    "        # start with one level above leaves\n",
    "        # which already satisfy max-heap prop\n",
    "        for i in reversed(range(len(self.data) // 2)):\n",
    "            self._heapify(i)\n",
    "\n",
    "    def _heapify(self, i):\n",
    "        # indexes of left nad right nodes\n",
    "        l = 2 * (i + 1) - 1\n",
    "        r = 2 * (i + 1)\n",
    "\n",
    "        # index which holds largest key of i, left, right\n",
    "        m = i\n",
    "        if l < len(self.data) and self.data[l] > self.data[i]: m = l\n",
    "        if r < len(self.data) and self.data[r] > self.data[m]: m = r\n",
    "\n",
    "        # swap element at i with largest child\n",
    "        if i != m:\n",
    "            self.data[i], self.data[m] = self.data[m], self.data[i]\n",
    "            # heapify subtree tha we changed\n",
    "            self._heapify(m)\n",
    "            \n",
    "    def get_max(self):\n",
    "        return self.data[0]\n",
    "    \n",
    "    def extract_max(self):\n",
    "        v = self.data.pop(0)\n",
    "        self._heapify(0)\n",
    "        return v\n",
    "    \n",
    "    def insert(self, x):\n",
    "        self.data.append(x)\n",
    "        self._build_heap()\n",
    "        \n",
    "    def set_element(self, i, x):\n",
    "        self.data[i] = x\n",
    "        self._build_heap()"
   ]
  },
  {
   "cell_type": "code",
   "execution_count": 106,
   "metadata": {
    "collapsed": true
   },
   "outputs": [],
   "source": [
    "class Entry():\n",
    "    def __init__(self, val):\n",
    "        self.val = val\n",
    "\n",
    "    def __gt__(e1, e2):\n",
    "        return e1.val > e2.val\n",
    "\n",
    "    def __ge__(e1, e2):\n",
    "        return e1.val >= e2.val\n",
    "\n",
    "    def __eq__(e1, e2):\n",
    "        return e1.val == e2.val\n",
    "    \n",
    "    def __repr__(self):\n",
    "        return str(self.val)"
   ]
  },
  {
   "cell_type": "code",
   "execution_count": 107,
   "metadata": {
    "collapsed": true
   },
   "outputs": [],
   "source": [
    "e1 = Entry(100)\n",
    "e2 = Entry(500)\n",
    "assert (False == (e1 == e2))\n",
    "assert (False == (e1 > e2))\n",
    "assert (False == (e1 >= e2))\n",
    "assert (True == (e1 < e2))"
   ]
  },
  {
   "cell_type": "code",
   "execution_count": null,
   "metadata": {
    "collapsed": true
   },
   "outputs": [],
   "source": [
    "a = [16, 4, 10, 14, 7, 100, 9, 3, 2, 8, 1]\n",
    "a = [Entry(x) for x in a]\n",
    "h = MaxHeap(a)\n",
    "print(h.get_max())\n",
    "print(h.data)\n",
    "print(h.extract_max())\n",
    "print(h.data)\n",
    "print(h.insert(Entry(-10)))\n",
    "print(h.data)"
   ]
  },
  {
   "cell_type": "code",
   "execution_count": 110,
   "metadata": {},
   "outputs": [
    {
     "name": "stdout",
     "output_type": "stream",
     "text": [
      "100\n",
      "[100, 14, 16, 4, 8, 10, 9, 3, 2, 7, 1]\n",
      "100\n",
      "[16, 14, 4, 8, 10, 9, 3, 2, 7, 1]\n",
      "None\n",
      "[16, 14, 9, 8, 10, 4, 3, 2, 7, 1, -10]\n"
     ]
    }
   ],
   "source": [
    "a = [16, 4, 10, 14, 7, 100, 9, 3, 2, 8, 1]\n",
    "a = [Entry(x) for x in a]\n",
    "h = MaxHeap(a)\n",
    "print(h.get_max())\n",
    "print(h.data)\n",
    "print(h.extract_max())\n",
    "print(h.data)\n",
    "print(h.insert(Entry(-10)))\n",
    "print(h.data)"
   ]
  },
  {
   "cell_type": "code",
   "execution_count": 111,
   "metadata": {},
   "outputs": [
    {
     "name": "stdout",
     "output_type": "stream",
     "text": [
      "100\n",
      "[100, 14, 16, 4, 8, 10, 9, 3, 2, 7, 1]\n"
     ]
    }
   ],
   "source": [
    "a = [16, 4, 10, 14, 7, 100, 9, 3, 2, 8, 1]\n",
    "h = MaxHeap(a)\n",
    "print(h.get_max())\n",
    "print(h.data)"
   ]
  }
 ],
 "metadata": {
  "_draft": {
   "nbviewer_url": "https://gist.github.com/dfdb3221bd548e373c770835238c3e2f"
  },
  "gist": {
   "data": {
    "description": "MaxHeap implementation",
    "public": true
   },
   "id": "dfdb3221bd548e373c770835238c3e2f"
  },
  "kernelspec": {
   "display_name": "Python 3",
   "language": "python",
   "name": "python3"
  },
  "language_info": {
   "codemirror_mode": {
    "name": "ipython",
    "version": 3
   },
   "file_extension": ".py",
   "mimetype": "text/x-python",
   "name": "python",
   "nbconvert_exporter": "python",
   "pygments_lexer": "ipython3",
   "version": "3.5.2"
  }
 },
 "nbformat": 4,
 "nbformat_minor": 2
}

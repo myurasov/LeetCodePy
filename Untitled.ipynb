{
 "cells": [
  {
   "cell_type": "code",
   "execution_count": 115,
   "metadata": {
    "collapsed": true
   },
   "outputs": [],
   "source": [
    "from collections import OrderedDict\n",
    "\n",
    "\n",
    "class Solution(object):\n",
    "    def ladderLength(self, beginWord, endWord, wordList):\n",
    "        \"\"\"\n",
    "        :type beginWord: str\n",
    "        :type endWord: str\n",
    "        :type wordList: List[str]\n",
    "        :rtype: int\n",
    "        \"\"\"\n",
    "\n",
    "        self.res = 0\n",
    "        self.endWord = endWord\n",
    "        self.wordList = set(wordList)\n",
    "        self.dfs(beginWord)\n",
    "        return self.res\n",
    "\n",
    "    def dfs(self, root, d=0, path=set()):\n",
    "\n",
    "        if root not in path:\n",
    "\n",
    "            if root == self.endWord:\n",
    "                if self.res == 0: self.res = d + 1\n",
    "                elif self.res > d + 1: self.res = d + 1\n",
    "\n",
    "            children = self.getChildren(root, self.wordList, path)\n",
    "\n",
    "            for c in children:\n",
    "                new_path = path.copy()\n",
    "                new_path.add(root)\n",
    "                self.dfs(c, d + 1, new_path)\n",
    "\n",
    "    def getChildren(self, word, candidates, used):\n",
    "\n",
    "        res = []\n",
    "\n",
    "        for cw in candidates:\n",
    "            if cw in used: continue\n",
    "\n",
    "            diff = 0\n",
    "\n",
    "            for i in range(len(word)):\n",
    "                if word[i] != cw[i]: diff += 1\n",
    "                if diff > 1: break\n",
    "\n",
    "            if diff == 1: res.append(cw)\n",
    "\n",
    "        return res"
   ]
  },
  {
   "cell_type": "code",
   "execution_count": 116,
   "metadata": {},
   "outputs": [
    {
     "name": "stdout",
     "output_type": "stream",
     "text": [
      "5\n"
     ]
    }
   ],
   "source": [
    "r = Solution().ladderLength(\"hit\", \"cog\",\n",
    "                            [\"hot\", \"dot\", \"dog\", \"lot\", \"log\", \"cog\"])\n",
    "print(r)"
   ]
  },
  {
   "cell_type": "code",
   "execution_count": 117,
   "metadata": {},
   "outputs": [
    {
     "name": "stdout",
     "output_type": "stream",
     "text": [
      "0\n"
     ]
    }
   ],
   "source": [
    "r = Solution().ladderLength(\"hit\", \"cog\",\n",
    "                            [\"hot\"])\n",
    "print(r)"
   ]
  },
  {
   "cell_type": "code",
   "execution_count": 118,
   "metadata": {},
   "outputs": [
    {
     "name": "stdout",
     "output_type": "stream",
     "text": [
      "0\n"
     ]
    }
   ],
   "source": [
    "r = Solution().ladderLength(\"hit\", \"cog\", [\"hot\", \"dot\", \"dog\", \"lot\", \"log\"])\n",
    "print(r)"
   ]
  },
  {
   "cell_type": "code",
   "execution_count": 119,
   "metadata": {},
   "outputs": [
    {
     "name": "stdout",
     "output_type": "stream",
     "text": [
      "6\n"
     ]
    }
   ],
   "source": [
    "r = Solution().ladderLength(\"qa\", \"sq\", [\"qr\", \"ar\", \"ad\",\"sd\", \"sq\"])\n",
    "print(r)"
   ]
  },
  {
   "cell_type": "code",
   "execution_count": null,
   "metadata": {},
   "outputs": [],
   "source": [
    "r = Solution().ladderLength(\"qa\", \"sq\", [\n",
    "    \"si\", \"go\", \"se\", \"cm\", \"so\", \"ph\", \"mt\", \"db\", \"mb\", \"sb\", \"kr\", \"ln\",\n",
    "    \"tm\", \"le\", \"av\", \"sm\", \"ar\", \"ci\", \"ca\", \"br\", \"ti\", \"ba\", \"to\", \"ra\",\n",
    "    \"fa\", \"yo\", \"ow\", \"sn\", \"ya\", \"cr\", \"po\", \"fe\", \"ho\", \"ma\", \"re\", \"or\",\n",
    "    \"rn\", \"au\", \"ur\", \"rh\", \"sr\", \"tc\", \"lt\", \"lo\", \"as\", \"fr\", \"nb\", \"yb\",\n",
    "    \"if\", \"pb\", \"ge\", \"th\", \"pm\", \"rb\", \"sh\", \"co\", \"ga\", \"li\", \"ha\", \"hz\",\n",
    "    \"no\", \"bi\", \"di\", \"hi\", \"qa\", \"pi\", \"os\", \"uh\", \"wm\", \"an\", \"me\", \"mo\",\n",
    "    \"na\", \"la\", \"st\", \"er\", \"sc\", \"ne\", \"mn\", \"mi\", \"am\", \"ex\", \"pt\", \"io\",\n",
    "    \"be\", \"fm\", \"ta\", \"tb\", \"ni\", \"mr\", \"pa\", \"he\", \"lr\", \"sq\", \"ye\"\n",
    "])\n",
    "print(r)"
   ]
  },
  {
   "cell_type": "code",
   "execution_count": null,
   "metadata": {
    "collapsed": true
   },
   "outputs": [],
   "source": []
  }
 ],
 "metadata": {
  "kernelspec": {
   "display_name": "Python 3",
   "language": "python",
   "name": "python3"
  },
  "language_info": {
   "codemirror_mode": {
    "name": "ipython",
    "version": 3
   },
   "file_extension": ".py",
   "mimetype": "text/x-python",
   "name": "python",
   "nbconvert_exporter": "python",
   "pygments_lexer": "ipython3",
   "version": "3.5.2"
  }
 },
 "nbformat": 4,
 "nbformat_minor": 2
}

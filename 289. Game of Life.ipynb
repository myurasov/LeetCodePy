{
 "cells": [
  {
   "cell_type": "code",
   "execution_count": null,
   "metadata": {
    "collapsed": true
   },
   "outputs": [],
   "source": [
    "# A B C\n",
    "# D x F\n",
    "# G H I\n",
    "\n",
    "class Solution(object):\n",
    "    def gameOfLife(self, board):\n",
    "        \"\"\"\n",
    "        :type board: List[List[int]]\n",
    "        :rtype: void Do not return anything, modify board in-place instead.\n",
    "        \"\"\"\n",
    "\n",
    "        rows = len(board)\n",
    "        cols = len(board[0])\n",
    "\n",
    "        for r in range(rows):\n",
    "            for c in range(cols):\n",
    "\n",
    "                an = 0  # alive neighbors number\n",
    "\n",
    "                # A\n",
    "                if r > 0 and c > 0 and board[r - 1][c - 1] > 0: an += 1\n",
    "\n",
    "                # B\n",
    "                if r > 0 and board[r - 1][c] > 0: an += 1\n",
    "\n",
    "                # C\n",
    "                if r > 0 and c < cols - 1 and board[r - 1][c + 1] > 0: an += 1\n",
    "\n",
    "                # D\n",
    "                if c > 0 and board[r][c - 1] > 0: an += 1\n",
    "\n",
    "                # F\n",
    "                if c < cols - 1 and board[r][c + 1] > 0: an += 1\n",
    "\n",
    "                # G\n",
    "                if c > 0 and r < rows - 1 and board[r + 1][c - 1] > 0: an += 1\n",
    "\n",
    "                # H\n",
    "                if r < rows - 1 and board[r + 1][c] > 0: an += 1\n",
    "\n",
    "                # I\n",
    "                if c < cols - 1 and r < rows - 1 and board[r + 1][c + 1] > 0:\n",
    "                    an += 1\n",
    "\n",
    "                # live -> dead == 2\n",
    "                # dead -> live == -2\n",
    "\n",
    "                if board[r][c] > 0:\n",
    "                    if an < 2: board[r][c] = 2\n",
    "                    elif an > 3: board[r][c] = 2\n",
    "                else:\n",
    "                    if an == 3: board[r][c] = -2\n",
    "\n",
    "        for r in range(rows):\n",
    "            for c in range(cols):\n",
    "                if 2 == board[r][c]: board[r][c] = 0\n",
    "                elif -2 == board[r][c]: board[r][c] = 1"
   ]
  },
  {
   "cell_type": "code",
   "execution_count": 31,
   "metadata": {
    "collapsed": true
   },
   "outputs": [],
   "source": [
    "b = [\n",
    "    [0,0,0],\n",
    "    [0,1,0],\n",
    "    [0,0,0]\n",
    "]"
   ]
  },
  {
   "cell_type": "code",
   "execution_count": 32,
   "metadata": {},
   "outputs": [
    {
     "data": {
      "text/plain": [
       "[[0, 0, 0], [0, 0, 0], [0, 0, 0]]"
      ]
     },
     "execution_count": 32,
     "metadata": {},
     "output_type": "execute_result"
    }
   ],
   "source": [
    "s = Solution()\n",
    "s.gameOfLife(b)\n",
    "b"
   ]
  }
 ],
 "metadata": {
  "kernelspec": {
   "display_name": "Python 3",
   "language": "python",
   "name": "python3"
  },
  "language_info": {
   "codemirror_mode": {
    "name": "ipython",
    "version": 3
   },
   "file_extension": ".py",
   "mimetype": "text/x-python",
   "name": "python",
   "nbconvert_exporter": "python",
   "pygments_lexer": "ipython3",
   "version": "3.5.2"
  }
 },
 "nbformat": 4,
 "nbformat_minor": 2
}

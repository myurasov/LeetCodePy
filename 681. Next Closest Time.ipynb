{
 "cells": [
  {
   "cell_type": "code",
   "execution_count": 99,
   "metadata": {
    "collapsed": true
   },
   "outputs": [],
   "source": [
    "class Solution(object):\n",
    "    def nextClosestTime(self, time):\n",
    "        \"\"\"\n",
    "        :type time: str\n",
    "        :rtype: str\n",
    "        \"\"\"\n",
    "\n",
    "        hours, mins = map(int, time.split(':'))\n",
    "        digits = set()\n",
    "\n",
    "        # create a set from digits\n",
    "        for c in time:\n",
    "            if ':' != c:\n",
    "                digits.add(c)\n",
    "\n",
    "        # iterate next 24 hrs\n",
    "        for h in range(hours, hours + 24 + 1):\n",
    "\n",
    "            if self._can_be_made('%02d' % (h % 24), digits): # if hours can be made of digits\n",
    "                \n",
    "                for m in range(mins + 1 if h == hours else 0, \\\n",
    "                               mins if h == hours + 24 else 60):\n",
    "                    \n",
    "                    if self._can_be_made('%02d' % (m), digits): # if minutes can be made\n",
    "                        return '%02d:%02d' % (h % 24, m)\n",
    "\n",
    "        # nothing can be found, return time itself   \n",
    "        return time\n",
    "\n",
    "    def _can_be_made(self, s, chars):\n",
    "        for c in s:\n",
    "            if c not in chars:\n",
    "                return False\n",
    "        return True"
   ]
  },
  {
   "cell_type": "code",
   "execution_count": 100,
   "metadata": {},
   "outputs": [
    {
     "data": {
      "text/plain": [
       "'19:39'"
      ]
     },
     "execution_count": 100,
     "metadata": {},
     "output_type": "execute_result"
    }
   ],
   "source": [
    "Solution().nextClosestTime('19:34')"
   ]
  },
  {
   "cell_type": "code",
   "execution_count": 101,
   "metadata": {},
   "outputs": [
    {
     "data": {
      "text/plain": [
       "'22:22'"
      ]
     },
     "execution_count": 101,
     "metadata": {},
     "output_type": "execute_result"
    }
   ],
   "source": [
    "Solution().nextClosestTime('23:59')"
   ]
  },
  {
   "cell_type": "code",
   "execution_count": 102,
   "metadata": {},
   "outputs": [
    {
     "data": {
      "text/plain": [
       "'00:00'"
      ]
     },
     "execution_count": 102,
     "metadata": {},
     "output_type": "execute_result"
    }
   ],
   "source": [
    "Solution().nextClosestTime('00:00')"
   ]
  },
  {
   "cell_type": "code",
   "execution_count": null,
   "metadata": {
    "collapsed": true
   },
   "outputs": [],
   "source": []
  }
 ],
 "metadata": {
  "kernelspec": {
   "display_name": "Python 3",
   "language": "python",
   "name": "python3"
  },
  "language_info": {
   "codemirror_mode": {
    "name": "ipython",
    "version": 3
   },
   "file_extension": ".py",
   "mimetype": "text/x-python",
   "name": "python",
   "nbconvert_exporter": "python",
   "pygments_lexer": "ipython3",
   "version": "3.5.2"
  }
 },
 "nbformat": 4,
 "nbformat_minor": 2
}

{
 "cells": [
  {
   "cell_type": "code",
   "execution_count": 128,
   "metadata": {
    "collapsed": true
   },
   "outputs": [],
   "source": [
    "class Solution(object):\n",
    "    def generateAbbreviations(self, word):\n",
    "        \"\"\"\n",
    "        :type word: str\n",
    "        :rtype: List[str]\n",
    "        \"\"\"\n",
    "\n",
    "        self._res = set()\n",
    "        self._from = set()\n",
    "        self._generateAbbreviations(word)\n",
    "\n",
    "        res = []\n",
    "\n",
    "        # combine strings of 1111 to digits\n",
    "        for w in self._res:\n",
    "\n",
    "            r = ''\n",
    "            n = 0\n",
    "\n",
    "            for i in range(len(w)):\n",
    "                if w[i] == '1':\n",
    "                    n += 1\n",
    "                    if i == len(w) - 1: r += str(n)  # last char is digit\n",
    "                else:\n",
    "                    if n > 0:\n",
    "                        r += str(n)\n",
    "                        n = 0\n",
    "                    r += w[i]\n",
    "\n",
    "            res.append(r)\n",
    "\n",
    "        return res\n",
    "\n",
    "    def _generateAbbreviations(self, word):\n",
    "\n",
    "        if not word in self._res:\n",
    "            self._res.add(word)\n",
    "\n",
    "            for i in range(len(word)):\n",
    "                if word[i] != '1':\n",
    "                    a = word[:i] + '1' + word[i + 1:]\n",
    "                    self._generateAbbreviations(a)"
   ]
  },
  {
   "cell_type": "code",
   "execution_count": 129,
   "metadata": {},
   "outputs": [
    {
     "data": {
      "text/plain": [
       "['1o1d',\n",
       " '1o2',\n",
       " '1or1',\n",
       " '1ord',\n",
       " '2r1',\n",
       " '2rd',\n",
       " '3d',\n",
       " '4',\n",
       " 'w1r1',\n",
       " 'w1rd',\n",
       " 'w2d',\n",
       " 'w3',\n",
       " 'wo1d',\n",
       " 'wo2',\n",
       " 'wor1',\n",
       " 'word']"
      ]
     },
     "execution_count": 129,
     "metadata": {},
     "output_type": "execute_result"
    }
   ],
   "source": [
    "Solution().generateAbbreviations('word')"
   ]
  }
 ],
 "metadata": {
  "kernelspec": {
   "display_name": "Python 3",
   "language": "python",
   "name": "python3"
  },
  "language_info": {
   "codemirror_mode": {
    "name": "ipython",
    "version": 3
   },
   "file_extension": ".py",
   "mimetype": "text/x-python",
   "name": "python",
   "nbconvert_exporter": "python",
   "pygments_lexer": "ipython3",
   "version": "3.5.2"
  }
 },
 "nbformat": 4,
 "nbformat_minor": 2
}

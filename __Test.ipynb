{
 "cells": [
  {
   "cell_type": "code",
   "execution_count": 83,
   "metadata": {
    "collapsed": true
   },
   "outputs": [],
   "source": [
    "%run 'Lib.ipynb'"
   ]
  },
  {
   "cell_type": "code",
   "execution_count": 225,
   "metadata": {
    "collapsed": true
   },
   "outputs": [],
   "source": [
    "class Solution(object):\n",
    "    def findPeakElement(self, nums):\n",
    "        \"\"\"\n",
    "        :type nums: List[int]\n",
    "        :rtype: int\n",
    "        \"\"\"\n",
    "\n",
    "        mi = 0\n",
    "        ma = len(nums) - 1\n",
    "\n",
    "        while mi <= ma:\n",
    "\n",
    "            # nowhere to go\n",
    "            if mi == ma: return mi\n",
    "\n",
    "            c = (mi + ma) // 2\n",
    "\n",
    "            # peak found\n",
    "            if mi == ma or nums[c - 1] < nums[c] > nums[c + 1]: return c\n",
    "\n",
    "            # find which part goes up the slope\n",
    "            if nums[c] < nums[c + 1]:\n",
    "                mi = c + 1\n",
    "            else:\n",
    "                ma = c - 1\n",
    "\n",
    "s = Solution()\n",
    "s.findPeakElement([3,4,3,2,1])\n",
    "\n",
    "s = Solution()\n",
    "s.findPeakElement([1, 2, 3, 1])\n",
    "\n",
    "s = Solution()\n",
    "s.findPeakElement([1, 2, 3])\n",
    "\n",
    "s = Solution()\n",
    "s.findPeakElement([1, 2, 3, 2])\n",
    "\n",
    "s = Solution()\n",
    "s.findPeakElement([1, 2])\n",
    "\n",
    "s = Solution()\n",
    "s.findPeakElement([3,2,1])"
   ]
  }
 ],
 "metadata": {
  "kernelspec": {
   "display_name": "Python 3",
   "language": "python",
   "name": "python3"
  },
  "language_info": {
   "codemirror_mode": {
    "name": "ipython",
    "version": 3
   },
   "file_extension": ".py",
   "mimetype": "text/x-python",
   "name": "python",
   "nbconvert_exporter": "python",
   "pygments_lexer": "ipython3",
   "version": "3.5.2"
  }
 },
 "nbformat": 4,
 "nbformat_minor": 2
}

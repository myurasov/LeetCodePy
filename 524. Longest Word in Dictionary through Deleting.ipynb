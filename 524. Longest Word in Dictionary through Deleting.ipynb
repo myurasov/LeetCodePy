{
 "cells": [
  {
   "cell_type": "code",
   "execution_count": 80,
   "metadata": {},
   "outputs": [],
   "source": [
    "class Solution(object):\n",
    "    def findLongestWord(self, s, d):\n",
    "        \"\"\"\n",
    "        :type s: str\n",
    "        :type d: List[str]\n",
    "        :rtype: str\n",
    "        \"\"\"\n",
    "        \n",
    "        \n",
    "        d = sorted(d) # to ensure lexicographical order on same-length words\n",
    "        res = ''\n",
    "\n",
    "        for word in d:\n",
    "            if len(word) > len(res) and self.canConstruct(s, word):\n",
    "                res = word\n",
    "\n",
    "        return res\n",
    "\n",
    "    def canConstruct(self, s, w):\n",
    "\n",
    "        wi, si = 0, 0\n",
    "\n",
    "        # go until reaching end of word or toom little chars left in s\n",
    "        while wi < len(w) and si < len(s) - len(w) + wi + 1:\n",
    "\n",
    "            if w[wi] == s[si]:\n",
    "                wi += 1\n",
    "\n",
    "            si += 1\n",
    "\n",
    "        return 0 == len(w) - wi"
   ]
  },
  {
   "cell_type": "code",
   "execution_count": 82,
   "metadata": {},
   "outputs": [
    {
     "data": {
      "text/plain": [
       "'apple'"
      ]
     },
     "execution_count": 82,
     "metadata": {},
     "output_type": "execute_result"
    }
   ],
   "source": [
    "Solution().findLongestWord(s = \"abpcplea\", d = [\"ale\",\"apple\",\"monkey\",\"plea\"])"
   ]
  },
  {
   "cell_type": "code",
   "execution_count": 83,
   "metadata": {},
   "outputs": [
    {
     "data": {
      "text/plain": [
       "'a'"
      ]
     },
     "execution_count": 83,
     "metadata": {},
     "output_type": "execute_result"
    }
   ],
   "source": [
    "Solution().findLongestWord(s = \"abpcplea\", d = [\"a\",\"b\",\"c\"])"
   ]
  },
  {
   "cell_type": "code",
   "execution_count": 84,
   "metadata": {},
   "outputs": [
    {
     "data": {
      "text/plain": [
       "'ab'"
      ]
     },
     "execution_count": 84,
     "metadata": {},
     "output_type": "execute_result"
    }
   ],
   "source": [
    "Solution().findLongestWord(\"bab\", [\"ba\",\"ab\",\"a\",\"b\"]) # ab"
   ]
  },
  {
   "cell_type": "code",
   "execution_count": null,
   "metadata": {
    "collapsed": true
   },
   "outputs": [],
   "source": []
  }
 ],
 "metadata": {
  "kernelspec": {
   "display_name": "Python 3",
   "language": "python",
   "name": "python3"
  },
  "language_info": {
   "codemirror_mode": {
    "name": "ipython",
    "version": 3
   },
   "file_extension": ".py",
   "mimetype": "text/x-python",
   "name": "python",
   "nbconvert_exporter": "python",
   "pygments_lexer": "ipython3",
   "version": "3.5.2"
  }
 },
 "nbformat": 4,
 "nbformat_minor": 2
}

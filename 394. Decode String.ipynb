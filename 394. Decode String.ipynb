{
 "cells": [
  {
   "cell_type": "code",
   "execution_count": 81,
   "metadata": {
    "collapsed": true
   },
   "outputs": [],
   "source": [
    "class Solution(object):\n",
    "    def decodeString(self, s):\n",
    "        \"\"\"\n",
    "        :type s: str\n",
    "        :rtype: str\n",
    "        \"\"\"\n",
    "\n",
    "        n = 0  # # of repeats\n",
    "        f = ''  # current fragment\n",
    "        i = 0\n",
    "\n",
    "        while i < len(s):\n",
    "\n",
    "            c = s[i]\n",
    "\n",
    "            if c.isdigit():\n",
    "                n = n * 10 + int(c)\n",
    "            elif '[' == c:\n",
    "                # decode subpattern and jump forward for it's length\n",
    "                a, j = self.decodeString(s[i + 1:])\n",
    "                i += j + 1\n",
    "                f += a * n\n",
    "                n = 0\n",
    "            elif ']' == c:\n",
    "                return f, i # return fragment, length of string that produced it\n",
    "            else:\n",
    "                f += c\n",
    "\n",
    "            i += 1\n",
    "\n",
    "        return f"
   ]
  },
  {
   "cell_type": "code",
   "execution_count": 82,
   "metadata": {
    "scrolled": true
   },
   "outputs": [],
   "source": [
    "assert Solution().decodeString('2[abc3[cd]ef]zy') == 'abccdcdcdefabccdcdcdefzy'\n",
    "assert Solution().decodeString('3[a]2[bc5[a]]') == 'aaabcaaaaabcaaaaa'\n",
    "assert Solution().decodeString('3[a2[c]aa]') == 'accaaaccaaaccaa'"
   ]
  },
  {
   "cell_type": "code",
   "execution_count": null,
   "metadata": {
    "collapsed": true
   },
   "outputs": [],
   "source": []
  }
 ],
 "metadata": {
  "kernelspec": {
   "display_name": "Python 3",
   "language": "python",
   "name": "python3"
  },
  "language_info": {
   "codemirror_mode": {
    "name": "ipython",
    "version": 3
   },
   "file_extension": ".py",
   "mimetype": "text/x-python",
   "name": "python",
   "nbconvert_exporter": "python",
   "pygments_lexer": "ipython3",
   "version": "3.5.2"
  }
 },
 "nbformat": 4,
 "nbformat_minor": 2
}

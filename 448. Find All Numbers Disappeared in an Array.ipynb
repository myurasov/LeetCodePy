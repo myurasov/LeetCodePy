{
 "cells": [
  {
   "cell_type": "code",
   "execution_count": 72,
   "metadata": {
    "collapsed": true
   },
   "outputs": [],
   "source": [
    "class Solution(object):\n",
    "    def findDisappearedNumbers(self, nums):\n",
    "\n",
    "        ints = list(range(1, 1 + len(nums)))\n",
    "\n",
    "        for i in nums:\n",
    "            ints[i - 1] = -1\n",
    "        \n",
    "        return [x for x in ints if x > -1]"
   ]
  },
  {
   "cell_type": "code",
   "execution_count": 103,
   "metadata": {
    "collapsed": true
   },
   "outputs": [],
   "source": [
    "# #2 - use original array for storage\n",
    "\n",
    "class Solution(object):\n",
    "    def findDisappearedNumbers(self, d):\n",
    "\n",
    "        r = []\n",
    "\n",
    "        for i in range(len(d)):\n",
    "            mi = abs(d[i]) - 1\n",
    "\n",
    "            # mark n at position d[i]-1 as negative\n",
    "            if d[mi] > 0:\n",
    "                d[mi] *= -1\n",
    "\n",
    "        # find non-marked positions\n",
    "        for i in range(len(d)):\n",
    "            if d[i] > 0:\n",
    "                r.append(i + 1)\n",
    "\n",
    "        return r"
   ]
  },
  {
   "cell_type": "code",
   "execution_count": 104,
   "metadata": {},
   "outputs": [
    {
     "data": {
      "text/plain": [
       "[5, 6]"
      ]
     },
     "execution_count": 104,
     "metadata": {},
     "output_type": "execute_result"
    }
   ],
   "source": [
    "s = Solution()\n",
    "s.findDisappearedNumbers([4,3,2,7,8,2,3,1])\n"
   ]
  },
  {
   "cell_type": "code",
   "execution_count": 85,
   "metadata": {
    "collapsed": true
   },
   "outputs": [],
   "source": [
    "d = [4,3,2,7,8,2,3,1]\n",
    "dd = list(d)\n",
    "\n",
    "for i in range(len(d)):\n",
    "    d[i-1] *= -1"
   ]
  },
  {
   "cell_type": "code",
   "execution_count": 86,
   "metadata": {},
   "outputs": [
    {
     "data": {
      "text/plain": [
       "([-4, -3, -2, -7, -8, -2, -3, -1], [4, 3, 2, 7, 8, 2, 3, 1])"
      ]
     },
     "execution_count": 86,
     "metadata": {},
     "output_type": "execute_result"
    }
   ],
   "source": [
    "d, dd"
   ]
  },
  {
   "cell_type": "code",
   "execution_count": null,
   "metadata": {
    "collapsed": true
   },
   "outputs": [],
   "source": [
    "    if (nums == null)\n",
    "        return result;\n",
    "    for (int i = 0; i < nums.length; i++){\n",
    "        int mapIndex = Math.abs(nums[i]) - 1;\n",
    "        nums[mapIndex] = nums[mapIndex] > 0 ? -nums[mapIndex] : nums[mapIndex];\n",
    "    }\n",
    "    \n",
    "    for (int i = 0; i < nums.length; i++){\n",
    "        if(nums[i] > 0){\n",
    "            result.add(i+1);\n",
    "        } else {\n",
    "            nums[i] = -nums[i]; // restore the input\n",
    "        }\n",
    "    }\n",
    "    \n",
    "    return result;"
   ]
  },
  {
   "cell_type": "code",
   "execution_count": 95,
   "metadata": {
    "collapsed": true
   },
   "outputs": [],
   "source": [
    "d = [4,3,2,7,8,2,3,1]\n",
    "\n",
    "for i in range(len(d)):\n",
    "    mi = abs(d[i]) - 1\n",
    "    \n",
    "    # mark n at position d[i]-1 as negative\n",
    "    if d[mi] > 0:\n",
    "        d[mi] *= -1\n",
    "    \n",
    "    # find nin-marked positions\n",
    "    for i in range(len(d)):\n",
    "        if d[i] > 0:\n",
    "            r.append(i+1)"
   ]
  },
  {
   "cell_type": "code",
   "execution_count": 96,
   "metadata": {},
   "outputs": [
    {
     "data": {
      "text/plain": [
       "[-4, -3, -2, -7, 8, 2, -3, -1]"
      ]
     },
     "execution_count": 96,
     "metadata": {},
     "output_type": "execute_result"
    }
   ],
   "source": [
    "d"
   ]
  },
  {
   "cell_type": "code",
   "execution_count": 97,
   "metadata": {
    "collapsed": true
   },
   "outputs": [],
   "source": [
    "r = []\n",
    "\n",
    "for i in range(len(d)):\n",
    "    if d[i] > 0:\n",
    "        r.append(i+1)"
   ]
  },
  {
   "cell_type": "code",
   "execution_count": 98,
   "metadata": {},
   "outputs": [
    {
     "data": {
      "text/plain": [
       "[4, 3, 2, 7, 8, 2, 3, 1]"
      ]
     },
     "execution_count": 98,
     "metadata": {},
     "output_type": "execute_result"
    }
   ],
   "source": [
    "d"
   ]
  },
  {
   "cell_type": "code",
   "execution_count": 99,
   "metadata": {},
   "outputs": [
    {
     "data": {
      "text/plain": [
       "[5, 6]"
      ]
     },
     "execution_count": 99,
     "metadata": {},
     "output_type": "execute_result"
    }
   ],
   "source": [
    "r"
   ]
  },
  {
   "cell_type": "code",
   "execution_count": null,
   "metadata": {
    "collapsed": true
   },
   "outputs": [],
   "source": []
  }
 ],
 "metadata": {
  "kernelspec": {
   "display_name": "Python 3",
   "language": "python",
   "name": "python3"
  },
  "language_info": {
   "codemirror_mode": {
    "name": "ipython",
    "version": 3
   },
   "file_extension": ".py",
   "mimetype": "text/x-python",
   "name": "python",
   "nbconvert_exporter": "python",
   "pygments_lexer": "ipython3",
   "version": "3.5.2"
  }
 },
 "nbformat": 4,
 "nbformat_minor": 2
}

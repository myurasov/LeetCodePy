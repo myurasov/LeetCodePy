{
 "cells": [
  {
   "cell_type": "code",
   "execution_count": null,
   "metadata": {
    "collapsed": true
   },
   "outputs": [],
   "source": [
    "# Given a / b = 2.0, b / c = 3.0. \n",
    "# queries are: a / c = ?, b / a = ?, a / e = ?, a / a = ?, x / x = ? . \n",
    "# return [6.0, 0.5, -1.0, 1.0, -1.0 ]."
   ]
  },
  {
   "cell_type": "code",
   "execution_count": 133,
   "metadata": {
    "collapsed": true
   },
   "outputs": [],
   "source": [
    "from collections import defaultdict\n",
    "\n",
    "\n",
    "class Solution(object):\n",
    "    def calcEquation(self, equations, values, queries):\n",
    "        \"\"\"\n",
    "        :type equations: List[List[str]]\n",
    "        :type values: List[float]\n",
    "        :type queries: List[List[str]]\n",
    "        :rtype: List[float]\n",
    "        \"\"\"\n",
    "\n",
    "        edges = defaultdict(list)\n",
    "\n",
    "        # create graph where nodeas are a, b, c\n",
    "        # and edges are resullts of division of nodes\n",
    "        # a/c == (a/b)*(b/c)\n",
    "        for e, v in zip(equations, values):\n",
    "            a, b = e[0], e[1]\n",
    "            edges[a].append({'to': b, 'val': v})  # a->b\n",
    "            edges[b].append({'to': a, 'val': 1 / v})  # a<-b\n",
    "\n",
    "        res = []\n",
    "\n",
    "        for q in queries:\n",
    "\n",
    "            if q[0] in edges and q[1] in edges:\n",
    "\n",
    "                if q[0] == q[1]:\n",
    "                    res.append(1.)\n",
    "                else:\n",
    "                    # search relatin in graph\n",
    "                    self.visitedNodes = set()\n",
    "                    self.result = -1.\n",
    "                    self.findPath(edges, q[0], q[1])\n",
    "                    res.append(self.result)\n",
    "\n",
    "            else:\n",
    "                res.append(-1.)\n",
    "\n",
    "        return res\n",
    "\n",
    "    def findPath(self, edges, n1, n2, m=1.):\n",
    "\n",
    "        if not n1 in self.visitedNodes:\n",
    "            self.visitedNodes.add(n1)\n",
    "\n",
    "            for e in edges[n1]:\n",
    "\n",
    "                if e['to'] == n2:\n",
    "                    self.result = m * e['val']\n",
    "                    break\n",
    "\n",
    "                self.findPath(edges, e['to'], n2, m * e['val'])"
   ]
  },
  {
   "cell_type": "code",
   "execution_count": 134,
   "metadata": {},
   "outputs": [
    {
     "data": {
      "text/plain": [
       "[6.0]"
      ]
     },
     "execution_count": 134,
     "metadata": {},
     "output_type": "execute_result"
    }
   ],
   "source": [
    "Solution().calcEquation(\n",
    "    equations=[[\"a\", \"b\"], [\"b\", \"c\"]],\n",
    "    values=[2., 3.],\n",
    "    queries=[[\"a\", \"c\"]])"
   ]
  },
  {
   "cell_type": "code",
   "execution_count": 135,
   "metadata": {},
   "outputs": [
    {
     "data": {
      "text/plain": [
       "[6.0, 0.5, -1.0, 1.0, -1.0]"
      ]
     },
     "execution_count": 135,
     "metadata": {},
     "output_type": "execute_result"
    }
   ],
   "source": [
    "Solution().calcEquation(\n",
    "    equations=[[\"a\", \"b\"], [\"b\", \"c\"]],\n",
    "    values=[2., 3.],\n",
    "    queries=[[\"a\", \"c\"], [\"b\", \"a\"], [\"a\", \"e\"], [\"a\", \"a\"], [\"x\", \"x\"]])"
   ]
  }
 ],
 "metadata": {
  "kernelspec": {
   "display_name": "Python 3",
   "language": "python",
   "name": "python3"
  },
  "language_info": {
   "codemirror_mode": {
    "name": "ipython",
    "version": 3
   },
   "file_extension": ".py",
   "mimetype": "text/x-python",
   "name": "python",
   "nbconvert_exporter": "python",
   "pygments_lexer": "ipython3",
   "version": "3.5.2"
  }
 },
 "nbformat": 4,
 "nbformat_minor": 2
}

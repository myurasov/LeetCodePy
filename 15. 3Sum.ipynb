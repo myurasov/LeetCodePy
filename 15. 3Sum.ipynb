{
 "cells": [
  {
   "cell_type": "code",
   "execution_count": 54,
   "metadata": {},
   "outputs": [],
   "source": [
    "class Solution(object):\n",
    "    def threeSum(self, nums):\n",
    "        \"\"\"\n",
    "        :type nums: List[int]\n",
    "        :rtype: List[List[int]]\n",
    "        \"\"\"\n",
    "\n",
    "        d = {}\n",
    "        for i, x in enumerate(nums):\n",
    "            if x not in d: d[x] = set()\n",
    "            d[x].add(i)\n",
    "\n",
    "        r = set()\n",
    "\n",
    "        def _join(nums):\n",
    "            return ':'.join(map(str, sorted(nums)))\n",
    "\n",
    "        def _split(s):\n",
    "            return list(map(int, s.split(':')))\n",
    "\n",
    "        for i in range(len(nums)):\n",
    "            for j in range(i + 1, len(nums)):\n",
    "                t = 0 - nums[i] - nums[j]\n",
    "                if t in d:\n",
    "                    for k in d[t]:\n",
    "                        if k != i and k != j:\n",
    "                            r.add(_join([nums[i], nums[j], nums[k]]))\n",
    "\n",
    "        return [_split(x) for x in r]"
   ]
  },
  {
   "cell_type": "code",
   "execution_count": 55,
   "metadata": {},
   "outputs": [
    {
     "data": {
      "text/plain": [
       "[[-1, -1, 2], [-1, 0, 1]]"
      ]
     },
     "execution_count": 55,
     "metadata": {},
     "output_type": "execute_result"
    }
   ],
   "source": [
    "Solution().threeSum([-1, 0, 1, 2, -1, -4])"
   ]
  },
  {
   "cell_type": "code",
   "execution_count": 72,
   "metadata": {},
   "outputs": [
    {
     "data": {
      "text/plain": [
       "[[-1, -1, 2], [-1, 0, 1]]"
      ]
     },
     "execution_count": 72,
     "metadata": {},
     "output_type": "execute_result"
    }
   ],
   "source": [
    "class Solution(object):\n",
    "    def threeSum(self, nums):\n",
    "        \"\"\"\n",
    "        :type nums: List[int]\n",
    "        :rtype: List[List[int]]\n",
    "        \"\"\"\n",
    "\n",
    "        nums.sort()\n",
    "        r = set()\n",
    "        \n",
    "        def _join(nums):\n",
    "            return ':'.join(map(str, sorted(nums)))\n",
    "\n",
    "        def _split(s):\n",
    "            return list(map(int, s.split(':')))\n",
    "\n",
    "        for i in range(len(nums)-2):\n",
    "\n",
    "            target = 0 - nums[i]\n",
    "            left = i + 1\n",
    "            right = len(nums) - 1\n",
    "\n",
    "            while left < right:\n",
    "\n",
    "                if nums[left] + nums[right] == target:\n",
    "                    r.add(_join([nums[i], nums[left], nums[right]]))\n",
    "\n",
    "                    # skip same numbers\n",
    "                    while left < right and nums[left] == nums[left + 1]:\n",
    "                        left += 1\n",
    "                    while left < right and nums[right] == nums[right - 1]:\n",
    "                        right -= 1\n",
    "\n",
    "                    left += 1\n",
    "                    right -= 1\n",
    "                elif nums[left] + nums[right] < target:\n",
    "                    left += 1\n",
    "                else:\n",
    "                    right -= 1\n",
    "\n",
    "                # skip same nums\n",
    "                while i < len(nums) - 1 and nums[i] == nums[i + 1]:\n",
    "                    i += 1\n",
    "                    \n",
    "        return [_split(x) for x in r]\n",
    "\n",
    "Solution().threeSum([-1, 0, 1, 2, -1, -4])"
   ]
  },
  {
   "cell_type": "code",
   "execution_count": 74,
   "metadata": {},
   "outputs": [
    {
     "data": {
      "text/plain": [
       "[[-1, -1, 2], [-1, 0, 1]]"
      ]
     },
     "execution_count": 74,
     "metadata": {},
     "output_type": "execute_result"
    }
   ],
   "source": [
    "class Solution(object):\n",
    "    def threeSum(self, nums):\n",
    "        res = []\n",
    "        nums.sort()\n",
    "        for i in range(len(nums) - 2):\n",
    "\n",
    "            if i > 0 and nums[i] == nums[i - 1]:\n",
    "                continue\n",
    "                \n",
    "            l, r = i + 1, len(nums) - 1\n",
    "            \n",
    "            while l < r:\n",
    "                \n",
    "                s = nums[i] + nums[l] + nums[r]\n",
    "                \n",
    "                if s < 0:\n",
    "                    l += 1\n",
    "                elif s > 0:\n",
    "                    r -= 1\n",
    "                else:\n",
    "                    res.append([nums[i], nums[l], nums[r]])\n",
    "                    while l < r and nums[l] == nums[l + 1]:\n",
    "                        l += 1\n",
    "                    while l < r and nums[r] == nums[r - 1]:\n",
    "                        r -= 1\n",
    "                    l += 1\n",
    "                    r -= 1\n",
    "        return res\n",
    "\n",
    "\n",
    "Solution().threeSum([-1, 0, 1, 2, -1, -4])"
   ]
  },
  {
   "cell_type": "code",
   "execution_count": null,
   "metadata": {},
   "outputs": [],
   "source": []
  }
 ],
 "metadata": {
  "kernelspec": {
   "display_name": "Python 3",
   "language": "python",
   "name": "python3"
  },
  "language_info": {
   "codemirror_mode": {
    "name": "ipython",
    "version": 3
   },
   "file_extension": ".py",
   "mimetype": "text/x-python",
   "name": "python",
   "nbconvert_exporter": "python",
   "pygments_lexer": "ipython3",
   "version": "3.5.2"
  }
 },
 "nbformat": 4,
 "nbformat_minor": 2
}

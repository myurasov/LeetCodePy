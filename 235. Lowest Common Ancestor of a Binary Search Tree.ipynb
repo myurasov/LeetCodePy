{
 "cells": [
  {
   "cell_type": "code",
   "execution_count": null,
   "metadata": {},
   "outputs": [],
   "source": [
    "# Definition for a binary tree node.\n",
    "# class TreeNode(object):\n",
    "#     def __init__(self, x):\n",
    "#         self.val = x\n",
    "#         self.left = None\n",
    "#         self.right = None\n",
    "\n",
    "# walk down from the whole tree's root as long as\n",
    "# both p and q are in the same subtree\n",
    "# (meaning their values are both smaller or both larger than root's)\n",
    "\n",
    "\n",
    "class Solution(object):\n",
    "    def lowestCommonAncestor(self, root, p, q):\n",
    "        while (root.val < p.val and root.val < q.val) or \\\n",
    "            (root.val > p.val and root.val > q.val):\n",
    "\n",
    "            if p.val > root.val:\n",
    "                root = root.right\n",
    "            else:\n",
    "                root = root.left\n",
    "\n",
    "        return root"
   ]
  }
 ],
 "metadata": {
  "kernelspec": {
   "display_name": "Python 3",
   "language": "python",
   "name": "python3"
  },
  "language_info": {
   "codemirror_mode": {
    "name": "ipython",
    "version": 3
   },
   "file_extension": ".py",
   "mimetype": "text/x-python",
   "name": "python",
   "nbconvert_exporter": "python",
   "pygments_lexer": "ipython3",
   "version": "3.5.2"
  }
 },
 "nbformat": 4,
 "nbformat_minor": 2
}

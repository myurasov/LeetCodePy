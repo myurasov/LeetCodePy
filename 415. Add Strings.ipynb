{
 "cells": [
  {
   "cell_type": "code",
   "execution_count": 48,
   "metadata": {},
   "outputs": [],
   "source": [
    "class Solution(object):\n",
    "    def addStrings(self, num1, num2):\n",
    "        \"\"\"\n",
    "        :type num1: str\n",
    "        :type num2: str\n",
    "        :rtype: str\n",
    "        \"\"\"\n",
    "\n",
    "        res = ''\n",
    "        carry = 0\n",
    "\n",
    "        for i in range(max(len(num1), len(num2))):\n",
    "            d1 = int(num1[-i - 1]) if i < len(num1) else 0\n",
    "            d2 = int(num2[-i - 1]) if i < len(num2) else 0\n",
    "\n",
    "            res = str((d1 + d2 + carry) % 10) + res\n",
    "            carry = (d1 + d2 + carry) // 10\n",
    "\n",
    "        if carry: res = '1' + res\n",
    "\n",
    "        return res"
   ]
  },
  {
   "cell_type": "code",
   "execution_count": 49,
   "metadata": {},
   "outputs": [
    {
     "data": {
      "text/plain": [
       "'991245'"
      ]
     },
     "execution_count": 49,
     "metadata": {},
     "output_type": "execute_result"
    }
   ],
   "source": [
    "Solution().addStrings('12345','978900')"
   ]
  }
 ],
 "metadata": {
  "kernelspec": {
   "display_name": "Python 3",
   "language": "python",
   "name": "python3"
  },
  "language_info": {
   "codemirror_mode": {
    "name": "ipython",
    "version": 3
   },
   "file_extension": ".py",
   "mimetype": "text/x-python",
   "name": "python",
   "nbconvert_exporter": "python",
   "pygments_lexer": "ipython3",
   "version": "3.5.2"
  }
 },
 "nbformat": 4,
 "nbformat_minor": 2
}

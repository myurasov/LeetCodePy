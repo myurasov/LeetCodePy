{
 "cells": [
  {
   "cell_type": "code",
   "execution_count": 85,
   "metadata": {
    "collapsed": true
   },
   "outputs": [],
   "source": [
    "ALPHABET = '0123456789ABCDEFGHIJKLMNOPQRSTUVWXYZabcdefghijklmnopqrstuvwxyz'\n",
    "START_LEN = 3\n",
    "MAX_ATTEMPTS = 1000\n",
    "\n",
    "import random\n",
    "\n",
    "\n",
    "class Codec:\n",
    "    def __init__(self):\n",
    "        self.codes2urls = {}\n",
    "        self.urls2codes = {}\n",
    "\n",
    "    def encode(self, longUrl):\n",
    "        \"\"\"Encodes a URL to a shortened URL.\n",
    "        \n",
    "        :type longUrl: str\n",
    "        :rtype: str\n",
    "        \"\"\"\n",
    "\n",
    "        if longUrl in self.urls2codes:\n",
    "            return self.urls2codes[longUrl]\n",
    "\n",
    "        l = START_LEN\n",
    "\n",
    "        while True:\n",
    "\n",
    "            attempts = 0\n",
    "\n",
    "            while attempts < MAX_ATTEMPTS:\n",
    "                res = ''\n",
    "                attempts += 1\n",
    "\n",
    "                for i in range(l):\n",
    "                    res += ALPHABET[random.randint(0, len(ALPHABET) - 1)]\n",
    "\n",
    "                if not res in self.codes2urls:\n",
    "                    self.codes2urls[res] = longUrl\n",
    "                    self.urls2codes[longUrl] = res\n",
    "                    return 'http://tinyurl.com/' + res\n",
    "\n",
    "            l += 1\n",
    "\n",
    "    def decode(self, shortUrl):\n",
    "        \"\"\"Decodes a shortened URL to its original URL.\n",
    "        \n",
    "        :type shortUrl: str\n",
    "        :rtype: str\n",
    "        \"\"\"\n",
    "\n",
    "        code = shortUrl.split('/')[-1]\n",
    "\n",
    "        if code in self.codes2urls:\n",
    "            return self.codes2urls[code]\n",
    "\n",
    "        raise ValueError('Short url doesn\\'t exist')\n",
    "\n",
    "\n",
    "# Your Codec object will be instantiated and called as such:\n",
    "# codec = Codec()\n",
    "# codec.decode(codec.encode(url))"
   ]
  },
  {
   "cell_type": "code",
   "execution_count": 86,
   "metadata": {
    "collapsed": true
   },
   "outputs": [],
   "source": [
    "c = Codec()"
   ]
  },
  {
   "cell_type": "code",
   "execution_count": 87,
   "metadata": {},
   "outputs": [
    {
     "data": {
      "text/plain": [
       "'http://tinyurl.com/cbK'"
      ]
     },
     "execution_count": 87,
     "metadata": {},
     "output_type": "execute_result"
    }
   ],
   "source": [
    "c.encode('aaa')"
   ]
  },
  {
   "cell_type": "code",
   "execution_count": 89,
   "metadata": {},
   "outputs": [
    {
     "data": {
      "text/plain": [
       "'aaa'"
      ]
     },
     "execution_count": 89,
     "metadata": {},
     "output_type": "execute_result"
    }
   ],
   "source": [
    "c.decode('cbK')"
   ]
  },
  {
   "cell_type": "code",
   "execution_count": null,
   "metadata": {
    "collapsed": true
   },
   "outputs": [],
   "source": []
  }
 ],
 "metadata": {
  "kernelspec": {
   "display_name": "Python 3",
   "language": "python",
   "name": "python3"
  },
  "language_info": {
   "codemirror_mode": {
    "name": "ipython",
    "version": 3
   },
   "file_extension": ".py",
   "mimetype": "text/x-python",
   "name": "python",
   "nbconvert_exporter": "python",
   "pygments_lexer": "ipython3",
   "version": "3.5.2"
  }
 },
 "nbformat": 4,
 "nbformat_minor": 2
}

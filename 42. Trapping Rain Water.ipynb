{
 "cells": [
  {
   "cell_type": "code",
   "execution_count": 152,
   "metadata": {},
   "outputs": [],
   "source": [
    "def draw(rocks):\n",
    "    m = max(rocks)\n",
    "    b = []\n",
    "    \n",
    "    for c in range(m): b.append(['∙'] * len(rocks))\n",
    "    \n",
    "    \n",
    "    for c in range(len(rocks)):\n",
    "        for r in range(rocks[c]):\n",
    "            b[m-r-1][c]='#'\n",
    "\n",
    "    for row in b:\n",
    "        print(''.join(row))"
   ]
  },
  {
   "cell_type": "code",
   "execution_count": 157,
   "metadata": {
    "collapsed": true
   },
   "outputs": [],
   "source": [
    "# 1: with minheap, counting water between two highest peaks\n",
    "\n",
    "from heapq import *\n",
    "\n",
    "\n",
    "class Solution(object):\n",
    "    def trap(self, height):\n",
    "        \"\"\"\n",
    "        :type height: List[int]\n",
    "        :rtype: int\n",
    "        \"\"\"\n",
    "        \n",
    "#         draw(height)\n",
    "\n",
    "        # find peaks\n",
    "\n",
    "        height = [-1] + height + [-1]\n",
    "        peaks = []  # minheap [(-height, index)...]\n",
    "        i = 1\n",
    "\n",
    "        while i < len(height) - 1:\n",
    "            if height[i - 1] < height[i]:\n",
    "                while i < len(height) - 1:\n",
    "                    if height[i] > height[i + 1]:\n",
    "                        peaks.append((-height[i], i))\n",
    "                        break\n",
    "                    i += 1\n",
    "            i += 1\n",
    "\n",
    "        heapify(peaks)\n",
    "\n",
    "        # go between highest peaks\n",
    "\n",
    "        under_water = [False] * len(height)\n",
    "        res = 0\n",
    "\n",
    "        while len(peaks) > 1:\n",
    "            peak1 = heappop(peaks)\n",
    "\n",
    "            # skip under_water ones\n",
    "            while peaks and under_water[peaks[0][1]]:\n",
    "                heappop(peaks)\n",
    "\n",
    "            if not peaks: break # no peak pairs left\n",
    "            peak2 = peaks[0]\n",
    "\n",
    "            water_level = min(-peak1[0], -peak2[0])\n",
    "\n",
    "            # peak1 should be to the left\n",
    "            if peak1[1] > peak2[1]: peak1, peak2 = peak2, peak1\n",
    "\n",
    "            # compute water between otow peaks\n",
    "            water = 0\n",
    "            for i in range(1 + peak1[1], peak2[1]):\n",
    "                if not under_water[i]: # add only unseen water\n",
    "                    water += max(0, water_level - height[i])\n",
    "                    under_water[i] = True\n",
    "\n",
    "            #print(peak1, peak2, water_level, water)\n",
    "            res += water\n",
    "\n",
    "        return res"
   ]
  },
  {
   "cell_type": "code",
   "execution_count": 177,
   "metadata": {
    "collapsed": true
   },
   "outputs": [],
   "source": [
    "# 2: with max left-to-right and right-to-left swipes\n",
    "\n",
    "from heapq import *\n",
    "\n",
    "\n",
    "class Solution(object):\n",
    "    def trap(self, height):\n",
    "        \"\"\"\n",
    "        :type height: List[int]\n",
    "        :rtype: int\n",
    "        \"\"\"\n",
    "\n",
    "        # ltr max\n",
    "        ltr = []\n",
    "        mx = 0\n",
    "\n",
    "        for h in height:\n",
    "            mx = max(h, mx)\n",
    "            ltr.append(mx)\n",
    "\n",
    "        # rtl max\n",
    "        mx = 0\n",
    "        rtl = []\n",
    "\n",
    "        for h in reversed(height):\n",
    "            mx = max(mx, h)\n",
    "            rtl.insert(0, mx)\n",
    "\n",
    "        # min(ltr,rtl)\n",
    "\n",
    "        min_lr = []\n",
    "\n",
    "        for l, r in zip(ltr, rtl):\n",
    "            min_lr.append(min(l, r))\n",
    "\n",
    "        # compute water\n",
    "\n",
    "        water = 0\n",
    "        for m, h in zip(min_lr, height):\n",
    "            water += m - h\n",
    "\n",
    "        return water"
   ]
  },
  {
   "cell_type": "code",
   "execution_count": 178,
   "metadata": {},
   "outputs": [
    {
     "data": {
      "text/plain": [
       "6"
      ]
     },
     "execution_count": 178,
     "metadata": {},
     "output_type": "execute_result"
    }
   ],
   "source": [
    "Solution().trap([0,1,0,2,1,0,1,3,2,1,2,1])"
   ]
  },
  {
   "cell_type": "code",
   "execution_count": 169,
   "metadata": {},
   "outputs": [
    {
     "data": {
      "text/plain": [
       "18"
      ]
     },
     "execution_count": 169,
     "metadata": {},
     "output_type": "execute_result"
    }
   ],
   "source": [
    "#~~~~#\n",
    "#~~~~#\n",
    "#~~~~#~#\n",
    "##~#~#~#~~#\n",
    "###########\n",
    "\n",
    "Solution().trap([5, 2, 1, 2, 1, 5, 1, 3, 1, 1, 2])"
   ]
  },
  {
   "cell_type": "code",
   "execution_count": 170,
   "metadata": {},
   "outputs": [
    {
     "data": {
      "text/plain": [
       "14"
      ]
     },
     "execution_count": 170,
     "metadata": {},
     "output_type": "execute_result"
    }
   ],
   "source": [
    "#~~~~#\n",
    "#~~~~#\n",
    "#~~~~#\n",
    "##~#~#\n",
    "######\n",
    "\n",
    "Solution().trap([5, 2, 1, 2, 1, 5])"
   ]
  },
  {
   "cell_type": "code",
   "execution_count": 171,
   "metadata": {},
   "outputs": [
    {
     "data": {
      "text/plain": [
       "0"
      ]
     },
     "execution_count": 171,
     "metadata": {},
     "output_type": "execute_result"
    }
   ],
   "source": [
    "Solution().trap([])"
   ]
  },
  {
   "cell_type": "code",
   "execution_count": 172,
   "metadata": {},
   "outputs": [
    {
     "data": {
      "text/plain": [
       "1"
      ]
     },
     "execution_count": 172,
     "metadata": {},
     "output_type": "execute_result"
    }
   ],
   "source": [
    "#\n",
    "##\n",
    "##\n",
    "## #\n",
    "####\n",
    "\n",
    "Solution().trap([5,4,1,2])"
   ]
  },
  {
   "cell_type": "code",
   "execution_count": null,
   "metadata": {
    "collapsed": true
   },
   "outputs": [],
   "source": []
  }
 ],
 "metadata": {
  "kernelspec": {
   "display_name": "Python 3",
   "language": "python",
   "name": "python3"
  }
 },
 "nbformat": 4,
 "nbformat_minor": 2
}

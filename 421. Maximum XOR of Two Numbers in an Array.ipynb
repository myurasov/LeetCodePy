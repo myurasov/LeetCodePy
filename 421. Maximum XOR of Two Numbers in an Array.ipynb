{
 "cells": [
  {
   "cell_type": "code",
   "execution_count": null,
   "metadata": {
    "collapsed": true
   },
   "outputs": [],
   "source": [
    "# see https://discuss.leetcode.com/topic/63213/java-o-n-solution-using-bit-manipulation-and-hashmap"
   ]
  },
  {
   "cell_type": "code",
   "execution_count": 44,
   "metadata": {
    "collapsed": true
   },
   "outputs": [],
   "source": [
    "class Solution(object):\n",
    "    def findMaximumXOR(self, nums):\n",
    "        \"\"\"\n",
    "        :type nums: List[int]\n",
    "        :rtype: int\n",
    "        \"\"\"\n",
    "\n",
    "        mx = 0\n",
    "        mask = 0\n",
    "\n",
    "        for i in reversed(range(32)):\n",
    "            # b1000..\n",
    "            # b1100..\n",
    "            # b1110..\n",
    "            mask = mask | (1 << i)\n",
    "\n",
    "            s = set()\n",
    "\n",
    "            for n in nums:\n",
    "                prefix = n & mask\n",
    "                s.add(prefix)\n",
    "\n",
    "            # candidate for max\n",
    "            c = mx | (1 << i)\n",
    "\n",
    "            for prefix in s:\n",
    "                if c ^ prefix in s:\n",
    "                    mx = c\n",
    "                    break\n",
    "\n",
    "        return mx"
   ]
  },
  {
   "cell_type": "code",
   "execution_count": 43,
   "metadata": {},
   "outputs": [
    {
     "data": {
      "text/plain": [
       "28"
      ]
     },
     "execution_count": 43,
     "metadata": {},
     "output_type": "execute_result"
    }
   ],
   "source": [
    "Solution().findMaximumXOR([3, 10, 5, 25, 2, 8])"
   ]
  }
 ],
 "metadata": {
  "kernelspec": {
   "display_name": "Python 3",
   "language": "python",
   "name": "python3"
  },
  "language_info": {
   "codemirror_mode": {
    "name": "ipython",
    "version": 3
   },
   "file_extension": ".py",
   "mimetype": "text/x-python",
   "name": "python",
   "nbconvert_exporter": "python",
   "pygments_lexer": "ipython3",
   "version": "3.5.2"
  }
 },
 "nbformat": 4,
 "nbformat_minor": 2
}

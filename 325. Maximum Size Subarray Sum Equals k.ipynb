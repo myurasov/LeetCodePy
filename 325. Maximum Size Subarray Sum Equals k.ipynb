{
 "cells": [
  {
   "cell_type": "code",
   "execution_count": 109,
   "metadata": {},
   "outputs": [],
   "source": [
    "# O(N^2)\n",
    "class Solution(object):\n",
    "    def maxSubArrayLen(self, nums, k):\n",
    "        \"\"\"\n",
    "        :type nums: List[int]\n",
    "        :type k: int\n",
    "        :rtype: int\n",
    "        \"\"\"\n",
    "\n",
    "        if not nums: return 0\n",
    "\n",
    "        r = 0\n",
    "        s = [0] * len(nums)\n",
    "\n",
    "        s[0] = nums[0]\n",
    "        for i in range(1, len(nums)):\n",
    "            s[i] = s[i - 1] + nums[i]\n",
    "\n",
    "        for i in range(len(nums)):\n",
    "            for j in range(i, len(nums)):\n",
    "                sum_ij = s[j] - (s[i - 1] if i > 0 else 0)\n",
    "                if sum_ij == k:\n",
    "                    r = max(r, j - i + 1)\n",
    "\n",
    "        return r"
   ]
  },
  {
   "cell_type": "code",
   "execution_count": 118,
   "metadata": {},
   "outputs": [],
   "source": [
    "# O(N)\n",
    "class Solution(object):\n",
    "    def maxSubArrayLen(self, nums, k):\n",
    "        res = 0\n",
    "        s = 0\n",
    "        m = {0: -1}  # s : i\n",
    "\n",
    "        for i in range(len(nums)):\n",
    "\n",
    "            s += nums[i]\n",
    "\n",
    "            if s not in m:\n",
    "                m[s] = i\n",
    "\n",
    "            if s - k in m:  # s[x...i] = s - s + k == k\n",
    "                res = max(res, i - m[s - k])  # same as s[j]-s[i-1] above\n",
    "\n",
    "        return res"
   ]
  },
  {
   "cell_type": "code",
   "execution_count": 119,
   "metadata": {},
   "outputs": [
    {
     "data": {
      "text/plain": [
       "4"
      ]
     },
     "execution_count": 119,
     "metadata": {},
     "output_type": "execute_result"
    }
   ],
   "source": [
    "Solution().maxSubArrayLen([1, -1, 5, -2, 3], 3)"
   ]
  },
  {
   "cell_type": "code",
   "execution_count": 120,
   "metadata": {},
   "outputs": [
    {
     "data": {
      "text/plain": [
       "2"
      ]
     },
     "execution_count": 120,
     "metadata": {},
     "output_type": "execute_result"
    }
   ],
   "source": [
    "Solution().maxSubArrayLen([-2, -1, 2, 1], 1)"
   ]
  },
  {
   "cell_type": "code",
   "execution_count": null,
   "metadata": {},
   "outputs": [],
   "source": []
  },
  {
   "cell_type": "code",
   "execution_count": null,
   "metadata": {},
   "outputs": [],
   "source": []
  }
 ],
 "metadata": {
  "kernelspec": {
   "display_name": "Python 3",
   "language": "python",
   "name": "python3"
  },
  "language_info": {
   "codemirror_mode": {
    "name": "ipython",
    "version": 3
   },
   "file_extension": ".py",
   "mimetype": "text/x-python",
   "name": "python",
   "nbconvert_exporter": "python",
   "pygments_lexer": "ipython3",
   "version": "3.5.2"
  }
 },
 "nbformat": 4,
 "nbformat_minor": 2
}

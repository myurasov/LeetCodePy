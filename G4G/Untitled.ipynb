{
 "cells": [
  {
   "cell_type": "code",
   "execution_count": 54,
   "metadata": {},
   "outputs": [
    {
     "name": "stdout",
     "output_type": "stream",
     "text": [
      "32\n",
      "32\n",
      "2\n"
     ]
    }
   ],
   "source": [
    "\"\"\"\n",
    "Input : n = 10\n",
    "Output : 8\n",
    "\n",
    "Input : n = 19\n",
    "Output : 16\n",
    "\n",
    "Input : n = 32\n",
    "Output : 32\n",
    "\"\"\"\n",
    "\n",
    "def highest2pow(n):\n",
    "    r = 1\n",
    "    while r <= n:\n",
    "        r = r << 1\n",
    "    return r >> 1\n",
    "\n",
    "print(highest2pow(33))\n",
    "print(highest2pow(32))\n",
    "print(highest2pow(3))"
   ]
  },
  {
   "cell_type": "code",
   "execution_count": null,
   "metadata": {},
   "outputs": [],
   "source": []
  }
 ],
 "metadata": {
  "kernelspec": {
   "display_name": "Python 3",
   "language": "python",
   "name": "python3"
  },
  "language_info": {
   "codemirror_mode": {
    "name": "ipython",
    "version": 3
   },
   "file_extension": ".py",
   "mimetype": "text/x-python",
   "name": "python",
   "nbconvert_exporter": "python",
   "pygments_lexer": "ipython3",
   "version": "3.5.2"
  }
 },
 "nbformat": 4,
 "nbformat_minor": 2
}
